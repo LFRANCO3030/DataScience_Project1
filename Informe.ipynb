{
  "nbformat": 4,
  "nbformat_minor": 0,
  "metadata": {
    "colab": {
      "provenance": [],
      "toc_visible": true,
      "authorship_tag": "ABX9TyPhod+MN53H82QrdbB6JRHG",
      "include_colab_link": true
    },
    "kernelspec": {
      "name": "python3",
      "display_name": "Python 3"
    },
    "language_info": {
      "name": "python"
    }
  },
  "cells": [
    {
      "cell_type": "markdown",
      "metadata": {
        "id": "view-in-github",
        "colab_type": "text"
      },
      "source": [
        "<a href=\"https://colab.research.google.com/github/LFRANCO3030/DataScience_Project1/blob/main/Informe.ipynb\" target=\"_parent\"><img src=\"https://colab.research.google.com/assets/colab-badge.svg\" alt=\"Open In Colab\"/></a>"
      ]
    },
    {
      "cell_type": "markdown",
      "source": [
        "**Informe Challenge DataScience - Caso Tiendas**\n",
        "# Informe Final\n",
        "## A. Sintomas\n",
        "## A.1 Ingresos vs Costo Envio\n",
        "\n",
        "* Si consideramos el margen como la resta entre el ingreso y el costo de envio, podemos notar que las tiendas 1 y 2 generan un margen por encima del promedio en comparacion con las tiendas 3 y 4 siendo la tienda 4 quien ocupa el ultimo lugar.\n",
        "\n",
        "## A.2 Calificación Promedio\n",
        "* La Tienda 1 obtuvo la menor calificacion promedio por parte de los clientes, esto significa que el servicio que ofrece no es bueno pese a que los productos que y precios que ofrece la Tienda 1 son competitivos\n",
        "\n",
        "## B. Diagnostico\n",
        "## B.1 Economico  \n",
        "*La Tienda 4 ocupa el ultimo lugar en la generacion del margen, generando un  aporte del 23.58%, en comparacion con la Tienda 1(26.13%), Tienda 2(25.35%), Tienda 3(24.93%)\n",
        "\n",
        "## B.2 Comercial  \n",
        "*La\n"
      ],
      "metadata": {
        "id": "ULk6d-0iArAs"
      }
    }
  ]
}