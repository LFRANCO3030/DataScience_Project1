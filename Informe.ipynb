{
  "nbformat": 4,
  "nbformat_minor": 0,
  "metadata": {
    "colab": {
      "provenance": [],
      "toc_visible": true,
      "authorship_tag": "ABX9TyPYK2CrIi6qPzzdKfm+4vt0",
      "include_colab_link": true
    },
    "kernelspec": {
      "name": "python3",
      "display_name": "Python 3"
    },
    "language_info": {
      "name": "python"
    }
  },
  "cells": [
    {
      "cell_type": "markdown",
      "metadata": {
        "id": "view-in-github",
        "colab_type": "text"
      },
      "source": [
        "<a href=\"https://colab.research.google.com/github/LFRANCO3030/DataScience_Project1/blob/main/Informe.ipynb\" target=\"_parent\"><img src=\"https://colab.research.google.com/assets/colab-badge.svg\" alt=\"Open In Colab\"/></a>"
      ]
    },
    {
      "cell_type": "markdown",
      "source": [
        "**Informe Challenge DataScience - Caso Tiendas**\n",
        "# Informe Final\n",
        "# A. Sintomas\n",
        "## A.1 Ingresos\n",
        "* Podemos notar que los ingresos de tienda 1(1.15 blls), tienda 2(1.12 blls) y tienda 3(1.10 blls) son igual o mayor al promedio grupal (1.10 blls), siendo la tienda 4 quien ocupa el ultimo lugar (1.04 blls).\n",
        "\n",
        "## A.2 Costo de Envio\n",
        "* Siendo el promedio grupal de 24.87 mil, se observa que la tienda 1 presenta el nivel mas alto con un valor de 26.02 miles , y la tienda 4 con un valor optimo de 23.46 miles.\n",
        "\n",
        "## A.3 Categorias de Ventas - Rotacion\n",
        "* Las principales 5 categorias en orden de rotacion se distribuye de la siguiente forma: 1.Muebles, 2.Electronicos, 3.Juguetes, 4.Electrodomesticos,5. Deporte y Diversion\n",
        "* **Categoria de Muebles.** El primer lugar lo ocupa la Tienda 3 seguido de la tienda 4 ambas superan el promedio\n",
        "* **Categoria Electronicos.** La tienda 3 y 4 ocupan el primer lugar\n",
        "* **Categoria Juguetes.** La tienda 4 ocupa el primer lugar\n",
        "* **Categoria Electrodomesticos.** La tienda 1 ocupa el primer lugar y la tienda 4 la ultima posicion en ventas\n",
        "* **Categoria Deporte y Diversion.** La tienda 1 ocupa el primer lugar y el ultimo lo ocupa la tienda 4.\n",
        "\n",
        "## A.4 Calificación Promedio\n",
        "* Las peores calificaciones fueron obtenidas por la Tienda 1(3.98) y la Tienda 4 (4.0) siendo el promedio grupal (4.02)\n",
        "\n",
        "# B. Diagnostico\n",
        "## B.1 Margen Economico  \n",
        "* Si consideramos el indice de margen obtenido por las tiendas, en funcion a ingresos y el costos(costo de envio). La Tienda 4 ocupa el ultimo lugar en la generacion del margen, generando un  aporte del 23.58%, en comparacion con la Tienda 1(26.13%), Tienda 2(25.35%), Tienda 3(24.93%)\n",
        "\n",
        "## B.2 Costos de Envio\n",
        "* La tienda 4 presenta costos optimos de envio (23.46 miles) con referencia a un promedio de 24.87 miles cabe indicar que el costo de envio es proporcional a la rotacion de sus productos.\n",
        "* La tienda 1 presenta el mayor costo de envio con 26.2 miles, el mismo que es proporcional a su rotacion de productos.\n",
        "\n",
        "## B.3 Ventas por Categoria\n",
        "* La informacion de ventas por Categoria muestra que la tienda 4 esta por encima del promedio en  ventas de las categoria de Muebles y Electronicos. Se observa que el primer lugar en la venta de juguetes y en ultimo lugar en Electrodomesticos , Deporte y Diversion  \n",
        "* El comportamiento en ventas por categoria demuestra que aunque mantiene una rotacion promedio en las categorias de Muebles, Electronico y Juguetes sin embargo en Electrodomesticos y Deportes presenta la peor rotacion del grupo.    \n",
        "\n",
        "## B.4 Nivel de Satisfaccion del Cliente\n",
        "* La Tienda 4 ocupa el tercer lugar de calificacion de cliente obtuvo un 4.00 de un promedio grupal de 4.02 , esto representa un riesgo sobre la imagen de la marca, que puede ser aprovechada por la competencia.\n",
        "* Los motivos de una baja calificacion,se enfocan en el servicio al cliente(atención,calidad de los productos, variedad de productos, presentacion,medios de pago,puntualidad,etc). se debe identificar los indicadores y tomar medidas correctivas.\n",
        "* Un buen nivel de ingresos por venta puede verse afectado por una baja satisfaccion de parte del cliente, quien buscara en la competencia una mejor experiencia.   \n",
        "\n",
        "# C. Conclusiones\n",
        "1. La tienda 4 debe venderse por el bajo nivel de margen que genera dentro del grupo de tiendas.\n",
        "2. Presenta un riesgo el su calificacion promedio del cliente la misma que puede impactar en un cambio de preferencia del cliente por la competencia\n",
        "\n",
        "# D. Recomendaciones\n",
        "## D.1 Estrategia Comercial - Cross Selling Productos\n",
        "* La aplicacion de cross selling tomando en cuenta los productos mas y menos vendidos ofrece oportunidades de crear campañas juntando productos de alta y baja rotacion, por ejemplo en el caso de las tiendas 1 y 2 se puede armar al promocion (mesa comedor + microndas)\n",
        "\n",
        "## D.3 Costos de Envio\n",
        "* Llevar a cabo un control sobre el proceso de distribucion con enfoque sobre los costos, manteniendo costos optimos que no afecten el margen. En el caso de la tienda\n",
        "* Los costos altos de envio pueden tener varias razones , desde contratos con proveedores en contra del negocio, zonas  geograficas que impactan en gastos, procesos de distribucion desactualizados.     \n"
      ],
      "metadata": {
        "id": "ULk6d-0iArAs"
      }
    }
  ]
}