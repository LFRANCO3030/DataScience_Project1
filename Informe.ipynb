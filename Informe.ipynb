{
  "nbformat": 4,
  "nbformat_minor": 0,
  "metadata": {
    "colab": {
      "provenance": [],
      "toc_visible": true,
      "authorship_tag": "ABX9TyMyJag8Os4vvTnqAMs/1PdV",
      "include_colab_link": true
    },
    "kernelspec": {
      "name": "python3",
      "display_name": "Python 3"
    },
    "language_info": {
      "name": "python"
    }
  },
  "cells": [
    {
      "cell_type": "markdown",
      "metadata": {
        "id": "view-in-github",
        "colab_type": "text"
      },
      "source": [
        "<a href=\"https://colab.research.google.com/github/LFRANCO3030/DataScience_Project1/blob/main/Informe.ipynb\" target=\"_parent\"><img src=\"https://colab.research.google.com/assets/colab-badge.svg\" alt=\"Open In Colab\"/></a>"
      ]
    },
    {
      "cell_type": "markdown",
      "source": [
        "**Informe Challenge DataScience - Caso Tiendas**\n",
        "# Informe Final\n",
        "# A. Sintomas\n",
        "## A.1 Ingresos\n",
        "* Podemos notar que los ingresos de tienda 1(1.15 blls), tienda 2(1.12 blls) y tienda 3(1.10 blls) son igual o mayor al promedio grupal (1.10 blls), siendo la tienda 4 quien ocupa el ultimo lugar (1.04 blls).\n",
        "\n",
        "## A.2 Costo de Envio\n",
        "*Siendo el promedio grupal de 24.87 mil, se observa que la tienda 1 presenta el nivel mas alto con un valor de 26.02 miles , y la tienda 4 con un valor optimo de 23.46 miles.\n",
        "\n",
        "## A.3 Calificación Promedio\n",
        "* La Tienda 1 obtuvo la menor calificacion promedio por parte de los clientes, esto significa que el servicio que ofrece no es bueno pese a que los productos que y precios que ofrece la Tienda 1 son competitivos\n",
        "\n",
        "# B. Diagnostico\n",
        "## B.1 Margen Economico  \n",
        "* Si consideramos el indice de margen obtenido por las tiendas, en funcion al ingreso y el costo de envio. La Tienda 4 ocupa el ultimo lugar en la generacion del margen, generando un  aporte del 23.58%, en comparacion con la Tienda 1(26.13%), Tienda 2(25.35%), Tienda 3(24.93%)\n",
        "\n",
        "## B.2 Costos de Distribucion\n",
        "* Llevar a cabo un control sobre el proceso de distribucion con enfoque sobre los costos de envio, manteniendo costos optimos que no afecten el margen. En el caso de la tienda\n",
        "* La tienda 4 presenta costos optimos de envio sin embargo no se ven aprovechados porque su nivel de ventas es bajo\n",
        "* Los costos altos de envio pueden tener varias razones , desde contratos con proveedores en contra del negocio, zonas  geograficas que impactan en gastos, procesos de distribucion desactualizados.     \n",
        "\n",
        "## B.3 Nivel de Satisfaccion del Cliente\n",
        "* La Tienda 4 ocupa el tercer lugar de calificacion de cliente obtuvo un 4.00 de un promedio grupal de 4.02 , esto representa un riesgo sobre la imagen de la marca, que puede ser aprovechada por la competencia.\n",
        "* Los motivos de una baja calificacion,se enfocan en el servicio al cliente(atención,calidad de los productos, variedad de productos, presentacion,medios de pago,puntualidad,etc). se debe identificar los indicadores y tomar medidas correctivas.\n",
        "* Un buen nivel de ingresos por venta puede verse afectado por una baja satisfaccion de parte del cliente, quien buscara en la competencia una mejor experiencia.   \n",
        "\n",
        "# C. Conclusiones\n",
        "1.   La tienda 4 debe venderse por el bajo nivel de margen que genera dentro del grupo de tiendas\n",
        "\n",
        "# D. Recomendaciones\n",
        "## D.1 Estrategia Comercial - Cross Selling Productos\n",
        "* La aplicacion de cross selling tomando en cuenta los productos mas y menos vendidos ofrece oportunidades de crear campañas juntando productos de alta y baja rotacion, por ejemplo en el caso de las tiendas 1 y 2 se puede armar al promocion (mesa comedor + microndas)\n",
        "\n",
        "## D.2 Estrategia Comercial Categorias\n",
        "*\n"
      ],
      "metadata": {
        "id": "ULk6d-0iArAs"
      }
    }
  ]
}