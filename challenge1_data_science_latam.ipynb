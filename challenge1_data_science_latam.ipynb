{
  "nbformat": 4,
  "nbformat_minor": 0,
  "metadata": {
    "colab": {
      "provenance": []
    },
    "kernelspec": {
      "name": "python3",
      "display_name": "Python 3"
    },
    "language_info": {
      "name": "python"
    }
  },
  "cells": [
    {
      "cell_type": "code",
      "execution_count": null,
      "metadata": {
        "id": "zSxS5yoPhqKq",
        "colab": {
          "base_uri": "https://localhost:8080/"
        },
        "outputId": "367a5ac4-7e71-484c-9d2a-b2ed75f6cf71"
      },
      "outputs": [
        {
          "output_type": "stream",
          "name": "stdout",
          "text": [
            "Cloning into 'challenge1-data-science-latam'...\n",
            "remote: Enumerating objects: 10, done.\u001b[K\n",
            "remote: Counting objects: 100% (8/8), done.\u001b[K\n",
            "remote: Compressing objects: 100% (5/5), done.\u001b[K\n",
            "remote: Total 10 (delta 3), reused 3 (delta 3), pack-reused 2 (from 1)\u001b[K\n",
            "Receiving objects: 100% (10/10), 171.26 KiB | 3.64 MiB/s, done.\n",
            "Resolving deltas: 100% (3/3), done.\n"
          ]
        }
      ],
      "source": [
        "# Clonamos repositorio de DAtos de Github en Drive\n",
        "! git clone https://github.com/alura-es-cursos/challenge1-data-science-latam.git"
      ]
    },
    {
      "cell_type": "code",
      "source": [
        "# rutina para uso de pandas\n",
        "#import pandas as pd"
      ],
      "metadata": {
        "id": "9aRbT1wZihHi"
      },
      "execution_count": null,
      "outputs": []
    },
    {
      "cell_type": "code",
      "source": [
        "#from google.colab import drive\n",
        "#drive.mount('/content/drive')"
      ],
      "metadata": {
        "id": "KuXkYAeS1wTR"
      },
      "execution_count": null,
      "outputs": []
    },
    {
      "cell_type": "code",
      "source": [
        "#data= pd.read_csv(\"/content/challenge1-data-science-latam/base-de-datos-challenge1-latam/tienda_1 .csv\")"
      ],
      "metadata": {
        "id": "O22dgkPajHmJ"
      },
      "execution_count": null,
      "outputs": []
    },
    {
      "cell_type": "code",
      "source": [
        "#data.head()"
      ],
      "metadata": {
        "id": "0XdxJkfPj-Ay"
      },
      "execution_count": null,
      "outputs": []
    },
    {
      "cell_type": "code",
      "source": [
        "# Funcion para Calculo de Ingresos\n",
        "def calculo_ingresos (tienda):\n",
        "    import csv\n",
        "    # Abre el archivo CSV en modo lectura ('r')\n",
        "    with open(tienda) as archivo_csv:\n",
        "        # Crea un objeto lector para el archivo CSV\n",
        "        lector_csv = csv.reader(archivo_csv)\n",
        "\n",
        "        # Lee la primera fila (cabeceras de las columnas)\n",
        "        cabeceras = next(lector_csv, None)  # 'None' para manejar archivos vacíos\n",
        "\n",
        "        # Imprime las cabeceras (opcional)\n",
        "        #print(\"Cabeceras:\", cabeceras)\n",
        "        suma = 0\n",
        "        contador = 0\n",
        "        # Itera sobre cada fila del archivo\n",
        "        for fila in lector_csv:\n",
        "            # Accede a los valores de cada columna usando el índice\n",
        "            # Por ejemplo: fila[0] es la primera columna, fila[1] la segunda, etc.\n",
        "            #print(\"Datos:\", fila)\n",
        "            # Realiza operaciones con los datos de cada fila\n",
        "            precio = float(fila[2])\n",
        "            suma += precio\n",
        "            #contador += 1\n",
        "            #if contador ==3:\n",
        "            #  break\n",
        "            #else:\n",
        "            #  continue\n",
        "    return suma\n"
      ],
      "metadata": {
        "id": "08zKn8ll_cxn"
      },
      "execution_count": null,
      "outputs": []
    },
    {
      "cell_type": "code",
      "source": [
        "# Programa Principal para calculo de Ingresos por Tienda\n",
        "resumen_ingreso = []\n",
        "\n",
        "# Calculo de Ingresos Tienda 1\n",
        "tienda = '/content/challenge1-data-science-latam/base-de-datos-challenge1-latam/tienda_1 .csv'\n",
        "resultado = calculo_ingresos(tienda)\n",
        "\n",
        "print('Ingreso Total Tienda 1 = {:,.2f}'.format(resultado))\n",
        "resumen_ingreso.append(resultado)\n",
        "\n",
        "\n",
        "# Calculo de Ingresos tienda 2\n",
        "tienda = '/content/challenge1-data-science-latam/base-de-datos-challenge1-latam/tienda_2.csv'\n",
        "resultado = calculo_ingresos(tienda)\n",
        "\n",
        "print('Ingreso Total Tienda 2 = {:,.2f}'.format(resultado))\n",
        "resumen_ingreso.append(resultado)\n",
        "\n",
        "\n",
        "# Calculo de Ingresos tienda 3\n",
        "tienda = '/content/challenge1-data-science-latam/base-de-datos-challenge1-latam/tienda_3.csv'\n",
        "resultado = calculo_ingresos(tienda)\n",
        "\n",
        "print('Ingreso Total Tienda 3 = {:,.2f}'.format(resultado))\n",
        "resumen_ingreso.append(resultado)\n",
        "\n",
        "\n",
        "# Calculo de Ingresos tienda 4\n",
        "tienda = '/content/challenge1-data-science-latam/base-de-datos-challenge1-latam/tienda_4.csv'\n",
        "resultado = calculo_ingresos(tienda)\n",
        "\n",
        "print('Ingreso Total Tienda 4 = {:,.2f}'.format(resultado))\n",
        "resumen_ingreso.append(resultado)\n",
        "\n"
      ],
      "metadata": {
        "id": "RHVZumf0QfIv",
        "colab": {
          "base_uri": "https://localhost:8080/"
        },
        "outputId": "3d418907-c99d-49b3-f9bb-3a1da2c79975"
      },
      "execution_count": null,
      "outputs": [
        {
          "output_type": "stream",
          "name": "stdout",
          "text": [
            "Ingreso Total Tienda 1 = 1,150,880,400.00\n",
            "Ingreso Total Tienda 2 = 1,116,343,500.00\n",
            "Ingreso Total Tienda 3 = 1,098,019,600.00\n",
            "Ingreso Total Tienda 4 = 1,038,375,700.00\n"
          ]
        }
      ]
    },
    {
      "cell_type": "code",
      "source": [
        "# Funcion para Calculo de cantidad de productos vendidos por Categoria/Tienda\n",
        "def conteo_ventas (tienda,columna_a_contar):\n",
        "    conteo_por_valor = {}\n",
        "    import csv\n",
        "    # Abre el archivo CSV en modo lectura ('r')\n",
        "    with open(tienda,'r',newline ='') as archivo_csv:\n",
        "        # Crea un objeto lector para el archivo CSV\n",
        "        lector_csv = csv.reader(archivo_csv)\n",
        "        next(lector_csv,None)\n",
        "\n",
        "        # Lee la primera fila (cabeceras de las columnas)\n",
        "        #cabeceras = next(lector_csv, None)  # 'None' para manejar archivos vacíos\n",
        "\n",
        "        # Imprime las cabeceras (opcional)\n",
        "        #print(\"Cabeceras:\", cabeceras)\n",
        "        #suma = 0\n",
        "        contador = 0\n",
        "\n",
        "        # Itera sobre cada fila del archivo\n",
        "        for fila in lector_csv:\n",
        "            # Accede a los valores de cada columna usando el índice\n",
        "            # Por ejemplo: fila[0] es la primera columna, fila[1] la segunda, etc.\n",
        "            #print(\"Datos:\", fila)\n",
        "            # Realiza operaciones con los datos de cada fila\n",
        "            valor = fila[columna_a_contar]\n",
        "            if valor in conteo_por_valor:\n",
        "                conteo_por_valor[valor] += 1\n",
        "            else:\n",
        "                conteo_por_valor[valor] = 1\n",
        "            contador += 1\n",
        "            #if contador ==3:\n",
        "            #  break\n",
        "            #else:\n",
        "            #  continue\n",
        "    return conteo_por_valor"
      ],
      "metadata": {
        "id": "8M4rMQw2Vh7q"
      },
      "execution_count": null,
      "outputs": []
    },
    {
      "cell_type": "code",
      "source": [
        "# Programa Principal para conteo de ventas por Categoria/Tienda\n",
        "\n",
        "# Calculo de conteo de ventas por Categoria Tienda 1\n",
        "tienda = '/content/challenge1-data-science-latam/base-de-datos-challenge1-latam/tienda_1 .csv'\n",
        "columna_a_contar = 1\n",
        "resultado = conteo_ventas(tienda,columna_a_contar)\n",
        "resultado_sort = dict(sorted(resultado.items(), key=lambda item: item[1], reverse = True)[:3])\n",
        "#resultado_sort = dict(sorted(resultado.items(), key=lambda item: item[1], reverse = True))\n",
        "\n",
        "lista_categorias = list(resultado_sort.keys())\n",
        "lista_ventas = list(resultado_sort.values())\n",
        "\n",
        "# Imprimir los resultados\n",
        "print('\\n'\"Categorias mas populares Tienda 1\")\n",
        "for valor, conteo in resultado_sort.items():\n",
        "    print(f\"{valor},{conteo}\")\n",
        "\n",
        "# Calculo de conteo de ventas por Categoria Tienda 2\n",
        "tienda = '/content/challenge1-data-science-latam/base-de-datos-challenge1-latam/tienda_2.csv'\n",
        "columna_a_contar = 1\n",
        "resultado = conteo_ventas(tienda,columna_a_contar)\n",
        "resultado_sort = dict(sorted(resultado.items(), key=lambda item: item[1], reverse = True)[:3])\n",
        "#resultado_sort = dict(sorted(resultado.items(), key=lambda item: item[1], reverse = True))\n",
        "\n",
        "\n",
        "# Imprimir los resultados\n",
        "print('\\n'\"Categorias mas populares Tienda 2\")\n",
        "for valor, conteo in resultado_sort.items():\n",
        "    print(f\"{valor},{conteo}\")\n",
        "\n",
        "# Calculo de conteo de ventas por Categoria Tienda 3\n",
        "tienda = '/content/challenge1-data-science-latam/base-de-datos-challenge1-latam/tienda_3.csv'\n",
        "columna_a_contar = 1\n",
        "resultado = conteo_ventas(tienda,columna_a_contar)\n",
        "resultado_sort = dict(sorted(resultado.items(), key=lambda item: item[1], reverse = True)[:3])\n",
        "#resultado_sort = dict(sorted(resultado.items(), key=lambda item: item[1], reverse = True))\n",
        "\n",
        "\n",
        "# Imprimir los resultados\n",
        "print('\\n'\"Categorias mas populares Tienda 3\")\n",
        "for valor, conteo in resultado_sort.items():\n",
        "    print(f\"{valor}, {conteo}\")\n",
        "\n",
        "# Calculo de conteo de ventas por Categoria Tienda 4\n",
        "tienda = '/content/challenge1-data-science-latam/base-de-datos-challenge1-latam/tienda_4.csv'\n",
        "columna_a_contar = 1\n",
        "resultado = conteo_ventas(tienda,columna_a_contar)\n",
        "resultado_sort = dict(sorted(resultado.items(), key=lambda item: item[1], reverse = True)[:3])\n",
        "#resultado_sort = dict(sorted(resultado.items(), key=lambda item: item[1], reverse = True))\n",
        "\n",
        "\n",
        "# Imprimir los resultados\n",
        "print('\\n'\"Categorias mas populares Tienda 4\")\n",
        "for valor, conteo in resultado_sort.items():\n",
        "    print(f\"{valor},{conteo}\")\n",
        "\n"
      ],
      "metadata": {
        "colab": {
          "base_uri": "https://localhost:8080/"
        },
        "id": "Ks4LvQckc0nC",
        "outputId": "8c5aea8b-0aaf-41b0-8e7d-38bc83b2ad76"
      },
      "execution_count": null,
      "outputs": [
        {
          "output_type": "stream",
          "name": "stdout",
          "text": [
            "\n",
            "Categorias mas populares Tienda 1\n",
            "Muebles,465\n",
            "Electrónicos,448\n",
            "Juguetes,324\n",
            "\n",
            "Categorias mas populares Tienda 2\n",
            "Muebles,442\n",
            "Electrónicos,422\n",
            "Juguetes,313\n",
            "\n",
            "Categorias mas populares Tienda 3\n",
            "Muebles, 499\n",
            "Electrónicos, 451\n",
            "Juguetes, 315\n",
            "\n",
            "Categorias mas populares Tienda 4\n",
            "Muebles,480\n",
            "Electrónicos,451\n",
            "Juguetes,338\n"
          ]
        }
      ]
    },
    {
      "cell_type": "code",
      "source": [
        "# Funcion para calculo de calificacion Promedio de Satisfaccion\n",
        "def calculo_calificacion (tienda,columna_a_sumar):\n",
        "    import csv\n",
        "    # Abre el archivo CSV en modo lectura ('r')\n",
        "    with open(tienda) as archivo_csv:\n",
        "        # Crea un objeto lector para el archivo CSV\n",
        "        lector_csv = csv.reader(archivo_csv)\n",
        "\n",
        "        # Lee la primera fila (cabeceras de las columnas)\n",
        "        cabeceras = next(lector_csv, None)  # 'None' para manejar archivos vacíos\n",
        "\n",
        "        # Imprime las cabeceras (opcional)\n",
        "        # print(\"Cabeceras:\", cabeceras)\n",
        "        suma = 0\n",
        "        contador = 0\n",
        "        # Itera sobre cada fila del archivo\n",
        "        for fila in lector_csv:\n",
        "            # Accede a los valores de cada columna usando el índice\n",
        "            # Por ejemplo: fila[0] es la primera columna, fila[1] la segunda, etc.\n",
        "            #print(\"Datos:\", fila)\n",
        "            # Realiza operaciones con los datos de cada fila\n",
        "            calificacion = float(fila[columna_a_sumar])\n",
        "            suma += calificacion\n",
        "            contador += 1\n",
        "            #if contador ==3:\n",
        "            #  break\n",
        "            #else:\n",
        "            #  continue\n",
        "    promedio_calificacion = suma/contador\n",
        "    return promedio_calificacion\n"
      ],
      "metadata": {
        "id": "TrTzoHGTGam1"
      },
      "execution_count": null,
      "outputs": []
    },
    {
      "cell_type": "code",
      "source": [
        "# Programa Principal para promedio de satisfaccion por Tienda\n",
        "\n",
        "promedio_satisfaccion =[]\n",
        "\n",
        "# Calculo de promedio de satisfaccion Tienda 1\n",
        "tienda = '/content/challenge1-data-science-latam/base-de-datos-challenge1-latam/tienda_1 .csv'\n",
        "columna_a_sumar = 7\n",
        "resultado = round(calculo_calificacion(tienda,columna_a_sumar),2)\n",
        "promedio_satisfaccion.append(resultado)\n",
        "print('\\n''Valoracion Media Tienda 1 = {:,.2f}'.format(resultado))\n",
        "\n",
        "# Calculo de promedio de satisfaccion Tienda 2\n",
        "tienda = '/content/challenge1-data-science-latam/base-de-datos-challenge1-latam/tienda_2.csv'\n",
        "columna_a_sumar = 7\n",
        "resultado = round(calculo_calificacion(tienda,columna_a_sumar),2)\n",
        "promedio_satisfaccion.append(resultado)\n",
        "print('\\n''Valoracion Media Tienda 2 = {:,.2f}'.format(resultado))\n",
        "\n",
        "# Calculo de promedio de satisfaccion Tienda 3\n",
        "tienda = '/content/challenge1-data-science-latam/base-de-datos-challenge1-latam/tienda_3.csv'\n",
        "columna_a_sumar = 7\n",
        "resultado = round(calculo_calificacion(tienda,columna_a_sumar),2)\n",
        "promedio_satisfaccion.append(resultado)\n",
        "print('\\n''Valoracion Media Tienda 3 = {:,.2f}'.format(resultado))\n",
        "\n",
        "# Calculo de promedio de satisfaccion Tienda 4\n",
        "tienda = '/content/challenge1-data-science-latam/base-de-datos-challenge1-latam/tienda_4.csv'\n",
        "columna_a_sumar = 7\n",
        "resultado = round(calculo_calificacion(tienda,columna_a_sumar),2)\n",
        "promedio_satisfaccion.append(resultado)\n",
        "print('\\n''Valoracion Media Tienda 4 = {:,.2f}'.format(resultado))\n"
      ],
      "metadata": {
        "colab": {
          "base_uri": "https://localhost:8080/"
        },
        "id": "tqqdJVjBQyTb",
        "outputId": "daca46e6-4110-4e37-c427-924f8527bbe0"
      },
      "execution_count": null,
      "outputs": [
        {
          "output_type": "stream",
          "name": "stdout",
          "text": [
            "\n",
            "Valoracion Media Tienda 1 = 3.98\n",
            "\n",
            "Valoracion Media Tienda 2 = 4.04\n",
            "\n",
            "Valoracion Media Tienda 3 = 4.05\n",
            "\n",
            "Valoracion Media Tienda 4 = 4.00\n"
          ]
        }
      ]
    },
    {
      "cell_type": "code",
      "source": [
        "# Funcion para Calculo de los productos mas vendidos Tienda\n",
        "def conteo_ventas (tienda,columna_a_contar):\n",
        "    conteo_por_valor = {}\n",
        "    import csv\n",
        "    # Abre el archivo CSV en modo lectura ('r')\n",
        "    with open(tienda,'r',newline ='') as archivo_csv:\n",
        "        # Crea un objeto lector para el archivo CSV\n",
        "        lector_csv = csv.reader(archivo_csv)\n",
        "        next(lector_csv,None)\n",
        "\n",
        "        # Lee la primera fila (cabeceras de las columnas)\n",
        "        #cabeceras = next(lector_csv, None)  # 'None' para manejar archivos vacíos\n",
        "\n",
        "        # Imprime las cabeceras (opcional)\n",
        "        #print(\"Cabeceras:\", cabeceras)\n",
        "        #suma = 0\n",
        "        contador = 0\n",
        "\n",
        "        # Itera sobre cada fila del archivo\n",
        "        for fila in lector_csv:\n",
        "            # Accede a los valores de cada columna usando el índice\n",
        "            # Por ejemplo: fila[0] es la primera columna, fila[1] la segunda, etc.\n",
        "            #print(\"Datos:\", fila)\n",
        "            # Realiza operaciones con los datos de cada fila\n",
        "            valor = fila[columna_a_contar]\n",
        "            if valor in conteo_por_valor:\n",
        "                conteo_por_valor[valor] += 1\n",
        "            else:\n",
        "                conteo_por_valor[valor] = 1\n",
        "            contador += 1\n",
        "            #if contador ==3:\n",
        "            #  break\n",
        "            #else:\n",
        "            #  continue\n",
        "    return conteo_por_valor"
      ],
      "metadata": {
        "id": "UJwWEv16TzvF"
      },
      "execution_count": null,
      "outputs": []
    },
    {
      "cell_type": "code",
      "source": [
        "# Programa Principal para productos maximos y minimos en ventas porTienda\n",
        "\n",
        "# Calculo de conteo de ventas por Categoria Tienda 1\n",
        "tienda = '/content/challenge1-data-science-latam/base-de-datos-challenge1-latam/tienda_1 .csv'\n",
        "columna_a_contar = 0\n",
        "resultado = conteo_ventas(tienda,columna_a_contar)\n",
        "resultado_sort_max = dict(sorted(resultado.items(), key=lambda item: item[1], reverse = True)[:3])\n",
        "resultado_sort_min = dict(sorted(resultado.items(), key=lambda item: item[1])[:3])\n",
        "\n",
        "# Imprimir los resultados\n",
        "print('\\n'\"Productos mas vendidos Tienda 1\")\n",
        "for valor, conteo in resultado_sort_max.items():\n",
        "    print(f\"{valor},{conteo}\")\n",
        "\n",
        "print('\\n'\"Productos menos vendidos Tienda 1\")\n",
        "for valor, conteo in resultado_sort_min.items():\n",
        "    print(f\"{valor},{conteo}\")\n",
        "\n",
        "\n",
        "# Calculo de conteo de ventas por Categoria Tienda 2\n",
        "tienda = '/content/challenge1-data-science-latam/base-de-datos-challenge1-latam/tienda_2.csv'\n",
        "columna_a_contar = 0\n",
        "resultado = conteo_ventas(tienda,columna_a_contar)\n",
        "resultado_sort_max = dict(sorted(resultado.items(), key=lambda item: item[1], reverse = True)[:3])\n",
        "resultado_sort_min = dict(sorted(resultado.items(), key=lambda item: item[1])[:3])\n",
        "\n",
        "# Imprimir los resultados\n",
        "print('\\n'\"Productos mas vendidos Tienda 2\")\n",
        "for valor, conteo in resultado_sort_max.items():\n",
        "    print(f\"{valor},{conteo}\")\n",
        "\n",
        "print('\\n'\"Productos menos vendidos Tienda 2\")\n",
        "for valor, conteo in resultado_sort_min.items():\n",
        "    print(f\"{valor},{conteo}\")\n",
        "\n",
        "\n",
        "# Calculo de conteo de ventas por Categoria Tienda 3\n",
        "tienda = '/content/challenge1-data-science-latam/base-de-datos-challenge1-latam/tienda_3.csv'\n",
        "columna_a_contar = 0\n",
        "resultado = conteo_ventas(tienda,columna_a_contar)\n",
        "resultado_sort_max = dict(sorted(resultado.items(), key=lambda item: item[1], reverse = True)[:3])\n",
        "resultado_sort_min = dict(sorted(resultado.items(), key=lambda item: item[1])[:3])\n",
        "\n",
        "\n",
        "# Imprimir los resultados\n",
        "print('\\n'\"Productos mas vendidos Tienda 3\")\n",
        "for valor, conteo in resultado_sort_max.items():\n",
        "    print(f\"{valor}, {conteo}\")\n",
        "\n",
        "print('\\n'\"Productos menos vendidos Tienda 3\")\n",
        "for valor, conteo in resultado_sort_min.items():\n",
        "    print(f\"{valor},{conteo}\")\n",
        "\n",
        "\n",
        "# Calculo de conteo de ventas por Categoria Tienda 4\n",
        "tienda = '/content/challenge1-data-science-latam/base-de-datos-challenge1-latam/tienda_4.csv'\n",
        "columna_a_contar = 0\n",
        "resultado = conteo_ventas(tienda,columna_a_contar)\n",
        "resultado_sort_max = dict(sorted(resultado.items(), key=lambda item: item[1], reverse = True)[:3])\n",
        "resultado_sort_min = dict(sorted(resultado.items(), key=lambda item: item[1])[:3])\n",
        "\n",
        "\n",
        "# Imprimir los resultados\n",
        "print('\\n'\"Productos mas vendidos Tienda 4\")\n",
        "for valor, conteo in resultado_sort_max.items():\n",
        "    print(f\"{valor},{conteo}\")\n",
        "\n",
        "print('\\n'\"Productos menos vendidos Tienda 4\")\n",
        "for valor, conteo in resultado_sort_min.items():\n",
        "    print(f\"{valor},{conteo}\")\n"
      ],
      "metadata": {
        "colab": {
          "base_uri": "https://localhost:8080/"
        },
        "id": "oXaZ22x3wyQA",
        "outputId": "969265d4-5775-493a-d092-83216e6b9f56"
      },
      "execution_count": null,
      "outputs": [
        {
          "output_type": "stream",
          "name": "stdout",
          "text": [
            "\n",
            "Productos mas vendidos Tienda 1\n",
            "Microondas,60\n",
            "TV LED UHD 4K,60\n",
            "Armario,60\n",
            "\n",
            "Productos menos vendidos Tienda 1\n",
            "Auriculares con micrófono,33\n",
            "Celular ABXY,33\n",
            "Olla de presión,35\n",
            "\n",
            "Productos mas vendidos Tienda 2\n",
            "Iniciando en programación,65\n",
            "Microondas,62\n",
            "Batería,61\n",
            "\n",
            "Productos menos vendidos Tienda 2\n",
            "Juego de mesa,32\n",
            "Mesa de comedor,34\n",
            "Impresora,34\n",
            "\n",
            "Productos mas vendidos Tienda 3\n",
            "Kit de bancas, 57\n",
            "Mesa de comedor, 56\n",
            "Cama king, 56\n",
            "\n",
            "Productos menos vendidos Tienda 3\n",
            "Bloques de construcción,35\n",
            "Set de vasos,36\n",
            "Mochila,36\n",
            "\n",
            "Productos mas vendidos Tienda 4\n",
            "Cama box,62\n",
            "Cubertería,59\n",
            "Dashboards con Power BI,56\n",
            "\n",
            "Productos menos vendidos Tienda 4\n",
            "Guitarra eléctrica,33\n",
            "Armario,34\n",
            "Guitarra acústica,37\n"
          ]
        }
      ]
    },
    {
      "cell_type": "code",
      "source": [
        "#Funcion para calculo de Valor de envio Promedio por Tienda\n",
        "def calculo_envio (tienda,columna_a_sumar):\n",
        "    import csv\n",
        "    # Abre el archivo CSV en modo lectura ('r')\n",
        "    with open(tienda) as archivo_csv:\n",
        "        # Crea un objeto lector para el archivo CSV\n",
        "        lector_csv = csv.reader(archivo_csv)\n",
        "\n",
        "        # Lee la primera fila (cabeceras de las columnas)\n",
        "        cabeceras = next(lector_csv, None)  # 'None' para manejar archivos vacíos\n",
        "\n",
        "        # Imprime las cabeceras (opcional)\n",
        "        # print(\"Cabeceras:\", cabeceras)\n",
        "        suma = 0\n",
        "        contador = 0\n",
        "        # Itera sobre cada fila del archivo\n",
        "        for fila in lector_csv:\n",
        "            # Accede a los valores de cada columna usando el índice\n",
        "            # Por ejemplo: fila[0] es la primera columna, fila[1] la segunda, etc.\n",
        "            #print(\"Datos:\", fila)\n",
        "            # Realiza operaciones con los datos de cada fila\n",
        "            costo_envio = float(fila[columna_a_sumar])\n",
        "            suma += costo_envio\n",
        "            contador += 1\n",
        "            #if contador ==3:\n",
        "            #  break\n",
        "            #else:\n",
        "            #  continue\n",
        "\n",
        "    promedio_envio = suma/contador\n",
        "    return promedio_envio"
      ],
      "metadata": {
        "id": "JWS96QCPHynD"
      },
      "execution_count": null,
      "outputs": []
    },
    {
      "cell_type": "code",
      "source": [
        "# Programa Principal para promedio de valor de envio por Tienda\n",
        "\n",
        "prom_envio =[]\n",
        "\n",
        "# Calculo de promedio de envio Tienda 1\n",
        "tienda = '/content/challenge1-data-science-latam/base-de-datos-challenge1-latam/tienda_1 .csv'\n",
        "columna_a_sumar = 3\n",
        "resultado = round(calculo_envio(tienda,columna_a_sumar),2)\n",
        "prom_envio.append(resultado)\n",
        "print('\\n''Promedio costo envio Tienda 1 = {:,.2f}'.format(resultado))\n",
        "\n",
        "# Calculo de promedio de satisfaccion Tienda 2\n",
        "tienda = '/content/challenge1-data-science-latam/base-de-datos-challenge1-latam/tienda_2.csv'\n",
        "columna_a_sumar = 3\n",
        "resultado = round(calculo_envio(tienda,columna_a_sumar),2)\n",
        "prom_envio.append(resultado)\n",
        "print('\\n''Promedio costo envio Tienda 2 = {:,.2f}'.format(resultado))\n",
        "\n",
        "# Calculo de promedio de satisfaccion Tienda 3\n",
        "tienda = '/content/challenge1-data-science-latam/base-de-datos-challenge1-latam/tienda_3.csv'\n",
        "columna_a_sumar = 3\n",
        "resultado = round(calculo_envio(tienda,columna_a_sumar),2)\n",
        "prom_envio.append(resultado)\n",
        "print('\\n''Promedio costo envio Tienda 3 = {:,.2f}'.format(resultado))\n",
        "\n",
        "# Calculo de promedio de satisfaccion Tienda 4\n",
        "tienda = '/content/challenge1-data-science-latam/base-de-datos-challenge1-latam/tienda_4.csv'\n",
        "columna_a_sumar = 3\n",
        "resultado = round(calculo_envio(tienda,columna_a_sumar),2)\n",
        "prom_envio.append(resultado)\n",
        "print('\\n''Promedio costo envio Tienda 4 = {:,.2f}'.format(resultado))\n"
      ],
      "metadata": {
        "colab": {
          "base_uri": "https://localhost:8080/"
        },
        "id": "WWT1qNZDJLAm",
        "outputId": "0c5a967b-4522-453e-bae4-e94a666c5141"
      },
      "execution_count": null,
      "outputs": [
        {
          "output_type": "stream",
          "name": "stdout",
          "text": [
            "\n",
            "Promedio costo envio Tienda 1 = 26,018.61\n",
            "\n",
            "Promedio costo envio Tienda 2 = 25,216.24\n",
            "\n",
            "Promedio costo envio Tienda 3 = 24,805.68\n",
            "\n",
            "Promedio costo envio Tienda 4 = 23,459.46\n"
          ]
        }
      ]
    },
    {
      "cell_type": "code",
      "source": [
        "#Grafico de barras Ingresos totales Tiendas\n",
        "\n",
        "import plotly.express as px\n",
        "import pandas as pd\n",
        "\n",
        "list(resumen_ingreso)\n",
        "\n",
        "# Datos de muestra\n",
        "df = pd.DataFrame(dict(grupo = [\"Tienda 1\",\"Tienda 2\", \"Tienda 3\",\"Tienda 4\"], valor = list(resumen_ingreso)))\n",
        "\n",
        "fig = px.bar(df, x = 'grupo', y = 'valor',\n",
        "             title = \"DISTRIBUCION DE INGRESOS POR TIENDA\",\n",
        "             labels = {'grupo': 'Tiendas', 'valor': 'Ingresos'})\n",
        "\n",
        "fig.show()\n"
      ],
      "metadata": {
        "colab": {
          "base_uri": "https://localhost:8080/",
          "height": 542
        },
        "id": "BkxkUEGn-s7b",
        "outputId": "3413c143-40b4-4287-f9d3-9d1f9392f8c9"
      },
      "execution_count": null,
      "outputs": [
        {
          "output_type": "display_data",
          "data": {
            "text/html": [
              "<html>\n",
              "<head><meta charset=\"utf-8\" /></head>\n",
              "<body>\n",
              "    <div>            <script src=\"https://cdnjs.cloudflare.com/ajax/libs/mathjax/2.7.5/MathJax.js?config=TeX-AMS-MML_SVG\"></script><script type=\"text/javascript\">if (window.MathJax && window.MathJax.Hub && window.MathJax.Hub.Config) {window.MathJax.Hub.Config({SVG: {font: \"STIX-Web\"}});}</script>                <script type=\"text/javascript\">window.PlotlyConfig = {MathJaxConfig: 'local'};</script>\n",
              "        <script charset=\"utf-8\" src=\"https://cdn.plot.ly/plotly-2.35.2.min.js\"></script>                <div id=\"8c3f66b3-4b33-4e86-a2d9-2d25238f0115\" class=\"plotly-graph-div\" style=\"height:525px; width:100%;\"></div>            <script type=\"text/javascript\">                                    window.PLOTLYENV=window.PLOTLYENV || {};                                    if (document.getElementById(\"8c3f66b3-4b33-4e86-a2d9-2d25238f0115\")) {                    Plotly.newPlot(                        \"8c3f66b3-4b33-4e86-a2d9-2d25238f0115\",                        [{\"alignmentgroup\":\"True\",\"hovertemplate\":\"Tiendas=%{x}\\u003cbr\\u003eIngresos=%{y}\\u003cextra\\u003e\\u003c\\u002fextra\\u003e\",\"legendgroup\":\"\",\"marker\":{\"color\":\"#636efa\",\"pattern\":{\"shape\":\"\"}},\"name\":\"\",\"offsetgroup\":\"\",\"orientation\":\"v\",\"showlegend\":false,\"textposition\":\"auto\",\"x\":[\"Tienda 1\",\"Tienda 2\",\"Tienda 3\",\"Tienda 4\"],\"xaxis\":\"x\",\"y\":[1150880400.0,1116343500.0,1098019600.0,1038375700.0],\"yaxis\":\"y\",\"type\":\"bar\"}],                        {\"template\":{\"data\":{\"histogram2dcontour\":[{\"type\":\"histogram2dcontour\",\"colorbar\":{\"outlinewidth\":0,\"ticks\":\"\"},\"colorscale\":[[0.0,\"#0d0887\"],[0.1111111111111111,\"#46039f\"],[0.2222222222222222,\"#7201a8\"],[0.3333333333333333,\"#9c179e\"],[0.4444444444444444,\"#bd3786\"],[0.5555555555555556,\"#d8576b\"],[0.6666666666666666,\"#ed7953\"],[0.7777777777777778,\"#fb9f3a\"],[0.8888888888888888,\"#fdca26\"],[1.0,\"#f0f921\"]]}],\"choropleth\":[{\"type\":\"choropleth\",\"colorbar\":{\"outlinewidth\":0,\"ticks\":\"\"}}],\"histogram2d\":[{\"type\":\"histogram2d\",\"colorbar\":{\"outlinewidth\":0,\"ticks\":\"\"},\"colorscale\":[[0.0,\"#0d0887\"],[0.1111111111111111,\"#46039f\"],[0.2222222222222222,\"#7201a8\"],[0.3333333333333333,\"#9c179e\"],[0.4444444444444444,\"#bd3786\"],[0.5555555555555556,\"#d8576b\"],[0.6666666666666666,\"#ed7953\"],[0.7777777777777778,\"#fb9f3a\"],[0.8888888888888888,\"#fdca26\"],[1.0,\"#f0f921\"]]}],\"heatmap\":[{\"type\":\"heatmap\",\"colorbar\":{\"outlinewidth\":0,\"ticks\":\"\"},\"colorscale\":[[0.0,\"#0d0887\"],[0.1111111111111111,\"#46039f\"],[0.2222222222222222,\"#7201a8\"],[0.3333333333333333,\"#9c179e\"],[0.4444444444444444,\"#bd3786\"],[0.5555555555555556,\"#d8576b\"],[0.6666666666666666,\"#ed7953\"],[0.7777777777777778,\"#fb9f3a\"],[0.8888888888888888,\"#fdca26\"],[1.0,\"#f0f921\"]]}],\"heatmapgl\":[{\"type\":\"heatmapgl\",\"colorbar\":{\"outlinewidth\":0,\"ticks\":\"\"},\"colorscale\":[[0.0,\"#0d0887\"],[0.1111111111111111,\"#46039f\"],[0.2222222222222222,\"#7201a8\"],[0.3333333333333333,\"#9c179e\"],[0.4444444444444444,\"#bd3786\"],[0.5555555555555556,\"#d8576b\"],[0.6666666666666666,\"#ed7953\"],[0.7777777777777778,\"#fb9f3a\"],[0.8888888888888888,\"#fdca26\"],[1.0,\"#f0f921\"]]}],\"contourcarpet\":[{\"type\":\"contourcarpet\",\"colorbar\":{\"outlinewidth\":0,\"ticks\":\"\"}}],\"contour\":[{\"type\":\"contour\",\"colorbar\":{\"outlinewidth\":0,\"ticks\":\"\"},\"colorscale\":[[0.0,\"#0d0887\"],[0.1111111111111111,\"#46039f\"],[0.2222222222222222,\"#7201a8\"],[0.3333333333333333,\"#9c179e\"],[0.4444444444444444,\"#bd3786\"],[0.5555555555555556,\"#d8576b\"],[0.6666666666666666,\"#ed7953\"],[0.7777777777777778,\"#fb9f3a\"],[0.8888888888888888,\"#fdca26\"],[1.0,\"#f0f921\"]]}],\"surface\":[{\"type\":\"surface\",\"colorbar\":{\"outlinewidth\":0,\"ticks\":\"\"},\"colorscale\":[[0.0,\"#0d0887\"],[0.1111111111111111,\"#46039f\"],[0.2222222222222222,\"#7201a8\"],[0.3333333333333333,\"#9c179e\"],[0.4444444444444444,\"#bd3786\"],[0.5555555555555556,\"#d8576b\"],[0.6666666666666666,\"#ed7953\"],[0.7777777777777778,\"#fb9f3a\"],[0.8888888888888888,\"#fdca26\"],[1.0,\"#f0f921\"]]}],\"mesh3d\":[{\"type\":\"mesh3d\",\"colorbar\":{\"outlinewidth\":0,\"ticks\":\"\"}}],\"scatter\":[{\"fillpattern\":{\"fillmode\":\"overlay\",\"size\":10,\"solidity\":0.2},\"type\":\"scatter\"}],\"parcoords\":[{\"type\":\"parcoords\",\"line\":{\"colorbar\":{\"outlinewidth\":0,\"ticks\":\"\"}}}],\"scatterpolargl\":[{\"type\":\"scatterpolargl\",\"marker\":{\"colorbar\":{\"outlinewidth\":0,\"ticks\":\"\"}}}],\"bar\":[{\"error_x\":{\"color\":\"#2a3f5f\"},\"error_y\":{\"color\":\"#2a3f5f\"},\"marker\":{\"line\":{\"color\":\"#E5ECF6\",\"width\":0.5},\"pattern\":{\"fillmode\":\"overlay\",\"size\":10,\"solidity\":0.2}},\"type\":\"bar\"}],\"scattergeo\":[{\"type\":\"scattergeo\",\"marker\":{\"colorbar\":{\"outlinewidth\":0,\"ticks\":\"\"}}}],\"scatterpolar\":[{\"type\":\"scatterpolar\",\"marker\":{\"colorbar\":{\"outlinewidth\":0,\"ticks\":\"\"}}}],\"histogram\":[{\"marker\":{\"pattern\":{\"fillmode\":\"overlay\",\"size\":10,\"solidity\":0.2}},\"type\":\"histogram\"}],\"scattergl\":[{\"type\":\"scattergl\",\"marker\":{\"colorbar\":{\"outlinewidth\":0,\"ticks\":\"\"}}}],\"scatter3d\":[{\"type\":\"scatter3d\",\"line\":{\"colorbar\":{\"outlinewidth\":0,\"ticks\":\"\"}},\"marker\":{\"colorbar\":{\"outlinewidth\":0,\"ticks\":\"\"}}}],\"scattermapbox\":[{\"type\":\"scattermapbox\",\"marker\":{\"colorbar\":{\"outlinewidth\":0,\"ticks\":\"\"}}}],\"scatterternary\":[{\"type\":\"scatterternary\",\"marker\":{\"colorbar\":{\"outlinewidth\":0,\"ticks\":\"\"}}}],\"scattercarpet\":[{\"type\":\"scattercarpet\",\"marker\":{\"colorbar\":{\"outlinewidth\":0,\"ticks\":\"\"}}}],\"carpet\":[{\"aaxis\":{\"endlinecolor\":\"#2a3f5f\",\"gridcolor\":\"white\",\"linecolor\":\"white\",\"minorgridcolor\":\"white\",\"startlinecolor\":\"#2a3f5f\"},\"baxis\":{\"endlinecolor\":\"#2a3f5f\",\"gridcolor\":\"white\",\"linecolor\":\"white\",\"minorgridcolor\":\"white\",\"startlinecolor\":\"#2a3f5f\"},\"type\":\"carpet\"}],\"table\":[{\"cells\":{\"fill\":{\"color\":\"#EBF0F8\"},\"line\":{\"color\":\"white\"}},\"header\":{\"fill\":{\"color\":\"#C8D4E3\"},\"line\":{\"color\":\"white\"}},\"type\":\"table\"}],\"barpolar\":[{\"marker\":{\"line\":{\"color\":\"#E5ECF6\",\"width\":0.5},\"pattern\":{\"fillmode\":\"overlay\",\"size\":10,\"solidity\":0.2}},\"type\":\"barpolar\"}],\"pie\":[{\"automargin\":true,\"type\":\"pie\"}]},\"layout\":{\"autotypenumbers\":\"strict\",\"colorway\":[\"#636efa\",\"#EF553B\",\"#00cc96\",\"#ab63fa\",\"#FFA15A\",\"#19d3f3\",\"#FF6692\",\"#B6E880\",\"#FF97FF\",\"#FECB52\"],\"font\":{\"color\":\"#2a3f5f\"},\"hovermode\":\"closest\",\"hoverlabel\":{\"align\":\"left\"},\"paper_bgcolor\":\"white\",\"plot_bgcolor\":\"#E5ECF6\",\"polar\":{\"bgcolor\":\"#E5ECF6\",\"angularaxis\":{\"gridcolor\":\"white\",\"linecolor\":\"white\",\"ticks\":\"\"},\"radialaxis\":{\"gridcolor\":\"white\",\"linecolor\":\"white\",\"ticks\":\"\"}},\"ternary\":{\"bgcolor\":\"#E5ECF6\",\"aaxis\":{\"gridcolor\":\"white\",\"linecolor\":\"white\",\"ticks\":\"\"},\"baxis\":{\"gridcolor\":\"white\",\"linecolor\":\"white\",\"ticks\":\"\"},\"caxis\":{\"gridcolor\":\"white\",\"linecolor\":\"white\",\"ticks\":\"\"}},\"coloraxis\":{\"colorbar\":{\"outlinewidth\":0,\"ticks\":\"\"}},\"colorscale\":{\"sequential\":[[0.0,\"#0d0887\"],[0.1111111111111111,\"#46039f\"],[0.2222222222222222,\"#7201a8\"],[0.3333333333333333,\"#9c179e\"],[0.4444444444444444,\"#bd3786\"],[0.5555555555555556,\"#d8576b\"],[0.6666666666666666,\"#ed7953\"],[0.7777777777777778,\"#fb9f3a\"],[0.8888888888888888,\"#fdca26\"],[1.0,\"#f0f921\"]],\"sequentialminus\":[[0.0,\"#0d0887\"],[0.1111111111111111,\"#46039f\"],[0.2222222222222222,\"#7201a8\"],[0.3333333333333333,\"#9c179e\"],[0.4444444444444444,\"#bd3786\"],[0.5555555555555556,\"#d8576b\"],[0.6666666666666666,\"#ed7953\"],[0.7777777777777778,\"#fb9f3a\"],[0.8888888888888888,\"#fdca26\"],[1.0,\"#f0f921\"]],\"diverging\":[[0,\"#8e0152\"],[0.1,\"#c51b7d\"],[0.2,\"#de77ae\"],[0.3,\"#f1b6da\"],[0.4,\"#fde0ef\"],[0.5,\"#f7f7f7\"],[0.6,\"#e6f5d0\"],[0.7,\"#b8e186\"],[0.8,\"#7fbc41\"],[0.9,\"#4d9221\"],[1,\"#276419\"]]},\"xaxis\":{\"gridcolor\":\"white\",\"linecolor\":\"white\",\"ticks\":\"\",\"title\":{\"standoff\":15},\"zerolinecolor\":\"white\",\"automargin\":true,\"zerolinewidth\":2},\"yaxis\":{\"gridcolor\":\"white\",\"linecolor\":\"white\",\"ticks\":\"\",\"title\":{\"standoff\":15},\"zerolinecolor\":\"white\",\"automargin\":true,\"zerolinewidth\":2},\"scene\":{\"xaxis\":{\"backgroundcolor\":\"#E5ECF6\",\"gridcolor\":\"white\",\"linecolor\":\"white\",\"showbackground\":true,\"ticks\":\"\",\"zerolinecolor\":\"white\",\"gridwidth\":2},\"yaxis\":{\"backgroundcolor\":\"#E5ECF6\",\"gridcolor\":\"white\",\"linecolor\":\"white\",\"showbackground\":true,\"ticks\":\"\",\"zerolinecolor\":\"white\",\"gridwidth\":2},\"zaxis\":{\"backgroundcolor\":\"#E5ECF6\",\"gridcolor\":\"white\",\"linecolor\":\"white\",\"showbackground\":true,\"ticks\":\"\",\"zerolinecolor\":\"white\",\"gridwidth\":2}},\"shapedefaults\":{\"line\":{\"color\":\"#2a3f5f\"}},\"annotationdefaults\":{\"arrowcolor\":\"#2a3f5f\",\"arrowhead\":0,\"arrowwidth\":1},\"geo\":{\"bgcolor\":\"white\",\"landcolor\":\"#E5ECF6\",\"subunitcolor\":\"white\",\"showland\":true,\"showlakes\":true,\"lakecolor\":\"white\"},\"title\":{\"x\":0.05},\"mapbox\":{\"style\":\"light\"}}},\"xaxis\":{\"anchor\":\"y\",\"domain\":[0.0,1.0],\"title\":{\"text\":\"Tiendas\"}},\"yaxis\":{\"anchor\":\"x\",\"domain\":[0.0,1.0],\"title\":{\"text\":\"Ingresos\"}},\"legend\":{\"tracegroupgap\":0},\"title\":{\"text\":\"DISTRIBUCION DE INGRESOS POR TIENDA\"},\"barmode\":\"relative\"},                        {\"responsive\": true}                    ).then(function(){\n",
              "                            \n",
              "var gd = document.getElementById('8c3f66b3-4b33-4e86-a2d9-2d25238f0115');\n",
              "var x = new MutationObserver(function (mutations, observer) {{\n",
              "        var display = window.getComputedStyle(gd).display;\n",
              "        if (!display || display === 'none') {{\n",
              "            console.log([gd, 'removed!']);\n",
              "            Plotly.purge(gd);\n",
              "            observer.disconnect();\n",
              "        }}\n",
              "}});\n",
              "\n",
              "// Listen for the removal of the full notebook cells\n",
              "var notebookContainer = gd.closest('#notebook-container');\n",
              "if (notebookContainer) {{\n",
              "    x.observe(notebookContainer, {childList: true});\n",
              "}}\n",
              "\n",
              "// Listen for the clearing of the current output cell\n",
              "var outputEl = gd.closest('.output');\n",
              "if (outputEl) {{\n",
              "    x.observe(outputEl, {childList: true});\n",
              "}}\n",
              "\n",
              "                        })                };                            </script>        </div>\n",
              "</body>\n",
              "</html>"
            ]
          },
          "metadata": {}
        }
      ]
    },
    {
      "cell_type": "code",
      "source": [
        "#Grafico de Pie de calificacion promedio de satisfaccion\n",
        "\n",
        "import plotly.express as px\n",
        "import pandas as pd\n",
        "\n",
        "# Datos de muestra\n",
        "df = pd.DataFrame(dict(Tiendas = [\"Tienda 1\",\"Tienda 2\", \"Tienda 3\",\"Tienda 4\"],Satisfaccion = list(promedio_satisfaccion)))\n",
        "\n",
        "fig = px.bar(df, x = 'Satisfaccion', y = 'Tiendas',pattern_shape = 'Tiendas', text_auto = True)\n",
        "\n",
        "fig.show()\n",
        "\n"
      ],
      "metadata": {
        "colab": {
          "base_uri": "https://localhost:8080/",
          "height": 542
        },
        "id": "WIY2FpthC9Ag",
        "outputId": "92ad43ab-15ac-4922-8f35-f3eaf9eb1090"
      },
      "execution_count": null,
      "outputs": [
        {
          "output_type": "display_data",
          "data": {
            "text/html": [
              "<html>\n",
              "<head><meta charset=\"utf-8\" /></head>\n",
              "<body>\n",
              "    <div>            <script src=\"https://cdnjs.cloudflare.com/ajax/libs/mathjax/2.7.5/MathJax.js?config=TeX-AMS-MML_SVG\"></script><script type=\"text/javascript\">if (window.MathJax && window.MathJax.Hub && window.MathJax.Hub.Config) {window.MathJax.Hub.Config({SVG: {font: \"STIX-Web\"}});}</script>                <script type=\"text/javascript\">window.PlotlyConfig = {MathJaxConfig: 'local'};</script>\n",
              "        <script charset=\"utf-8\" src=\"https://cdn.plot.ly/plotly-2.35.2.min.js\"></script>                <div id=\"fc05c66c-a3dc-46c4-8f37-033ff4ff4f3b\" class=\"plotly-graph-div\" style=\"height:525px; width:100%;\"></div>            <script type=\"text/javascript\">                                    window.PLOTLYENV=window.PLOTLYENV || {};                                    if (document.getElementById(\"fc05c66c-a3dc-46c4-8f37-033ff4ff4f3b\")) {                    Plotly.newPlot(                        \"fc05c66c-a3dc-46c4-8f37-033ff4ff4f3b\",                        [{\"alignmentgroup\":\"True\",\"hovertemplate\":\"Tiendas=%{y}\\u003cbr\\u003eSatisfaccion=%{x}\\u003cextra\\u003e\\u003c\\u002fextra\\u003e\",\"legendgroup\":\"Tienda 1\",\"marker\":{\"color\":\"#636efa\",\"pattern\":{\"shape\":\"\"}},\"name\":\"Tienda 1\",\"offsetgroup\":\"Tienda 1\",\"orientation\":\"h\",\"showlegend\":true,\"textposition\":\"auto\",\"texttemplate\":\"%{x}\",\"x\":[3.98],\"xaxis\":\"x\",\"y\":[\"Tienda 1\"],\"yaxis\":\"y\",\"type\":\"bar\"},{\"alignmentgroup\":\"True\",\"hovertemplate\":\"Tiendas=%{y}\\u003cbr\\u003eSatisfaccion=%{x}\\u003cextra\\u003e\\u003c\\u002fextra\\u003e\",\"legendgroup\":\"Tienda 2\",\"marker\":{\"color\":\"#636efa\",\"pattern\":{\"shape\":\"\\u002f\"}},\"name\":\"Tienda 2\",\"offsetgroup\":\"Tienda 2\",\"orientation\":\"h\",\"showlegend\":true,\"textposition\":\"auto\",\"texttemplate\":\"%{x}\",\"x\":[4.04],\"xaxis\":\"x\",\"y\":[\"Tienda 2\"],\"yaxis\":\"y\",\"type\":\"bar\"},{\"alignmentgroup\":\"True\",\"hovertemplate\":\"Tiendas=%{y}\\u003cbr\\u003eSatisfaccion=%{x}\\u003cextra\\u003e\\u003c\\u002fextra\\u003e\",\"legendgroup\":\"Tienda 3\",\"marker\":{\"color\":\"#636efa\",\"pattern\":{\"shape\":\"\\\\\"}},\"name\":\"Tienda 3\",\"offsetgroup\":\"Tienda 3\",\"orientation\":\"h\",\"showlegend\":true,\"textposition\":\"auto\",\"texttemplate\":\"%{x}\",\"x\":[4.05],\"xaxis\":\"x\",\"y\":[\"Tienda 3\"],\"yaxis\":\"y\",\"type\":\"bar\"},{\"alignmentgroup\":\"True\",\"hovertemplate\":\"Tiendas=%{y}\\u003cbr\\u003eSatisfaccion=%{x}\\u003cextra\\u003e\\u003c\\u002fextra\\u003e\",\"legendgroup\":\"Tienda 4\",\"marker\":{\"color\":\"#636efa\",\"pattern\":{\"shape\":\"x\"}},\"name\":\"Tienda 4\",\"offsetgroup\":\"Tienda 4\",\"orientation\":\"h\",\"showlegend\":true,\"textposition\":\"auto\",\"texttemplate\":\"%{x}\",\"x\":[4.0],\"xaxis\":\"x\",\"y\":[\"Tienda 4\"],\"yaxis\":\"y\",\"type\":\"bar\"}],                        {\"template\":{\"data\":{\"histogram2dcontour\":[{\"type\":\"histogram2dcontour\",\"colorbar\":{\"outlinewidth\":0,\"ticks\":\"\"},\"colorscale\":[[0.0,\"#0d0887\"],[0.1111111111111111,\"#46039f\"],[0.2222222222222222,\"#7201a8\"],[0.3333333333333333,\"#9c179e\"],[0.4444444444444444,\"#bd3786\"],[0.5555555555555556,\"#d8576b\"],[0.6666666666666666,\"#ed7953\"],[0.7777777777777778,\"#fb9f3a\"],[0.8888888888888888,\"#fdca26\"],[1.0,\"#f0f921\"]]}],\"choropleth\":[{\"type\":\"choropleth\",\"colorbar\":{\"outlinewidth\":0,\"ticks\":\"\"}}],\"histogram2d\":[{\"type\":\"histogram2d\",\"colorbar\":{\"outlinewidth\":0,\"ticks\":\"\"},\"colorscale\":[[0.0,\"#0d0887\"],[0.1111111111111111,\"#46039f\"],[0.2222222222222222,\"#7201a8\"],[0.3333333333333333,\"#9c179e\"],[0.4444444444444444,\"#bd3786\"],[0.5555555555555556,\"#d8576b\"],[0.6666666666666666,\"#ed7953\"],[0.7777777777777778,\"#fb9f3a\"],[0.8888888888888888,\"#fdca26\"],[1.0,\"#f0f921\"]]}],\"heatmap\":[{\"type\":\"heatmap\",\"colorbar\":{\"outlinewidth\":0,\"ticks\":\"\"},\"colorscale\":[[0.0,\"#0d0887\"],[0.1111111111111111,\"#46039f\"],[0.2222222222222222,\"#7201a8\"],[0.3333333333333333,\"#9c179e\"],[0.4444444444444444,\"#bd3786\"],[0.5555555555555556,\"#d8576b\"],[0.6666666666666666,\"#ed7953\"],[0.7777777777777778,\"#fb9f3a\"],[0.8888888888888888,\"#fdca26\"],[1.0,\"#f0f921\"]]}],\"heatmapgl\":[{\"type\":\"heatmapgl\",\"colorbar\":{\"outlinewidth\":0,\"ticks\":\"\"},\"colorscale\":[[0.0,\"#0d0887\"],[0.1111111111111111,\"#46039f\"],[0.2222222222222222,\"#7201a8\"],[0.3333333333333333,\"#9c179e\"],[0.4444444444444444,\"#bd3786\"],[0.5555555555555556,\"#d8576b\"],[0.6666666666666666,\"#ed7953\"],[0.7777777777777778,\"#fb9f3a\"],[0.8888888888888888,\"#fdca26\"],[1.0,\"#f0f921\"]]}],\"contourcarpet\":[{\"type\":\"contourcarpet\",\"colorbar\":{\"outlinewidth\":0,\"ticks\":\"\"}}],\"contour\":[{\"type\":\"contour\",\"colorbar\":{\"outlinewidth\":0,\"ticks\":\"\"},\"colorscale\":[[0.0,\"#0d0887\"],[0.1111111111111111,\"#46039f\"],[0.2222222222222222,\"#7201a8\"],[0.3333333333333333,\"#9c179e\"],[0.4444444444444444,\"#bd3786\"],[0.5555555555555556,\"#d8576b\"],[0.6666666666666666,\"#ed7953\"],[0.7777777777777778,\"#fb9f3a\"],[0.8888888888888888,\"#fdca26\"],[1.0,\"#f0f921\"]]}],\"surface\":[{\"type\":\"surface\",\"colorbar\":{\"outlinewidth\":0,\"ticks\":\"\"},\"colorscale\":[[0.0,\"#0d0887\"],[0.1111111111111111,\"#46039f\"],[0.2222222222222222,\"#7201a8\"],[0.3333333333333333,\"#9c179e\"],[0.4444444444444444,\"#bd3786\"],[0.5555555555555556,\"#d8576b\"],[0.6666666666666666,\"#ed7953\"],[0.7777777777777778,\"#fb9f3a\"],[0.8888888888888888,\"#fdca26\"],[1.0,\"#f0f921\"]]}],\"mesh3d\":[{\"type\":\"mesh3d\",\"colorbar\":{\"outlinewidth\":0,\"ticks\":\"\"}}],\"scatter\":[{\"fillpattern\":{\"fillmode\":\"overlay\",\"size\":10,\"solidity\":0.2},\"type\":\"scatter\"}],\"parcoords\":[{\"type\":\"parcoords\",\"line\":{\"colorbar\":{\"outlinewidth\":0,\"ticks\":\"\"}}}],\"scatterpolargl\":[{\"type\":\"scatterpolargl\",\"marker\":{\"colorbar\":{\"outlinewidth\":0,\"ticks\":\"\"}}}],\"bar\":[{\"error_x\":{\"color\":\"#2a3f5f\"},\"error_y\":{\"color\":\"#2a3f5f\"},\"marker\":{\"line\":{\"color\":\"#E5ECF6\",\"width\":0.5},\"pattern\":{\"fillmode\":\"overlay\",\"size\":10,\"solidity\":0.2}},\"type\":\"bar\"}],\"scattergeo\":[{\"type\":\"scattergeo\",\"marker\":{\"colorbar\":{\"outlinewidth\":0,\"ticks\":\"\"}}}],\"scatterpolar\":[{\"type\":\"scatterpolar\",\"marker\":{\"colorbar\":{\"outlinewidth\":0,\"ticks\":\"\"}}}],\"histogram\":[{\"marker\":{\"pattern\":{\"fillmode\":\"overlay\",\"size\":10,\"solidity\":0.2}},\"type\":\"histogram\"}],\"scattergl\":[{\"type\":\"scattergl\",\"marker\":{\"colorbar\":{\"outlinewidth\":0,\"ticks\":\"\"}}}],\"scatter3d\":[{\"type\":\"scatter3d\",\"line\":{\"colorbar\":{\"outlinewidth\":0,\"ticks\":\"\"}},\"marker\":{\"colorbar\":{\"outlinewidth\":0,\"ticks\":\"\"}}}],\"scattermapbox\":[{\"type\":\"scattermapbox\",\"marker\":{\"colorbar\":{\"outlinewidth\":0,\"ticks\":\"\"}}}],\"scatterternary\":[{\"type\":\"scatterternary\",\"marker\":{\"colorbar\":{\"outlinewidth\":0,\"ticks\":\"\"}}}],\"scattercarpet\":[{\"type\":\"scattercarpet\",\"marker\":{\"colorbar\":{\"outlinewidth\":0,\"ticks\":\"\"}}}],\"carpet\":[{\"aaxis\":{\"endlinecolor\":\"#2a3f5f\",\"gridcolor\":\"white\",\"linecolor\":\"white\",\"minorgridcolor\":\"white\",\"startlinecolor\":\"#2a3f5f\"},\"baxis\":{\"endlinecolor\":\"#2a3f5f\",\"gridcolor\":\"white\",\"linecolor\":\"white\",\"minorgridcolor\":\"white\",\"startlinecolor\":\"#2a3f5f\"},\"type\":\"carpet\"}],\"table\":[{\"cells\":{\"fill\":{\"color\":\"#EBF0F8\"},\"line\":{\"color\":\"white\"}},\"header\":{\"fill\":{\"color\":\"#C8D4E3\"},\"line\":{\"color\":\"white\"}},\"type\":\"table\"}],\"barpolar\":[{\"marker\":{\"line\":{\"color\":\"#E5ECF6\",\"width\":0.5},\"pattern\":{\"fillmode\":\"overlay\",\"size\":10,\"solidity\":0.2}},\"type\":\"barpolar\"}],\"pie\":[{\"automargin\":true,\"type\":\"pie\"}]},\"layout\":{\"autotypenumbers\":\"strict\",\"colorway\":[\"#636efa\",\"#EF553B\",\"#00cc96\",\"#ab63fa\",\"#FFA15A\",\"#19d3f3\",\"#FF6692\",\"#B6E880\",\"#FF97FF\",\"#FECB52\"],\"font\":{\"color\":\"#2a3f5f\"},\"hovermode\":\"closest\",\"hoverlabel\":{\"align\":\"left\"},\"paper_bgcolor\":\"white\",\"plot_bgcolor\":\"#E5ECF6\",\"polar\":{\"bgcolor\":\"#E5ECF6\",\"angularaxis\":{\"gridcolor\":\"white\",\"linecolor\":\"white\",\"ticks\":\"\"},\"radialaxis\":{\"gridcolor\":\"white\",\"linecolor\":\"white\",\"ticks\":\"\"}},\"ternary\":{\"bgcolor\":\"#E5ECF6\",\"aaxis\":{\"gridcolor\":\"white\",\"linecolor\":\"white\",\"ticks\":\"\"},\"baxis\":{\"gridcolor\":\"white\",\"linecolor\":\"white\",\"ticks\":\"\"},\"caxis\":{\"gridcolor\":\"white\",\"linecolor\":\"white\",\"ticks\":\"\"}},\"coloraxis\":{\"colorbar\":{\"outlinewidth\":0,\"ticks\":\"\"}},\"colorscale\":{\"sequential\":[[0.0,\"#0d0887\"],[0.1111111111111111,\"#46039f\"],[0.2222222222222222,\"#7201a8\"],[0.3333333333333333,\"#9c179e\"],[0.4444444444444444,\"#bd3786\"],[0.5555555555555556,\"#d8576b\"],[0.6666666666666666,\"#ed7953\"],[0.7777777777777778,\"#fb9f3a\"],[0.8888888888888888,\"#fdca26\"],[1.0,\"#f0f921\"]],\"sequentialminus\":[[0.0,\"#0d0887\"],[0.1111111111111111,\"#46039f\"],[0.2222222222222222,\"#7201a8\"],[0.3333333333333333,\"#9c179e\"],[0.4444444444444444,\"#bd3786\"],[0.5555555555555556,\"#d8576b\"],[0.6666666666666666,\"#ed7953\"],[0.7777777777777778,\"#fb9f3a\"],[0.8888888888888888,\"#fdca26\"],[1.0,\"#f0f921\"]],\"diverging\":[[0,\"#8e0152\"],[0.1,\"#c51b7d\"],[0.2,\"#de77ae\"],[0.3,\"#f1b6da\"],[0.4,\"#fde0ef\"],[0.5,\"#f7f7f7\"],[0.6,\"#e6f5d0\"],[0.7,\"#b8e186\"],[0.8,\"#7fbc41\"],[0.9,\"#4d9221\"],[1,\"#276419\"]]},\"xaxis\":{\"gridcolor\":\"white\",\"linecolor\":\"white\",\"ticks\":\"\",\"title\":{\"standoff\":15},\"zerolinecolor\":\"white\",\"automargin\":true,\"zerolinewidth\":2},\"yaxis\":{\"gridcolor\":\"white\",\"linecolor\":\"white\",\"ticks\":\"\",\"title\":{\"standoff\":15},\"zerolinecolor\":\"white\",\"automargin\":true,\"zerolinewidth\":2},\"scene\":{\"xaxis\":{\"backgroundcolor\":\"#E5ECF6\",\"gridcolor\":\"white\",\"linecolor\":\"white\",\"showbackground\":true,\"ticks\":\"\",\"zerolinecolor\":\"white\",\"gridwidth\":2},\"yaxis\":{\"backgroundcolor\":\"#E5ECF6\",\"gridcolor\":\"white\",\"linecolor\":\"white\",\"showbackground\":true,\"ticks\":\"\",\"zerolinecolor\":\"white\",\"gridwidth\":2},\"zaxis\":{\"backgroundcolor\":\"#E5ECF6\",\"gridcolor\":\"white\",\"linecolor\":\"white\",\"showbackground\":true,\"ticks\":\"\",\"zerolinecolor\":\"white\",\"gridwidth\":2}},\"shapedefaults\":{\"line\":{\"color\":\"#2a3f5f\"}},\"annotationdefaults\":{\"arrowcolor\":\"#2a3f5f\",\"arrowhead\":0,\"arrowwidth\":1},\"geo\":{\"bgcolor\":\"white\",\"landcolor\":\"#E5ECF6\",\"subunitcolor\":\"white\",\"showland\":true,\"showlakes\":true,\"lakecolor\":\"white\"},\"title\":{\"x\":0.05},\"mapbox\":{\"style\":\"light\"}}},\"xaxis\":{\"anchor\":\"y\",\"domain\":[0.0,1.0],\"title\":{\"text\":\"Satisfaccion\"}},\"yaxis\":{\"anchor\":\"x\",\"domain\":[0.0,1.0],\"title\":{\"text\":\"Tiendas\"},\"categoryorder\":\"array\",\"categoryarray\":[\"Tienda 4\",\"Tienda 3\",\"Tienda 2\",\"Tienda 1\"]},\"legend\":{\"title\":{\"text\":\"Tiendas\"},\"tracegroupgap\":0},\"margin\":{\"t\":60},\"barmode\":\"relative\"},                        {\"responsive\": true}                    ).then(function(){\n",
              "                            \n",
              "var gd = document.getElementById('fc05c66c-a3dc-46c4-8f37-033ff4ff4f3b');\n",
              "var x = new MutationObserver(function (mutations, observer) {{\n",
              "        var display = window.getComputedStyle(gd).display;\n",
              "        if (!display || display === 'none') {{\n",
              "            console.log([gd, 'removed!']);\n",
              "            Plotly.purge(gd);\n",
              "            observer.disconnect();\n",
              "        }}\n",
              "}});\n",
              "\n",
              "// Listen for the removal of the full notebook cells\n",
              "var notebookContainer = gd.closest('#notebook-container');\n",
              "if (notebookContainer) {{\n",
              "    x.observe(notebookContainer, {childList: true});\n",
              "}}\n",
              "\n",
              "// Listen for the clearing of the current output cell\n",
              "var outputEl = gd.closest('.output');\n",
              "if (outputEl) {{\n",
              "    x.observe(outputEl, {childList: true});\n",
              "}}\n",
              "\n",
              "                        })                };                            </script>        </div>\n",
              "</body>\n",
              "</html>"
            ]
          },
          "metadata": {}
        }
      ]
    },
    {
      "cell_type": "code",
      "source": [
        "# Grafico de Categorias por Tienda 1\n",
        "import matplotlib.pyplot as plt\n",
        "plt.figure(figsize=(10, 8))\n",
        "categoria = lista_categorias\n",
        "unidades = lista_ventas\n",
        "destacar = [0.1,0,0,0,0,0,0,0]\n",
        "plt.style.use(\"ggplot\")\n",
        "plt.title(\"DISTRIBUCION DE VENTA POR CATEGORIAS TIENDA 1\")\n",
        "plt.pie(x=unidades,explode=destacar,labels=categoria,autopct='%.2f%%',shadow=True,startangle=20)\n",
        "plt.axis('equal')\n",
        "plt.legend(loc=\"upper left\")\n",
        "plt.show()"
      ],
      "metadata": {
        "colab": {
          "base_uri": "https://localhost:8080/",
          "height": 679
        },
        "id": "VZtTd1VOVrRd",
        "outputId": "506c3ebb-f264-4eab-cca2-992b788bcb83"
      },
      "execution_count": null,
      "outputs": [
        {
          "output_type": "display_data",
          "data": {
            "text/plain": [
              "<Figure size 1000x800 with 1 Axes>"
            ],
            "image/png": "[encoded data removed]"
          },
          "metadata": {}
        }
      ]
    }
  ]
}