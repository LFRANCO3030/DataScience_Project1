{
  "nbformat": 4,
  "nbformat_minor": 0,
  "metadata": {
    "colab": {
      "provenance": [],
      "mount_file_id": "1v4BbEJibl73upza_SdqbgfVYJUcqKIvy",
      "authorship_tag": "ABX9TyM33Iz2rRw6dkMtHyoOqKZd",
      "include_colab_link": true
    },
    "kernelspec": {
      "name": "python3",
      "display_name": "Python 3"
    },
    "language_info": {
      "name": "python"
    }
  },
  "cells": [
    {
      "cell_type": "markdown",
      "metadata": {
        "id": "view-in-github",
        "colab_type": "text"
      },
      "source": [
        "<a href=\"https://colab.research.google.com/github/LFRANCO3030/DataScience_Project1/blob/main/challenge1_datascience.ipynb\" target=\"_parent\"><img src=\"https://colab.research.google.com/assets/colab-badge.svg\" alt=\"Open In Colab\"/></a>"
      ]
    },
    {
      "cell_type": "code",
      "execution_count": 2,
      "metadata": {
        "id": "zSxS5yoPhqKq",
        "colab": {
          "base_uri": "https://localhost:8080/"
        },
        "outputId": "6f958f95-30a1-4bf4-e13b-d23c1e2a93d8"
      },
      "outputs": [
        {
          "output_type": "stream",
          "name": "stdout",
          "text": [
            "Cloning into 'challenge1-data-science-latam'...\n",
            "remote: Enumerating objects: 10, done.\u001b[K\n",
            "remote: Counting objects: 100% (8/8), done.\u001b[K\n",
            "remote: Compressing objects: 100% (5/5), done.\u001b[K\n",
            "remote: Total 10 (delta 3), reused 3 (delta 3), pack-reused 2 (from 1)\u001b[K\n",
            "Receiving objects: 100% (10/10), 171.26 KiB | 10.07 MiB/s, done.\n",
            "Resolving deltas: 100% (3/3), done.\n"
          ]
        }
      ],
      "source": [
        "# Clonamos repositorio de DAtos de Github en Drive\n",
        "! git clone https://github.com/alura-es-cursos/challenge1-data-science-latam.git"
      ]
    },
    {
      "cell_type": "code",
      "source": [
        "#rutina para uso de pandas\n",
        "import pandas as pd"
      ],
      "metadata": {
        "id": "9aRbT1wZihHi"
      },
      "execution_count": 4,
      "outputs": []
    },
    {
      "cell_type": "code",
      "source": [
        "from google.colab import drive\n",
        "drive.mount('/content/drive')"
      ],
      "metadata": {
        "id": "KuXkYAeS1wTR"
      },
      "execution_count": null,
      "outputs": []
    },
    {
      "cell_type": "code",
      "source": [
        "tienda_1 =\"/content/challenge1-data-science-latam/base-de-datos-challenge1-latam/tienda_1 .csv\"\n",
        "data= pd.read_csv(tienda_1)"
      ],
      "metadata": {
        "id": "O22dgkPajHmJ"
      },
      "execution_count": 6,
      "outputs": []
    },
    {
      "cell_type": "code",
      "source": [
        "data.head()"
      ],
      "metadata": {
        "id": "0XdxJkfPj-Ay",
        "colab": {
          "base_uri": "https://localhost:8080/",
          "height": 399
        },
        "outputId": "eb504a23-1c6a-43e6-9b36-0ea9eb44b051"
      },
      "execution_count": 148,
      "outputs": [
        {
          "output_type": "execute_result",
          "data": {
            "text/plain": [
              "            Producto Categoría del Producto    Precio  Costo de envío  \\\n",
              "0  Asistente virtual           Electrónicos  164300.0          6900.0   \n",
              "1    Mesa de comedor                Muebles  192300.0          8400.0   \n",
              "2      Juego de mesa               Juguetes  209600.0         15900.0   \n",
              "3         Microondas      Electrodomésticos  757500.0         41000.0   \n",
              "4   Silla de oficina                Muebles  335200.0         20200.0   \n",
              "\n",
              "  Fecha de Compra         Vendedor Lugar de Compra  Calificación  \\\n",
              "0      16/01/2021      Pedro Gomez          Bogotá             4   \n",
              "1      18/05/2022  Beatriz Morales        Medellín             1   \n",
              "2      15/03/2021   Juan Fernandez       Cartagena             1   \n",
              "3      03/05/2022   Juan Fernandez            Cali             4   \n",
              "4      07/11/2020    Maria Alfonso        Medellín             5   \n",
              "\n",
              "       Método de pago  Cantidad de cuotas       lat       lon  \n",
              "0  Tarjeta de crédito                   8   4.60971 -74.08175  \n",
              "1  Tarjeta de crédito                   4   6.25184 -75.56359  \n",
              "2  Tarjeta de crédito                   1  10.39972 -75.51444  \n",
              "3               Nequi                   1   3.43722 -76.52250  \n",
              "4               Nequi                   1   6.25184 -75.56359  "
            ],
            "text/html": [
              "\n",
              "  <div id=\"df-2f824acb-4a49-4fa5-930f-29c01ac7b94d\" class=\"colab-df-container\">\n",
              "    <div>\n",
              "<style scoped>\n",
              "    .dataframe tbody tr th:only-of-type {\n",
              "        vertical-align: middle;\n",
              "    }\n",
              "\n",
              "    .dataframe tbody tr th {\n",
              "        vertical-align: top;\n",
              "    }\n",
              "\n",
              "    .dataframe thead th {\n",
              "        text-align: right;\n",
              "    }\n",
              "</style>\n",
              "<table border=\"1\" class=\"dataframe\">\n",
              "  <thead>\n",
              "    <tr style=\"text-align: right;\">\n",
              "      <th></th>\n",
              "      <th>Producto</th>\n",
              "      <th>Categoría del Producto</th>\n",
              "      <th>Precio</th>\n",
              "      <th>Costo de envío</th>\n",
              "      <th>Fecha de Compra</th>\n",
              "      <th>Vendedor</th>\n",
              "      <th>Lugar de Compra</th>\n",
              "      <th>Calificación</th>\n",
              "      <th>Método de pago</th>\n",
              "      <th>Cantidad de cuotas</th>\n",
              "      <th>lat</th>\n",
              "      <th>lon</th>\n",
              "    </tr>\n",
              "  </thead>\n",
              "  <tbody>\n",
              "    <tr>\n",
              "      <th>0</th>\n",
              "      <td>Asistente virtual</td>\n",
              "      <td>Electrónicos</td>\n",
              "      <td>164300.0</td>\n",
              "      <td>6900.0</td>\n",
              "      <td>16/01/2021</td>\n",
              "      <td>Pedro Gomez</td>\n",
              "      <td>Bogotá</td>\n",
              "      <td>4</td>\n",
              "      <td>Tarjeta de crédito</td>\n",
              "      <td>8</td>\n",
              "      <td>4.60971</td>\n",
              "      <td>-74.08175</td>\n",
              "    </tr>\n",
              "    <tr>\n",
              "      <th>1</th>\n",
              "      <td>Mesa de comedor</td>\n",
              "      <td>Muebles</td>\n",
              "      <td>192300.0</td>\n",
              "      <td>8400.0</td>\n",
              "      <td>18/05/2022</td>\n",
              "      <td>Beatriz Morales</td>\n",
              "      <td>Medellín</td>\n",
              "      <td>1</td>\n",
              "      <td>Tarjeta de crédito</td>\n",
              "      <td>4</td>\n",
              "      <td>6.25184</td>\n",
              "      <td>-75.56359</td>\n",
              "    </tr>\n",
              "    <tr>\n",
              "      <th>2</th>\n",
              "      <td>Juego de mesa</td>\n",
              "      <td>Juguetes</td>\n",
              "      <td>209600.0</td>\n",
              "      <td>15900.0</td>\n",
              "      <td>15/03/2021</td>\n",
              "      <td>Juan Fernandez</td>\n",
              "      <td>Cartagena</td>\n",
              "      <td>1</td>\n",
              "      <td>Tarjeta de crédito</td>\n",
              "      <td>1</td>\n",
              "      <td>10.39972</td>\n",
              "      <td>-75.51444</td>\n",
              "    </tr>\n",
              "    <tr>\n",
              "      <th>3</th>\n",
              "      <td>Microondas</td>\n",
              "      <td>Electrodomésticos</td>\n",
              "      <td>757500.0</td>\n",
              "      <td>41000.0</td>\n",
              "      <td>03/05/2022</td>\n",
              "      <td>Juan Fernandez</td>\n",
              "      <td>Cali</td>\n",
              "      <td>4</td>\n",
              "      <td>Nequi</td>\n",
              "      <td>1</td>\n",
              "      <td>3.43722</td>\n",
              "      <td>-76.52250</td>\n",
              "    </tr>\n",
              "    <tr>\n",
              "      <th>4</th>\n",
              "      <td>Silla de oficina</td>\n",
              "      <td>Muebles</td>\n",
              "      <td>335200.0</td>\n",
              "      <td>20200.0</td>\n",
              "      <td>07/11/2020</td>\n",
              "      <td>Maria Alfonso</td>\n",
              "      <td>Medellín</td>\n",
              "      <td>5</td>\n",
              "      <td>Nequi</td>\n",
              "      <td>1</td>\n",
              "      <td>6.25184</td>\n",
              "      <td>-75.56359</td>\n",
              "    </tr>\n",
              "  </tbody>\n",
              "</table>\n",
              "</div>\n",
              "    <div class=\"colab-df-buttons\">\n",
              "\n",
              "  <div class=\"colab-df-container\">\n",
              "    <button class=\"colab-df-convert\" onclick=\"convertToInteractive('df-2f824acb-4a49-4fa5-930f-29c01ac7b94d')\"\n",
              "            title=\"Convert this dataframe to an interactive table.\"\n",
              "            style=\"display:none;\">\n",
              "\n",
              "  <svg xmlns=\"http://www.w3.org/2000/svg\" height=\"24px\" viewBox=\"0 -960 960 960\">\n",
              "    <path d=\"M120-120v-720h720v720H120Zm60-500h600v-160H180v160Zm220 220h160v-160H400v160Zm0 220h160v-160H400v160ZM180-400h160v-160H180v160Zm440 0h160v-160H620v160ZM180-180h160v-160H180v160Zm440 0h160v-160H620v160Z\"/>\n",
              "  </svg>\n",
              "    </button>\n",
              "\n",
              "  <style>\n",
              "    .colab-df-container {\n",
              "      display:flex;\n",
              "      gap: 12px;\n",
              "    }\n",
              "\n",
              "    .colab-df-convert {\n",
              "      background-color: #E8F0FE;\n",
              "      border: none;\n",
              "      border-radius: 50%;\n",
              "      cursor: pointer;\n",
              "      display: none;\n",
              "      fill: #1967D2;\n",
              "      height: 32px;\n",
              "      padding: 0 0 0 0;\n",
              "      width: 32px;\n",
              "    }\n",
              "\n",
              "    .colab-df-convert:hover {\n",
              "      background-color: #E2EBFA;\n",
              "      box-shadow: 0px 1px 2px rgba(60, 64, 67, 0.3), 0px 1px 3px 1px rgba(60, 64, 67, 0.15);\n",
              "      fill: #174EA6;\n",
              "    }\n",
              "\n",
              "    .colab-df-buttons div {\n",
              "      margin-bottom: 4px;\n",
              "    }\n",
              "\n",
              "    [theme=dark] .colab-df-convert {\n",
              "      background-color: #3B4455;\n",
              "      fill: #D2E3FC;\n",
              "    }\n",
              "\n",
              "    [theme=dark] .colab-df-convert:hover {\n",
              "      background-color: #434B5C;\n",
              "      box-shadow: 0px 1px 3px 1px rgba(0, 0, 0, 0.15);\n",
              "      filter: drop-shadow(0px 1px 2px rgba(0, 0, 0, 0.3));\n",
              "      fill: #FFFFFF;\n",
              "    }\n",
              "  </style>\n",
              "\n",
              "    <script>\n",
              "      const buttonEl =\n",
              "        document.querySelector('#df-2f824acb-4a49-4fa5-930f-29c01ac7b94d button.colab-df-convert');\n",
              "      buttonEl.style.display =\n",
              "        google.colab.kernel.accessAllowed ? 'block' : 'none';\n",
              "\n",
              "      async function convertToInteractive(key) {\n",
              "        const element = document.querySelector('#df-2f824acb-4a49-4fa5-930f-29c01ac7b94d');\n",
              "        const dataTable =\n",
              "          await google.colab.kernel.invokeFunction('convertToInteractive',\n",
              "                                                    [key], {});\n",
              "        if (!dataTable) return;\n",
              "\n",
              "        const docLinkHtml = 'Like what you see? Visit the ' +\n",
              "          '<a target=\"_blank\" href=https://colab.research.google.com/notebooks/data_table.ipynb>data table notebook</a>'\n",
              "          + ' to learn more about interactive tables.';\n",
              "        element.innerHTML = '';\n",
              "        dataTable['output_type'] = 'display_data';\n",
              "        await google.colab.output.renderOutput(dataTable, element);\n",
              "        const docLink = document.createElement('div');\n",
              "        docLink.innerHTML = docLinkHtml;\n",
              "        element.appendChild(docLink);\n",
              "      }\n",
              "    </script>\n",
              "  </div>\n",
              "\n",
              "\n",
              "    <div id=\"df-c568f8ec-859a-4a91-97ee-7d8907db4e18\">\n",
              "      <button class=\"colab-df-quickchart\" onclick=\"quickchart('df-c568f8ec-859a-4a91-97ee-7d8907db4e18')\"\n",
              "                title=\"Suggest charts\"\n",
              "                style=\"display:none;\">\n",
              "\n",
              "<svg xmlns=\"http://www.w3.org/2000/svg\" height=\"24px\"viewBox=\"0 0 24 24\"\n",
              "     width=\"24px\">\n",
              "    <g>\n",
              "        <path d=\"M19 3H5c-1.1 0-2 .9-2 2v14c0 1.1.9 2 2 2h14c1.1 0 2-.9 2-2V5c0-1.1-.9-2-2-2zM9 17H7v-7h2v7zm4 0h-2V7h2v10zm4 0h-2v-4h2v4z\"/>\n",
              "    </g>\n",
              "</svg>\n",
              "      </button>\n",
              "\n",
              "<style>\n",
              "  .colab-df-quickchart {\n",
              "      --bg-color: #E8F0FE;\n",
              "      --fill-color: #1967D2;\n",
              "      --hover-bg-color: #E2EBFA;\n",
              "      --hover-fill-color: #174EA6;\n",
              "      --disabled-fill-color: #AAA;\n",
              "      --disabled-bg-color: #DDD;\n",
              "  }\n",
              "\n",
              "  [theme=dark] .colab-df-quickchart {\n",
              "      --bg-color: #3B4455;\n",
              "      --fill-color: #D2E3FC;\n",
              "      --hover-bg-color: #434B5C;\n",
              "      --hover-fill-color: #FFFFFF;\n",
              "      --disabled-bg-color: #3B4455;\n",
              "      --disabled-fill-color: #666;\n",
              "  }\n",
              "\n",
              "  .colab-df-quickchart {\n",
              "    background-color: var(--bg-color);\n",
              "    border: none;\n",
              "    border-radius: 50%;\n",
              "    cursor: pointer;\n",
              "    display: none;\n",
              "    fill: var(--fill-color);\n",
              "    height: 32px;\n",
              "    padding: 0;\n",
              "    width: 32px;\n",
              "  }\n",
              "\n",
              "  .colab-df-quickchart:hover {\n",
              "    background-color: var(--hover-bg-color);\n",
              "    box-shadow: 0 1px 2px rgba(60, 64, 67, 0.3), 0 1px 3px 1px rgba(60, 64, 67, 0.15);\n",
              "    fill: var(--button-hover-fill-color);\n",
              "  }\n",
              "\n",
              "  .colab-df-quickchart-complete:disabled,\n",
              "  .colab-df-quickchart-complete:disabled:hover {\n",
              "    background-color: var(--disabled-bg-color);\n",
              "    fill: var(--disabled-fill-color);\n",
              "    box-shadow: none;\n",
              "  }\n",
              "\n",
              "  .colab-df-spinner {\n",
              "    border: 2px solid var(--fill-color);\n",
              "    border-color: transparent;\n",
              "    border-bottom-color: var(--fill-color);\n",
              "    animation:\n",
              "      spin 1s steps(1) infinite;\n",
              "  }\n",
              "\n",
              "  @keyframes spin {\n",
              "    0% {\n",
              "      border-color: transparent;\n",
              "      border-bottom-color: var(--fill-color);\n",
              "      border-left-color: var(--fill-color);\n",
              "    }\n",
              "    20% {\n",
              "      border-color: transparent;\n",
              "      border-left-color: var(--fill-color);\n",
              "      border-top-color: var(--fill-color);\n",
              "    }\n",
              "    30% {\n",
              "      border-color: transparent;\n",
              "      border-left-color: var(--fill-color);\n",
              "      border-top-color: var(--fill-color);\n",
              "      border-right-color: var(--fill-color);\n",
              "    }\n",
              "    40% {\n",
              "      border-color: transparent;\n",
              "      border-right-color: var(--fill-color);\n",
              "      border-top-color: var(--fill-color);\n",
              "    }\n",
              "    60% {\n",
              "      border-color: transparent;\n",
              "      border-right-color: var(--fill-color);\n",
              "    }\n",
              "    80% {\n",
              "      border-color: transparent;\n",
              "      border-right-color: var(--fill-color);\n",
              "      border-bottom-color: var(--fill-color);\n",
              "    }\n",
              "    90% {\n",
              "      border-color: transparent;\n",
              "      border-bottom-color: var(--fill-color);\n",
              "    }\n",
              "  }\n",
              "</style>\n",
              "\n",
              "      <script>\n",
              "        async function quickchart(key) {\n",
              "          const quickchartButtonEl =\n",
              "            document.querySelector('#' + key + ' button');\n",
              "          quickchartButtonEl.disabled = true;  // To prevent multiple clicks.\n",
              "          quickchartButtonEl.classList.add('colab-df-spinner');\n",
              "          try {\n",
              "            const charts = await google.colab.kernel.invokeFunction(\n",
              "                'suggestCharts', [key], {});\n",
              "          } catch (error) {\n",
              "            console.error('Error during call to suggestCharts:', error);\n",
              "          }\n",
              "          quickchartButtonEl.classList.remove('colab-df-spinner');\n",
              "          quickchartButtonEl.classList.add('colab-df-quickchart-complete');\n",
              "        }\n",
              "        (() => {\n",
              "          let quickchartButtonEl =\n",
              "            document.querySelector('#df-c568f8ec-859a-4a91-97ee-7d8907db4e18 button');\n",
              "          quickchartButtonEl.style.display =\n",
              "            google.colab.kernel.accessAllowed ? 'block' : 'none';\n",
              "        })();\n",
              "      </script>\n",
              "    </div>\n",
              "\n",
              "    </div>\n",
              "  </div>\n"
            ],
            "application/vnd.google.colaboratory.intrinsic+json": {
              "type": "dataframe",
              "variable_name": "data",
              "summary": "{\n  \"name\": \"data\",\n  \"rows\": 2359,\n  \"fields\": [\n    {\n      \"column\": \"Producto\",\n      \"properties\": {\n        \"dtype\": \"category\",\n        \"num_unique_values\": 51,\n        \"samples\": [\n          \"Guitarra ac\\u00fastica\",\n          \"Bal\\u00f3n de baloncesto\",\n          \"Smartwatch\"\n        ],\n        \"semantic_type\": \"\",\n        \"description\": \"\"\n      }\n    },\n    {\n      \"column\": \"Categor\\u00eda del Producto\",\n      \"properties\": {\n        \"dtype\": \"category\",\n        \"num_unique_values\": 8,\n        \"samples\": [\n          \"Muebles\",\n          \"Deportes y diversi\\u00f3n\",\n          \"Electr\\u00f3nicos\"\n        ],\n        \"semantic_type\": \"\",\n        \"description\": \"\"\n      }\n    },\n    {\n      \"column\": \"Precio\",\n      \"properties\": {\n        \"dtype\": \"number\",\n        \"std\": 614686.7653873172,\n        \"min\": 7600.0,\n        \"max\": 2977000.0,\n        \"num_unique_values\": 1937,\n        \"samples\": [\n          2499400.0,\n          14800.0,\n          80500.0\n        ],\n        \"semantic_type\": \"\",\n        \"description\": \"\"\n      }\n    },\n    {\n      \"column\": \"Costo de env\\u00edo\",\n      \"properties\": {\n        \"dtype\": \"number\",\n        \"std\": 32860.0017825605,\n        \"min\": 0.0,\n        \"max\": 160800.0,\n        \"num_unique_values\": 753,\n        \"samples\": [\n          117800.0,\n          54700.0,\n          45600.0\n        ],\n        \"semantic_type\": \"\",\n        \"description\": \"\"\n      }\n    },\n    {\n      \"column\": \"Fecha de Compra\",\n      \"properties\": {\n        \"dtype\": \"object\",\n        \"num_unique_values\": 1018,\n        \"samples\": [\n          \"15/09/2022\",\n          \"03/06/2020\",\n          \"06/11/2021\"\n        ],\n        \"semantic_type\": \"\",\n        \"description\": \"\"\n      }\n    },\n    {\n      \"column\": \"Vendedor\",\n      \"properties\": {\n        \"dtype\": \"category\",\n        \"num_unique_values\": 14,\n        \"samples\": [\n          \"Juliana Costa\",\n          \"Mariana Herrera\",\n          \"Pedro Gomez\"\n        ],\n        \"semantic_type\": \"\",\n        \"description\": \"\"\n      }\n    },\n    {\n      \"column\": \"Lugar de Compra\",\n      \"properties\": {\n        \"dtype\": \"category\",\n        \"num_unique_values\": 19,\n        \"samples\": [\n          \"Bogot\\u00e1\",\n          \"Pereira\",\n          \"Neiva\"\n        ],\n        \"semantic_type\": \"\",\n        \"description\": \"\"\n      }\n    },\n    {\n      \"column\": \"Calificaci\\u00f3n\",\n      \"properties\": {\n        \"dtype\": \"number\",\n        \"std\": 1,\n        \"min\": 1,\n        \"max\": 5,\n        \"num_unique_values\": 5,\n        \"samples\": [\n          1,\n          2,\n          5\n        ],\n        \"semantic_type\": \"\",\n        \"description\": \"\"\n      }\n    },\n    {\n      \"column\": \"M\\u00e9todo de pago\",\n      \"properties\": {\n        \"dtype\": \"category\",\n        \"num_unique_values\": 4,\n        \"samples\": [\n          \"Nequi\",\n          \"Tarjeta de d\\u00e9bito\",\n          \"Tarjeta de cr\\u00e9dito\"\n        ],\n        \"semantic_type\": \"\",\n        \"description\": \"\"\n      }\n    },\n    {\n      \"column\": \"Cantidad de cuotas\",\n      \"properties\": {\n        \"dtype\": \"number\",\n        \"std\": 2,\n        \"min\": 1,\n        \"max\": 24,\n        \"num_unique_values\": 15,\n        \"samples\": [\n          7,\n          14,\n          8\n        ],\n        \"semantic_type\": \"\",\n        \"description\": \"\"\n      }\n    },\n    {\n      \"column\": \"lat\",\n      \"properties\": {\n        \"dtype\": \"number\",\n        \"std\": 2.2874452492678627,\n        \"min\": -4.21528,\n        \"max\": 11.54444,\n        \"num_unique_values\": 19,\n        \"samples\": [\n          4.60971,\n          4.81333,\n          2.9273\n        ],\n        \"semantic_type\": \"\",\n        \"description\": \"\"\n      }\n    },\n    {\n      \"column\": \"lon\",\n      \"properties\": {\n        \"dtype\": \"number\",\n        \"std\": 1.2178272727088486,\n        \"min\": -77.28111,\n        \"max\": -67.9239,\n        \"num_unique_values\": 19,\n        \"samples\": [\n          -74.08175,\n          -75.69611,\n          -75.28189\n        ],\n        \"semantic_type\": \"\",\n        \"description\": \"\"\n      }\n    }\n  ]\n}"
            }
          },
          "metadata": {},
          "execution_count": 148
        }
      ]
    },
    {
      "cell_type": "code",
      "source": [
        "Calculo de Facturacion"
      ],
      "metadata": {
        "id": "BUgXbd9W8Rz8"
      },
      "execution_count": null,
      "outputs": []
    },
    {
      "cell_type": "markdown",
      "source": [
        "# **Calculo de Facturacion**"
      ],
      "metadata": {
        "id": "Kk7Ka1lk-7fb"
      }
    },
    {
      "cell_type": "code",
      "source": [
        "# Funcion para Calculo de Ingresos\n",
        "def calculo_ingresos(tienda):\n",
        "    import pandas as pd\n",
        "    import numpy as np\n",
        "    data= pd.read_csv(tienda)\n",
        "    # Calculamos la suma del campo precio\n",
        "    suma = data['Precio'].sum()\n",
        "    return suma\n"
      ],
      "metadata": {
        "id": "08zKn8ll_cxn"
      },
      "execution_count": 16,
      "outputs": []
    },
    {
      "cell_type": "code",
      "source": [
        "# Programa Principal para calculo de Ingresos por Tienda\n",
        "resumen_ingreso = []\n",
        "\n",
        "# Calculo de Ingresos Tienda 1\n",
        "tienda = '/content/challenge1-data-science-latam/base-de-datos-challenge1-latam/tienda_1 .csv'\n",
        "resultado = calculo_ingresos(tienda)\n",
        "\n",
        "print('Ingreso Total Tienda 1 = {:,.2f}'.format(resultado))\n",
        "resumen_ingreso.append(resultado)\n",
        "\n",
        "\n",
        "# Calculo de Ingresos tienda 2\n",
        "tienda = '/content/challenge1-data-science-latam/base-de-datos-challenge1-latam/tienda_2.csv'\n",
        "resultado = calculo_ingresos(tienda)\n",
        "\n",
        "print('Ingreso Total Tienda 2 = {:,.2f}'.format(resultado))\n",
        "resumen_ingreso.append(resultado)\n",
        "\n",
        "\n",
        "# Calculo de Ingresos tienda 3\n",
        "tienda = '/content/challenge1-data-science-latam/base-de-datos-challenge1-latam/tienda_3.csv'\n",
        "resultado = calculo_ingresos(tienda)\n",
        "\n",
        "print('Ingreso Total Tienda 3 = {:,.2f}'.format(resultado))\n",
        "resumen_ingreso.append(resultado)\n",
        "\n",
        "\n",
        "# Calculo de Ingresos tienda 4\n",
        "tienda = '/content/challenge1-data-science-latam/base-de-datos-challenge1-latam/tienda_4.csv'\n",
        "resultado = calculo_ingresos(tienda)\n",
        "\n",
        "print('Ingreso Total Tienda 4 = {:,.2f}'.format(resultado))\n",
        "resumen_ingreso.append(resultado)\n",
        "\n"
      ],
      "metadata": {
        "id": "RHVZumf0QfIv",
        "colab": {
          "base_uri": "https://localhost:8080/"
        },
        "outputId": "3a8e4e9c-2b3f-46a5-d7b7-91e51fb1d4dd"
      },
      "execution_count": 149,
      "outputs": [
        {
          "output_type": "stream",
          "name": "stdout",
          "text": [
            "Ingreso Total Tienda 1 = 1,150,880,400.00\n",
            "Ingreso Total Tienda 2 = 1,116,343,500.00\n",
            "Ingreso Total Tienda 3 = 1,098,019,600.00\n",
            "Ingreso Total Tienda 4 = 1,038,375,700.00\n"
          ]
        }
      ]
    },
    {
      "cell_type": "code",
      "source": [],
      "metadata": {
        "id": "622HRiGT_J2W"
      },
      "execution_count": null,
      "outputs": []
    },
    {
      "cell_type": "markdown",
      "source": [
        "# **Productos Vendidos por Categoria**"
      ],
      "metadata": {
        "id": "1pXcAsZo_LQE"
      }
    },
    {
      "cell_type": "code",
      "source": [
        "# Funcion para Calculo de cantidad de productos vendidos por Categoria/Tienda\n",
        "def categoria_frecuencia(tienda):\n",
        "    lista_categorias = []\n",
        "    lista_cantidades = []\n",
        "    import pandas as pd\n",
        "    import numpy as np\n",
        "    data= pd.read_csv(tienda)\n",
        "    df = pd.DataFrame(data)\n",
        "    frecuencias = df['Categoría del Producto'].value_counts().head(5)\n",
        "    #lista_categorias = frecuencias.index.tolist()\n",
        "    #lista_cantidades = frecuencias.values.tolist()\n",
        "    frecuencias_df = frecuencias.reset_index()\n",
        "    frecuencias_df.columns = ['Categoría del Producto', 'Cantidad']\n",
        "    return frecuencias_df"
      ],
      "metadata": {
        "id": "8M4rMQw2Vh7q"
      },
      "execution_count": 143,
      "outputs": []
    },
    {
      "cell_type": "code",
      "source": [
        "# Programa Principal para conteo de frecuencias por Categoria/Tienda\n",
        "\n",
        "# Calculo de frecuencias por Categoria Tienda 1\n",
        "tienda = '/content/challenge1-data-science-latam/base-de-datos-challenge1-latam/tienda_1 .csv'\n",
        "ntienda = \"Tienda 1\"\n",
        "resultado = categoria_frecuencia(tienda)\n",
        "lista_categorias = resultado['Categoría del Producto'].tolist()\n",
        "lista_cantidades = resultado['Cantidad'].tolist()\n",
        "\n",
        "print('\\n'\"Categorias mas populares \", ntienda)\n",
        "print(resultado)\n",
        "\n",
        "# Calculo de frecuencias por Categoria Tienda 2\n",
        "tienda = '/content/challenge1-data-science-latam/base-de-datos-challenge1-latam/tienda_2.csv'\n",
        "ntienda = \"Tienda 2\"\n",
        "resultado = categoria_frecuencia(tienda)\n",
        "print('\\n'\"Categorias mas populares \", ntienda)\n",
        "print(resultado)\n",
        "\n",
        "# Calculo de frecuencias por Categoria Tienda 3\n",
        "\n",
        "tienda = '/content/challenge1-data-science-latam/base-de-datos-challenge1-latam/tienda_3.csv'\n",
        "ntienda = \"Tienda 3\"\n",
        "resultado = categoria_frecuencia(tienda)\n",
        "print('\\n'\"Categorias mas populares \", ntienda)\n",
        "print(resultado)\n",
        "\n",
        "# Calculo de frecuencias por Categoria Tienda 4\n",
        "tienda = '/content/challenge1-data-science-latam/base-de-datos-challenge1-latam/tienda_4.csv'\n",
        "ntienda = \"Tienda 4\"\n",
        "resultado = categoria_frecuencia(tienda)\n",
        "print('\\n'\"Categorias mas populares \", ntienda)\n",
        "print(resultado)"
      ],
      "metadata": {
        "colab": {
          "base_uri": "https://localhost:8080/"
        },
        "id": "Ks4LvQckc0nC",
        "outputId": "4f4fde9a-ecff-4db6-be8f-a7301d8755a7"
      },
      "execution_count": 150,
      "outputs": [
        {
          "output_type": "stream",
          "name": "stdout",
          "text": [
            "\n",
            "Categorias mas populares  Tienda 1\n",
            "  Categoría del Producto  Cantidad\n",
            "0                Muebles       465\n",
            "1           Electrónicos       448\n",
            "2               Juguetes       324\n",
            "3      Electrodomésticos       312\n",
            "4   Deportes y diversión       284\n",
            "\n",
            "Categorias mas populares  Tienda 2\n",
            "  Categoría del Producto  Cantidad\n",
            "0                Muebles       442\n",
            "1           Electrónicos       422\n",
            "2               Juguetes       313\n",
            "3      Electrodomésticos       305\n",
            "4   Deportes y diversión       275\n",
            "\n",
            "Categorias mas populares  Tienda 3\n",
            "  Categoría del Producto  Cantidad\n",
            "0                Muebles       499\n",
            "1           Electrónicos       451\n",
            "2               Juguetes       315\n",
            "3      Electrodomésticos       278\n",
            "4   Deportes y diversión       277\n",
            "\n",
            "Categorias mas populares  Tienda 4\n",
            "  Categoría del Producto  Cantidad\n",
            "0                Muebles       480\n",
            "1           Electrónicos       451\n",
            "2               Juguetes       338\n",
            "3   Deportes y diversión       277\n",
            "4      Electrodomésticos       254\n"
          ]
        }
      ]
    },
    {
      "cell_type": "code",
      "source": [],
      "metadata": {
        "id": "52At0nwn_aMF"
      },
      "execution_count": null,
      "outputs": []
    },
    {
      "cell_type": "markdown",
      "source": [
        "# **Promedio de Calificacion**"
      ],
      "metadata": {
        "id": "CDtIeBAK_bUr"
      }
    },
    {
      "cell_type": "code",
      "source": [
        "# Funcion para calculo de calificacion Promedio de Satisfaccion\n",
        "def calculo_calificacion (tienda):\n",
        "    import pandas as pd\n",
        "    import numpy as np\n",
        "\n",
        "    data= pd.read_csv(tienda)\n",
        "    df = pd.DataFrame(data)\n",
        "    promedio_calificacion = df['Calificación'].mean()\n",
        "\n",
        "    return promedio_calificacion\n"
      ],
      "metadata": {
        "id": "TrTzoHGTGam1"
      },
      "execution_count": 102,
      "outputs": []
    },
    {
      "cell_type": "code",
      "source": [
        "# Programa Principal para promedio de satisfaccion por Tienda\n",
        "\n",
        "promedio_satisfaccion =[]\n",
        "\n",
        "# Calculo de promedio de satisfaccion Tienda 1\n",
        "tienda = '/content/challenge1-data-science-latam/base-de-datos-challenge1-latam/tienda_1 .csv'\n",
        "resultado = round(calculo_calificacion(tienda),2)\n",
        "promedio_satisfaccion.append(resultado)\n",
        "print('\\n''Valoracion Media Tienda 1 = {:,.2f}'.format(resultado))\n",
        "\n",
        "# Calculo de promedio de satisfaccion Tienda 2\n",
        "tienda = '/content/challenge1-data-science-latam/base-de-datos-challenge1-latam/tienda_2.csv'\n",
        "resultado = round(calculo_calificacion(tienda),2)\n",
        "promedio_satisfaccion.append(resultado)\n",
        "print('\\n''Valoracion Media Tienda 2 = {:,.2f}'.format(resultado))\n",
        "\n",
        "# Calculo de promedio de satisfaccion Tienda 3\n",
        "tienda = '/content/challenge1-data-science-latam/base-de-datos-challenge1-latam/tienda_3.csv'\n",
        "resultado = round(calculo_calificacion(tienda),2)\n",
        "promedio_satisfaccion.append(resultado)\n",
        "print('\\n''Valoracion Media Tienda 3 = {:,.2f}'.format(resultado))\n",
        "\n",
        "# Calculo de promedio de satisfaccion Tienda 4\n",
        "tienda = '/content/challenge1-data-science-latam/base-de-datos-challenge1-latam/tienda_4.csv'\n",
        "resultado = round(calculo_calificacion(tienda),2)\n",
        "promedio_satisfaccion.append(resultado)\n",
        "print('\\n''Valoracion Media Tienda 4 = {:,.2f}'.format(resultado))\n"
      ],
      "metadata": {
        "colab": {
          "base_uri": "https://localhost:8080/"
        },
        "id": "tqqdJVjBQyTb",
        "outputId": "ddc9ae7d-4e21-4068-a7ed-ef1de15ced94"
      },
      "execution_count": 151,
      "outputs": [
        {
          "output_type": "stream",
          "name": "stdout",
          "text": [
            "\n",
            "Valoracion Media Tienda 1 = 3.98\n",
            "\n",
            "Valoracion Media Tienda 2 = 4.04\n",
            "\n",
            "Valoracion Media Tienda 3 = 4.05\n",
            "\n",
            "Valoracion Media Tienda 4 = 4.00\n"
          ]
        }
      ]
    },
    {
      "cell_type": "code",
      "source": [],
      "metadata": {
        "id": "G7GNu_em_uSl"
      },
      "execution_count": null,
      "outputs": []
    },
    {
      "cell_type": "markdown",
      "source": [
        "# **Productos Mas y Menos Vendidos**"
      ],
      "metadata": {
        "id": "xd_zVO7P_wXD"
      }
    },
    {
      "cell_type": "code",
      "source": [
        "# Funcion para Calculo de los productos mas y menos vendidos Tienda\n",
        "def frecuencia_productos (tienda,opcion):\n",
        "    import pandas as pd\n",
        "    import numpy as np\n",
        "\n",
        "    data= pd.read_csv(tienda)\n",
        "    df = pd.DataFrame(data)\n",
        "\n",
        "    if 'Producto' not in df.columns:\n",
        "        # If not, print an error message and return None\n",
        "        print(f\"Error: Column 'Producto' no existe en fichero\")\n",
        "        return None\n",
        "\n",
        "    if opcion == 1:\n",
        "      frecuencias_prod_max = df['Producto'].value_counts().head(3)\n",
        "      frecuencias_df_prod = frecuencias_prod_max.reset_index()\n",
        "\n",
        "    else:\n",
        "      frecuencias_prod_min = df['Producto'].value_counts().tail(3)\n",
        "      frecuencias_df_prod = frecuencias_prod_min.reset_index()\n",
        "    frecuencias_df_prod.columns = ['Producto', 'Cantidad']\n",
        "    return frecuencias_df_prod"
      ],
      "metadata": {
        "id": "UJwWEv16TzvF"
      },
      "execution_count": 126,
      "outputs": []
    },
    {
      "cell_type": "code",
      "source": [
        "# Programa Principal para productos maximos y minimos en ventas porTienda\n",
        "\n",
        "# Calculo Productos Tienda 1\n",
        "tienda = '/content/challenge1-data-science-latam/base-de-datos-challenge1-latam/tienda_1 .csv'\n",
        "\n",
        "# Calculo de Productos mas vendidos Tienda 1\n",
        "opcion = 1\n",
        "resultado = frecuencia_productos(tienda,opcion)\n",
        "if opcion == 1:\n",
        "  print('\\n'\"Productos mas vendidos Tienda 1\")\n",
        "else:\n",
        "  print('\\n'\"Productos menos vendidos Tienda 1\")\n",
        "print(resultado)\n",
        "\n",
        "# Calculo de Productos menos vendidos Tienda 1\n",
        "opcion = 2\n",
        "resultado = frecuencia_productos(tienda,opcion)\n",
        "if opcion == 1:\n",
        "  print('\\n'\"Productos mas vendidos Tienda 1\")\n",
        "else:\n",
        "  print('\\n'\"Productos menos vendidos Tienda 1\")\n",
        "print(resultado)\n",
        "\n",
        "# Calculo Productos  Tienda 2\n",
        "tienda = '/content/challenge1-data-science-latam/base-de-datos-challenge1-latam/tienda_2.csv'\n",
        "\n",
        "# Calculo de Productos mas vendidos Tienda 2\n",
        "opcion = 1\n",
        "resultado = frecuencia_productos(tienda,opcion)\n",
        "if opcion == 1:\n",
        "  print('\\n'\"Productos mas vendidos Tienda 2\")\n",
        "else:\n",
        "  print('\\n'\"Productos menos vendidos Tienda 2\")\n",
        "print(resultado)\n",
        "\n",
        "# Calculo de Productos menos vendidos Tienda 2\n",
        "opcion = 2\n",
        "resultado = frecuencia_productos(tienda,opcion)\n",
        "if opcion == 1:\n",
        "  print('\\n'\"Productos mas vendidos Tienda 2\")\n",
        "else:\n",
        "  print('\\n'\"Productos menos vendidos Tienda 2\")\n",
        "print(resultado)\n",
        "\n",
        "# Calculo Productos  Tienda 3\n",
        "tienda = '/content/challenge1-data-science-latam/base-de-datos-challenge1-latam/tienda_3.csv'\n",
        "\n",
        "# Calculo de Productos mas vendidos Tienda 3\n",
        "opcion = 1\n",
        "resultado = frecuencia_productos(tienda,opcion)\n",
        "if opcion == 1:\n",
        "  print('\\n'\"Productos mas vendidos Tienda 3\")\n",
        "else:\n",
        "  print('\\n'\"Productos menos vendidos Tienda 3\")\n",
        "print(resultado)\n",
        "\n",
        "# Calculo de Productos menos vendidos Tienda 3\n",
        "opcion = 2\n",
        "resultado = frecuencia_productos(tienda,opcion)\n",
        "if opcion == 1:\n",
        "  print('\\n'\"Productos mas vendidos Tienda 3\")\n",
        "else:\n",
        "  print('\\n'\"Productos menos vendidos Tienda 3\")\n",
        "print(resultado)\n",
        "\n",
        "# Calculo Productos  Tienda 4\n",
        "tienda = '/content/challenge1-data-science-latam/base-de-datos-challenge1-latam/tienda_4.csv'\n",
        "\n",
        "# Calculo de Productos mas vendidos Tienda 4\n",
        "opcion = 1\n",
        "resultado = frecuencia_productos(tienda,opcion)\n",
        "if opcion == 1:\n",
        "  print('\\n'\"Productos mas vendidos Tienda 4\")\n",
        "else:\n",
        "  print('\\n'\"Productos menos vendidos Tienda 4\")\n",
        "print(resultado)\n",
        "\n",
        "# Calculo de Productos menos vendidos Tienda 4\n",
        "opcion = 2\n",
        "resultado = frecuencia_productos(tienda,opcion)\n",
        "if opcion == 1:\n",
        "  print('\\n'\"Productos mas vendidos Tienda 4\")\n",
        "else:\n",
        "  print('\\n'\"Productos menos vendidos Tienda 4\")\n",
        "print(resultado)\n"
      ],
      "metadata": {
        "colab": {
          "base_uri": "https://localhost:8080/"
        },
        "id": "oXaZ22x3wyQA",
        "outputId": "39216580-3eac-4d3a-9d93-5c29c4fdb247"
      },
      "execution_count": 152,
      "outputs": [
        {
          "output_type": "stream",
          "name": "stdout",
          "text": [
            "\n",
            "Productos mas vendidos Tienda 1\n",
            "        Producto  Cantidad\n",
            "0     Microondas        60\n",
            "1  TV LED UHD 4K        60\n",
            "2        Armario        60\n",
            "\n",
            "Productos menos vendidos Tienda 1\n",
            "                    Producto  Cantidad\n",
            "0            Olla de presión        35\n",
            "1  Auriculares con micrófono        33\n",
            "2               Celular ABXY        33\n",
            "\n",
            "Productos mas vendidos Tienda 2\n",
            "                    Producto  Cantidad\n",
            "0  Iniciando en programación        65\n",
            "1                 Microondas        62\n",
            "2                    Batería        61\n",
            "\n",
            "Productos menos vendidos Tienda 2\n",
            "          Producto  Cantidad\n",
            "0  Mesa de comedor        34\n",
            "1        Impresora        34\n",
            "2    Juego de mesa        32\n",
            "\n",
            "Productos mas vendidos Tienda 3\n",
            "          Producto  Cantidad\n",
            "0    Kit de bancas        57\n",
            "1  Mesa de comedor        56\n",
            "2        Cama king        56\n",
            "\n",
            "Productos menos vendidos Tienda 3\n",
            "                  Producto  Cantidad\n",
            "0                  Mochila        36\n",
            "1               Microondas        36\n",
            "2  Bloques de construcción        35\n",
            "\n",
            "Productos mas vendidos Tienda 4\n",
            "                  Producto  Cantidad\n",
            "0                 Cama box        62\n",
            "1               Cubertería        59\n",
            "2  Dashboards con Power BI        56\n",
            "\n",
            "Productos menos vendidos Tienda 4\n",
            "             Producto  Cantidad\n",
            "0   Guitarra acústica        37\n",
            "1             Armario        34\n",
            "2  Guitarra eléctrica        33\n"
          ]
        }
      ]
    },
    {
      "cell_type": "code",
      "source": [],
      "metadata": {
        "id": "9kX1DpMG_5f3"
      },
      "execution_count": null,
      "outputs": []
    },
    {
      "cell_type": "markdown",
      "source": [
        "# **Promedio de Costo de Envio**"
      ],
      "metadata": {
        "id": "KBM0xOfT_6Rb"
      }
    },
    {
      "cell_type": "code",
      "source": [
        "#Funcion para calculo de Valor de envio Promedio por Tienda\n",
        "def calculo_envio (tienda):\n",
        "\n",
        "    import pandas as pd\n",
        "    import numpy as np\n",
        "\n",
        "    data= pd.read_csv(tienda)\n",
        "    df = pd.DataFrame(data)\n",
        "    promedio_envio = df['Costo de envío'].mean()\n",
        "\n",
        "    return promedio_envio"
      ],
      "metadata": {
        "id": "JWS96QCPHynD"
      },
      "execution_count": 175,
      "outputs": []
    },
    {
      "cell_type": "code",
      "source": [
        "# Programa Principal para promedio de valor de envio por Tienda\n",
        "\n",
        "prom_envio =[]\n",
        "\n",
        "# Calculo de promedio de envio Tienda 1\n",
        "tienda = '/content/challenge1-data-science-latam/base-de-datos-challenge1-latam/tienda_1 .csv'\n",
        "resultado = round(calculo_envio(tienda),2)\n",
        "prom_envio.append(resultado)\n",
        "print('\\n''Promedio costo envio Tienda 1 = {:,.2f}'.format(resultado))\n",
        "\n",
        "# Calculo de promedio de satisfaccion Tienda 2\n",
        "tienda = '/content/challenge1-data-science-latam/base-de-datos-challenge1-latam/tienda_2.csv'\n",
        "resultado = round(calculo_envio(tienda),2)\n",
        "prom_envio.append(resultado)\n",
        "print('\\n''Promedio costo envio Tienda 2 = {:,.2f}'.format(resultado))\n",
        "\n",
        "# Calculo de promedio de satisfaccion Tienda 3\n",
        "tienda = '/content/challenge1-data-science-latam/base-de-datos-challenge1-latam/tienda_3.csv'\n",
        "resultado = round(calculo_envio(tienda),2)\n",
        "prom_envio.append(resultado)\n",
        "print('\\n''Promedio costo envio Tienda 3 = {:,.2f}'.format(resultado))\n",
        "\n",
        "# Calculo de promedio de satisfaccion Tienda 4\n",
        "tienda = '/content/challenge1-data-science-latam/base-de-datos-challenge1-latam/tienda_4.csv'\n",
        "resultado = round(calculo_envio(tienda),2)\n",
        "prom_envio.append(resultado)\n",
        "print('\\n''Promedio costo envio Tienda 4 = {:,.2f}'.format(resultado))\n"
      ],
      "metadata": {
        "colab": {
          "base_uri": "https://localhost:8080/"
        },
        "id": "WWT1qNZDJLAm",
        "outputId": "e1f43b96-49bd-45fa-9491-ad2e382a0504"
      },
      "execution_count": 176,
      "outputs": [
        {
          "output_type": "stream",
          "name": "stdout",
          "text": [
            "\n",
            "Promedio costo envio Tienda 1 = 26,018.61\n",
            "\n",
            "Promedio costo envio Tienda 2 = 25,216.24\n",
            "\n",
            "Promedio costo envio Tienda 3 = 24,805.68\n",
            "\n",
            "Promedio costo envio Tienda 4 = 23,459.46\n"
          ]
        }
      ]
    },
    {
      "cell_type": "code",
      "source": [],
      "metadata": {
        "id": "TD5bb8GpACbF"
      },
      "execution_count": null,
      "outputs": []
    },
    {
      "cell_type": "markdown",
      "source": [
        "# **Graficos**"
      ],
      "metadata": {
        "id": "v1CSvMSIADYe"
      }
    },
    {
      "cell_type": "code",
      "source": [
        "#Grafico de Barras Verticales Ingresos totales Tiendas\n",
        "\n",
        "import plotly.express as px\n",
        "import pandas as pd\n",
        "\n",
        "list(resumen_ingreso)\n",
        "\n",
        "# Datos de muestra\n",
        "df = pd.DataFrame(dict(grupo = [\"Tienda 1\",\"Tienda 2\", \"Tienda 3\",\"Tienda 4\"], valor = list(resumen_ingreso)))\n",
        "\n",
        "fig = px.bar(df, x = 'grupo', y = 'valor',\n",
        "             title = \"<b>DISTRIBUCION DE INGRESOS POR TIENDA</b>\",\n",
        "             labels = {'grupo': 'Tiendas', 'valor': 'Ingresos'})\n",
        "\n",
        "fig.show()\n"
      ],
      "metadata": {
        "colab": {
          "base_uri": "https://localhost:8080/",
          "height": 542
        },
        "id": "BkxkUEGn-s7b",
        "outputId": "9bebe391-e670-430d-d2ef-3110d2d73ea2"
      },
      "execution_count": 172,
      "outputs": [
        {
          "output_type": "display_data",
          "data": {
            "text/html": [
              "<html>\n",
              "<head><meta charset=\"utf-8\" /></head>\n",
              "<body>\n",
              "    <div>            <script src=\"https://cdnjs.cloudflare.com/ajax/libs/mathjax/2.7.5/MathJax.js?config=TeX-AMS-MML_SVG\"></script><script type=\"text/javascript\">if (window.MathJax && window.MathJax.Hub && window.MathJax.Hub.Config) {window.MathJax.Hub.Config({SVG: {font: \"STIX-Web\"}});}</script>                <script type=\"text/javascript\">window.PlotlyConfig = {MathJaxConfig: 'local'};</script>\n",
              "        <script charset=\"utf-8\" src=\"https://cdn.plot.ly/plotly-2.35.2.min.js\"></script>                <div id=\"45b0f8ed-0e61-4142-b959-3c3a8f3bd222\" class=\"plotly-graph-div\" style=\"height:525px; width:100%;\"></div>            <script type=\"text/javascript\">                                    window.PLOTLYENV=window.PLOTLYENV || {};                                    if (document.getElementById(\"45b0f8ed-0e61-4142-b959-3c3a8f3bd222\")) {                    Plotly.newPlot(                        \"45b0f8ed-0e61-4142-b959-3c3a8f3bd222\",                        [{\"alignmentgroup\":\"True\",\"hovertemplate\":\"Tiendas=%{x}\\u003cbr\\u003eIngresos=%{y}\\u003cextra\\u003e\\u003c\\u002fextra\\u003e\",\"legendgroup\":\"\",\"marker\":{\"color\":\"#636efa\",\"pattern\":{\"shape\":\"\"}},\"name\":\"\",\"offsetgroup\":\"\",\"orientation\":\"v\",\"showlegend\":false,\"textposition\":\"auto\",\"x\":[\"Tienda 1\",\"Tienda 2\",\"Tienda 3\",\"Tienda 4\"],\"xaxis\":\"x\",\"y\":[1150880400.0,1116343500.0,1098019600.0,1038375700.0],\"yaxis\":\"y\",\"type\":\"bar\"}],                        {\"template\":{\"data\":{\"histogram2dcontour\":[{\"type\":\"histogram2dcontour\",\"colorbar\":{\"outlinewidth\":0,\"ticks\":\"\"},\"colorscale\":[[0.0,\"#0d0887\"],[0.1111111111111111,\"#46039f\"],[0.2222222222222222,\"#7201a8\"],[0.3333333333333333,\"#9c179e\"],[0.4444444444444444,\"#bd3786\"],[0.5555555555555556,\"#d8576b\"],[0.6666666666666666,\"#ed7953\"],[0.7777777777777778,\"#fb9f3a\"],[0.8888888888888888,\"#fdca26\"],[1.0,\"#f0f921\"]]}],\"choropleth\":[{\"type\":\"choropleth\",\"colorbar\":{\"outlinewidth\":0,\"ticks\":\"\"}}],\"histogram2d\":[{\"type\":\"histogram2d\",\"colorbar\":{\"outlinewidth\":0,\"ticks\":\"\"},\"colorscale\":[[0.0,\"#0d0887\"],[0.1111111111111111,\"#46039f\"],[0.2222222222222222,\"#7201a8\"],[0.3333333333333333,\"#9c179e\"],[0.4444444444444444,\"#bd3786\"],[0.5555555555555556,\"#d8576b\"],[0.6666666666666666,\"#ed7953\"],[0.7777777777777778,\"#fb9f3a\"],[0.8888888888888888,\"#fdca26\"],[1.0,\"#f0f921\"]]}],\"heatmap\":[{\"type\":\"heatmap\",\"colorbar\":{\"outlinewidth\":0,\"ticks\":\"\"},\"colorscale\":[[0.0,\"#0d0887\"],[0.1111111111111111,\"#46039f\"],[0.2222222222222222,\"#7201a8\"],[0.3333333333333333,\"#9c179e\"],[0.4444444444444444,\"#bd3786\"],[0.5555555555555556,\"#d8576b\"],[0.6666666666666666,\"#ed7953\"],[0.7777777777777778,\"#fb9f3a\"],[0.8888888888888888,\"#fdca26\"],[1.0,\"#f0f921\"]]}],\"heatmapgl\":[{\"type\":\"heatmapgl\",\"colorbar\":{\"outlinewidth\":0,\"ticks\":\"\"},\"colorscale\":[[0.0,\"#0d0887\"],[0.1111111111111111,\"#46039f\"],[0.2222222222222222,\"#7201a8\"],[0.3333333333333333,\"#9c179e\"],[0.4444444444444444,\"#bd3786\"],[0.5555555555555556,\"#d8576b\"],[0.6666666666666666,\"#ed7953\"],[0.7777777777777778,\"#fb9f3a\"],[0.8888888888888888,\"#fdca26\"],[1.0,\"#f0f921\"]]}],\"contourcarpet\":[{\"type\":\"contourcarpet\",\"colorbar\":{\"outlinewidth\":0,\"ticks\":\"\"}}],\"contour\":[{\"type\":\"contour\",\"colorbar\":{\"outlinewidth\":0,\"ticks\":\"\"},\"colorscale\":[[0.0,\"#0d0887\"],[0.1111111111111111,\"#46039f\"],[0.2222222222222222,\"#7201a8\"],[0.3333333333333333,\"#9c179e\"],[0.4444444444444444,\"#bd3786\"],[0.5555555555555556,\"#d8576b\"],[0.6666666666666666,\"#ed7953\"],[0.7777777777777778,\"#fb9f3a\"],[0.8888888888888888,\"#fdca26\"],[1.0,\"#f0f921\"]]}],\"surface\":[{\"type\":\"surface\",\"colorbar\":{\"outlinewidth\":0,\"ticks\":\"\"},\"colorscale\":[[0.0,\"#0d0887\"],[0.1111111111111111,\"#46039f\"],[0.2222222222222222,\"#7201a8\"],[0.3333333333333333,\"#9c179e\"],[0.4444444444444444,\"#bd3786\"],[0.5555555555555556,\"#d8576b\"],[0.6666666666666666,\"#ed7953\"],[0.7777777777777778,\"#fb9f3a\"],[0.8888888888888888,\"#fdca26\"],[1.0,\"#f0f921\"]]}],\"mesh3d\":[{\"type\":\"mesh3d\",\"colorbar\":{\"outlinewidth\":0,\"ticks\":\"\"}}],\"scatter\":[{\"fillpattern\":{\"fillmode\":\"overlay\",\"size\":10,\"solidity\":0.2},\"type\":\"scatter\"}],\"parcoords\":[{\"type\":\"parcoords\",\"line\":{\"colorbar\":{\"outlinewidth\":0,\"ticks\":\"\"}}}],\"scatterpolargl\":[{\"type\":\"scatterpolargl\",\"marker\":{\"colorbar\":{\"outlinewidth\":0,\"ticks\":\"\"}}}],\"bar\":[{\"error_x\":{\"color\":\"#2a3f5f\"},\"error_y\":{\"color\":\"#2a3f5f\"},\"marker\":{\"line\":{\"color\":\"#E5ECF6\",\"width\":0.5},\"pattern\":{\"fillmode\":\"overlay\",\"size\":10,\"solidity\":0.2}},\"type\":\"bar\"}],\"scattergeo\":[{\"type\":\"scattergeo\",\"marker\":{\"colorbar\":{\"outlinewidth\":0,\"ticks\":\"\"}}}],\"scatterpolar\":[{\"type\":\"scatterpolar\",\"marker\":{\"colorbar\":{\"outlinewidth\":0,\"ticks\":\"\"}}}],\"histogram\":[{\"marker\":{\"pattern\":{\"fillmode\":\"overlay\",\"size\":10,\"solidity\":0.2}},\"type\":\"histogram\"}],\"scattergl\":[{\"type\":\"scattergl\",\"marker\":{\"colorbar\":{\"outlinewidth\":0,\"ticks\":\"\"}}}],\"scatter3d\":[{\"type\":\"scatter3d\",\"line\":{\"colorbar\":{\"outlinewidth\":0,\"ticks\":\"\"}},\"marker\":{\"colorbar\":{\"outlinewidth\":0,\"ticks\":\"\"}}}],\"scattermapbox\":[{\"type\":\"scattermapbox\",\"marker\":{\"colorbar\":{\"outlinewidth\":0,\"ticks\":\"\"}}}],\"scatterternary\":[{\"type\":\"scatterternary\",\"marker\":{\"colorbar\":{\"outlinewidth\":0,\"ticks\":\"\"}}}],\"scattercarpet\":[{\"type\":\"scattercarpet\",\"marker\":{\"colorbar\":{\"outlinewidth\":0,\"ticks\":\"\"}}}],\"carpet\":[{\"aaxis\":{\"endlinecolor\":\"#2a3f5f\",\"gridcolor\":\"white\",\"linecolor\":\"white\",\"minorgridcolor\":\"white\",\"startlinecolor\":\"#2a3f5f\"},\"baxis\":{\"endlinecolor\":\"#2a3f5f\",\"gridcolor\":\"white\",\"linecolor\":\"white\",\"minorgridcolor\":\"white\",\"startlinecolor\":\"#2a3f5f\"},\"type\":\"carpet\"}],\"table\":[{\"cells\":{\"fill\":{\"color\":\"#EBF0F8\"},\"line\":{\"color\":\"white\"}},\"header\":{\"fill\":{\"color\":\"#C8D4E3\"},\"line\":{\"color\":\"white\"}},\"type\":\"table\"}],\"barpolar\":[{\"marker\":{\"line\":{\"color\":\"#E5ECF6\",\"width\":0.5},\"pattern\":{\"fillmode\":\"overlay\",\"size\":10,\"solidity\":0.2}},\"type\":\"barpolar\"}],\"pie\":[{\"automargin\":true,\"type\":\"pie\"}]},\"layout\":{\"autotypenumbers\":\"strict\",\"colorway\":[\"#636efa\",\"#EF553B\",\"#00cc96\",\"#ab63fa\",\"#FFA15A\",\"#19d3f3\",\"#FF6692\",\"#B6E880\",\"#FF97FF\",\"#FECB52\"],\"font\":{\"color\":\"#2a3f5f\"},\"hovermode\":\"closest\",\"hoverlabel\":{\"align\":\"left\"},\"paper_bgcolor\":\"white\",\"plot_bgcolor\":\"#E5ECF6\",\"polar\":{\"bgcolor\":\"#E5ECF6\",\"angularaxis\":{\"gridcolor\":\"white\",\"linecolor\":\"white\",\"ticks\":\"\"},\"radialaxis\":{\"gridcolor\":\"white\",\"linecolor\":\"white\",\"ticks\":\"\"}},\"ternary\":{\"bgcolor\":\"#E5ECF6\",\"aaxis\":{\"gridcolor\":\"white\",\"linecolor\":\"white\",\"ticks\":\"\"},\"baxis\":{\"gridcolor\":\"white\",\"linecolor\":\"white\",\"ticks\":\"\"},\"caxis\":{\"gridcolor\":\"white\",\"linecolor\":\"white\",\"ticks\":\"\"}},\"coloraxis\":{\"colorbar\":{\"outlinewidth\":0,\"ticks\":\"\"}},\"colorscale\":{\"sequential\":[[0.0,\"#0d0887\"],[0.1111111111111111,\"#46039f\"],[0.2222222222222222,\"#7201a8\"],[0.3333333333333333,\"#9c179e\"],[0.4444444444444444,\"#bd3786\"],[0.5555555555555556,\"#d8576b\"],[0.6666666666666666,\"#ed7953\"],[0.7777777777777778,\"#fb9f3a\"],[0.8888888888888888,\"#fdca26\"],[1.0,\"#f0f921\"]],\"sequentialminus\":[[0.0,\"#0d0887\"],[0.1111111111111111,\"#46039f\"],[0.2222222222222222,\"#7201a8\"],[0.3333333333333333,\"#9c179e\"],[0.4444444444444444,\"#bd3786\"],[0.5555555555555556,\"#d8576b\"],[0.6666666666666666,\"#ed7953\"],[0.7777777777777778,\"#fb9f3a\"],[0.8888888888888888,\"#fdca26\"],[1.0,\"#f0f921\"]],\"diverging\":[[0,\"#8e0152\"],[0.1,\"#c51b7d\"],[0.2,\"#de77ae\"],[0.3,\"#f1b6da\"],[0.4,\"#fde0ef\"],[0.5,\"#f7f7f7\"],[0.6,\"#e6f5d0\"],[0.7,\"#b8e186\"],[0.8,\"#7fbc41\"],[0.9,\"#4d9221\"],[1,\"#276419\"]]},\"xaxis\":{\"gridcolor\":\"white\",\"linecolor\":\"white\",\"ticks\":\"\",\"title\":{\"standoff\":15},\"zerolinecolor\":\"white\",\"automargin\":true,\"zerolinewidth\":2},\"yaxis\":{\"gridcolor\":\"white\",\"linecolor\":\"white\",\"ticks\":\"\",\"title\":{\"standoff\":15},\"zerolinecolor\":\"white\",\"automargin\":true,\"zerolinewidth\":2},\"scene\":{\"xaxis\":{\"backgroundcolor\":\"#E5ECF6\",\"gridcolor\":\"white\",\"linecolor\":\"white\",\"showbackground\":true,\"ticks\":\"\",\"zerolinecolor\":\"white\",\"gridwidth\":2},\"yaxis\":{\"backgroundcolor\":\"#E5ECF6\",\"gridcolor\":\"white\",\"linecolor\":\"white\",\"showbackground\":true,\"ticks\":\"\",\"zerolinecolor\":\"white\",\"gridwidth\":2},\"zaxis\":{\"backgroundcolor\":\"#E5ECF6\",\"gridcolor\":\"white\",\"linecolor\":\"white\",\"showbackground\":true,\"ticks\":\"\",\"zerolinecolor\":\"white\",\"gridwidth\":2}},\"shapedefaults\":{\"line\":{\"color\":\"#2a3f5f\"}},\"annotationdefaults\":{\"arrowcolor\":\"#2a3f5f\",\"arrowhead\":0,\"arrowwidth\":1},\"geo\":{\"bgcolor\":\"white\",\"landcolor\":\"#E5ECF6\",\"subunitcolor\":\"white\",\"showland\":true,\"showlakes\":true,\"lakecolor\":\"white\"},\"title\":{\"x\":0.05},\"mapbox\":{\"style\":\"light\"}}},\"xaxis\":{\"anchor\":\"y\",\"domain\":[0.0,1.0],\"title\":{\"text\":\"Tiendas\"}},\"yaxis\":{\"anchor\":\"x\",\"domain\":[0.0,1.0],\"title\":{\"text\":\"Ingresos\"}},\"legend\":{\"tracegroupgap\":0},\"title\":{\"text\":\"\\u003cb\\u003eDISTRIBUCION DE INGRESOS POR TIENDA\\u003c\\u002fb\\u003e\"},\"barmode\":\"relative\"},                        {\"responsive\": true}                    ).then(function(){\n",
              "                            \n",
              "var gd = document.getElementById('45b0f8ed-0e61-4142-b959-3c3a8f3bd222');\n",
              "var x = new MutationObserver(function (mutations, observer) {{\n",
              "        var display = window.getComputedStyle(gd).display;\n",
              "        if (!display || display === 'none') {{\n",
              "            console.log([gd, 'removed!']);\n",
              "            Plotly.purge(gd);\n",
              "            observer.disconnect();\n",
              "        }}\n",
              "}});\n",
              "\n",
              "// Listen for the removal of the full notebook cells\n",
              "var notebookContainer = gd.closest('#notebook-container');\n",
              "if (notebookContainer) {{\n",
              "    x.observe(notebookContainer, {childList: true});\n",
              "}}\n",
              "\n",
              "// Listen for the clearing of the current output cell\n",
              "var outputEl = gd.closest('.output');\n",
              "if (outputEl) {{\n",
              "    x.observe(outputEl, {childList: true});\n",
              "}}\n",
              "\n",
              "                        })                };                            </script>        </div>\n",
              "</body>\n",
              "</html>"
            ]
          },
          "metadata": {}
        }
      ]
    },
    {
      "cell_type": "code",
      "source": [
        "#Grafico de Barras Horizaontales de calificacion promedio\n",
        "import plotly.express as px\n",
        "import pandas as pd\n",
        "\n",
        "# Datos de muestra\n",
        "df = pd.DataFrame(dict(Tiendas = [\"Tienda 1\",\"Tienda 2\", \"Tienda 3\",\"Tienda 4\"],Satisfaccion = list(promedio_satisfaccion)))\n",
        "\n",
        "fig = px.bar(df, x = 'Satisfaccion', y = 'Tiendas',pattern_shape = 'Tiendas', text_auto = True,title=\"\"\"<b>DISTRIBUCION DE CALIFICACION POR TIENDA</b>\"\"\")\n",
        "\n",
        "\n",
        "fig.show()\n",
        "\n"
      ],
      "metadata": {
        "colab": {
          "base_uri": "https://localhost:8080/",
          "height": 542
        },
        "id": "WIY2FpthC9Ag",
        "outputId": "d391c600-6495-442e-c8d3-74a7f1b7be4e"
      },
      "execution_count": 173,
      "outputs": [
        {
          "output_type": "display_data",
          "data": {
            "text/html": [
              "<html>\n",
              "<head><meta charset=\"utf-8\" /></head>\n",
              "<body>\n",
              "    <div>            <script src=\"https://cdnjs.cloudflare.com/ajax/libs/mathjax/2.7.5/MathJax.js?config=TeX-AMS-MML_SVG\"></script><script type=\"text/javascript\">if (window.MathJax && window.MathJax.Hub && window.MathJax.Hub.Config) {window.MathJax.Hub.Config({SVG: {font: \"STIX-Web\"}});}</script>                <script type=\"text/javascript\">window.PlotlyConfig = {MathJaxConfig: 'local'};</script>\n",
              "        <script charset=\"utf-8\" src=\"https://cdn.plot.ly/plotly-2.35.2.min.js\"></script>                <div id=\"d1903f47-6d13-462f-9e48-9e5507417f9e\" class=\"plotly-graph-div\" style=\"height:525px; width:100%;\"></div>            <script type=\"text/javascript\">                                    window.PLOTLYENV=window.PLOTLYENV || {};                                    if (document.getElementById(\"d1903f47-6d13-462f-9e48-9e5507417f9e\")) {                    Plotly.newPlot(                        \"d1903f47-6d13-462f-9e48-9e5507417f9e\",                        [{\"alignmentgroup\":\"True\",\"hovertemplate\":\"Tiendas=%{y}\\u003cbr\\u003eSatisfaccion=%{x}\\u003cextra\\u003e\\u003c\\u002fextra\\u003e\",\"legendgroup\":\"Tienda 1\",\"marker\":{\"color\":\"#636efa\",\"pattern\":{\"shape\":\"\"}},\"name\":\"Tienda 1\",\"offsetgroup\":\"Tienda 1\",\"orientation\":\"h\",\"showlegend\":true,\"textposition\":\"auto\",\"texttemplate\":\"%{x}\",\"x\":[3.98],\"xaxis\":\"x\",\"y\":[\"Tienda 1\"],\"yaxis\":\"y\",\"type\":\"bar\"},{\"alignmentgroup\":\"True\",\"hovertemplate\":\"Tiendas=%{y}\\u003cbr\\u003eSatisfaccion=%{x}\\u003cextra\\u003e\\u003c\\u002fextra\\u003e\",\"legendgroup\":\"Tienda 2\",\"marker\":{\"color\":\"#636efa\",\"pattern\":{\"shape\":\"\\u002f\"}},\"name\":\"Tienda 2\",\"offsetgroup\":\"Tienda 2\",\"orientation\":\"h\",\"showlegend\":true,\"textposition\":\"auto\",\"texttemplate\":\"%{x}\",\"x\":[4.04],\"xaxis\":\"x\",\"y\":[\"Tienda 2\"],\"yaxis\":\"y\",\"type\":\"bar\"},{\"alignmentgroup\":\"True\",\"hovertemplate\":\"Tiendas=%{y}\\u003cbr\\u003eSatisfaccion=%{x}\\u003cextra\\u003e\\u003c\\u002fextra\\u003e\",\"legendgroup\":\"Tienda 3\",\"marker\":{\"color\":\"#636efa\",\"pattern\":{\"shape\":\"\\\\\"}},\"name\":\"Tienda 3\",\"offsetgroup\":\"Tienda 3\",\"orientation\":\"h\",\"showlegend\":true,\"textposition\":\"auto\",\"texttemplate\":\"%{x}\",\"x\":[4.05],\"xaxis\":\"x\",\"y\":[\"Tienda 3\"],\"yaxis\":\"y\",\"type\":\"bar\"},{\"alignmentgroup\":\"True\",\"hovertemplate\":\"Tiendas=%{y}\\u003cbr\\u003eSatisfaccion=%{x}\\u003cextra\\u003e\\u003c\\u002fextra\\u003e\",\"legendgroup\":\"Tienda 4\",\"marker\":{\"color\":\"#636efa\",\"pattern\":{\"shape\":\"x\"}},\"name\":\"Tienda 4\",\"offsetgroup\":\"Tienda 4\",\"orientation\":\"h\",\"showlegend\":true,\"textposition\":\"auto\",\"texttemplate\":\"%{x}\",\"x\":[4.0],\"xaxis\":\"x\",\"y\":[\"Tienda 4\"],\"yaxis\":\"y\",\"type\":\"bar\"}],                        {\"template\":{\"data\":{\"histogram2dcontour\":[{\"type\":\"histogram2dcontour\",\"colorbar\":{\"outlinewidth\":0,\"ticks\":\"\"},\"colorscale\":[[0.0,\"#0d0887\"],[0.1111111111111111,\"#46039f\"],[0.2222222222222222,\"#7201a8\"],[0.3333333333333333,\"#9c179e\"],[0.4444444444444444,\"#bd3786\"],[0.5555555555555556,\"#d8576b\"],[0.6666666666666666,\"#ed7953\"],[0.7777777777777778,\"#fb9f3a\"],[0.8888888888888888,\"#fdca26\"],[1.0,\"#f0f921\"]]}],\"choropleth\":[{\"type\":\"choropleth\",\"colorbar\":{\"outlinewidth\":0,\"ticks\":\"\"}}],\"histogram2d\":[{\"type\":\"histogram2d\",\"colorbar\":{\"outlinewidth\":0,\"ticks\":\"\"},\"colorscale\":[[0.0,\"#0d0887\"],[0.1111111111111111,\"#46039f\"],[0.2222222222222222,\"#7201a8\"],[0.3333333333333333,\"#9c179e\"],[0.4444444444444444,\"#bd3786\"],[0.5555555555555556,\"#d8576b\"],[0.6666666666666666,\"#ed7953\"],[0.7777777777777778,\"#fb9f3a\"],[0.8888888888888888,\"#fdca26\"],[1.0,\"#f0f921\"]]}],\"heatmap\":[{\"type\":\"heatmap\",\"colorbar\":{\"outlinewidth\":0,\"ticks\":\"\"},\"colorscale\":[[0.0,\"#0d0887\"],[0.1111111111111111,\"#46039f\"],[0.2222222222222222,\"#7201a8\"],[0.3333333333333333,\"#9c179e\"],[0.4444444444444444,\"#bd3786\"],[0.5555555555555556,\"#d8576b\"],[0.6666666666666666,\"#ed7953\"],[0.7777777777777778,\"#fb9f3a\"],[0.8888888888888888,\"#fdca26\"],[1.0,\"#f0f921\"]]}],\"heatmapgl\":[{\"type\":\"heatmapgl\",\"colorbar\":{\"outlinewidth\":0,\"ticks\":\"\"},\"colorscale\":[[0.0,\"#0d0887\"],[0.1111111111111111,\"#46039f\"],[0.2222222222222222,\"#7201a8\"],[0.3333333333333333,\"#9c179e\"],[0.4444444444444444,\"#bd3786\"],[0.5555555555555556,\"#d8576b\"],[0.6666666666666666,\"#ed7953\"],[0.7777777777777778,\"#fb9f3a\"],[0.8888888888888888,\"#fdca26\"],[1.0,\"#f0f921\"]]}],\"contourcarpet\":[{\"type\":\"contourcarpet\",\"colorbar\":{\"outlinewidth\":0,\"ticks\":\"\"}}],\"contour\":[{\"type\":\"contour\",\"colorbar\":{\"outlinewidth\":0,\"ticks\":\"\"},\"colorscale\":[[0.0,\"#0d0887\"],[0.1111111111111111,\"#46039f\"],[0.2222222222222222,\"#7201a8\"],[0.3333333333333333,\"#9c179e\"],[0.4444444444444444,\"#bd3786\"],[0.5555555555555556,\"#d8576b\"],[0.6666666666666666,\"#ed7953\"],[0.7777777777777778,\"#fb9f3a\"],[0.8888888888888888,\"#fdca26\"],[1.0,\"#f0f921\"]]}],\"surface\":[{\"type\":\"surface\",\"colorbar\":{\"outlinewidth\":0,\"ticks\":\"\"},\"colorscale\":[[0.0,\"#0d0887\"],[0.1111111111111111,\"#46039f\"],[0.2222222222222222,\"#7201a8\"],[0.3333333333333333,\"#9c179e\"],[0.4444444444444444,\"#bd3786\"],[0.5555555555555556,\"#d8576b\"],[0.6666666666666666,\"#ed7953\"],[0.7777777777777778,\"#fb9f3a\"],[0.8888888888888888,\"#fdca26\"],[1.0,\"#f0f921\"]]}],\"mesh3d\":[{\"type\":\"mesh3d\",\"colorbar\":{\"outlinewidth\":0,\"ticks\":\"\"}}],\"scatter\":[{\"fillpattern\":{\"fillmode\":\"overlay\",\"size\":10,\"solidity\":0.2},\"type\":\"scatter\"}],\"parcoords\":[{\"type\":\"parcoords\",\"line\":{\"colorbar\":{\"outlinewidth\":0,\"ticks\":\"\"}}}],\"scatterpolargl\":[{\"type\":\"scatterpolargl\",\"marker\":{\"colorbar\":{\"outlinewidth\":0,\"ticks\":\"\"}}}],\"bar\":[{\"error_x\":{\"color\":\"#2a3f5f\"},\"error_y\":{\"color\":\"#2a3f5f\"},\"marker\":{\"line\":{\"color\":\"#E5ECF6\",\"width\":0.5},\"pattern\":{\"fillmode\":\"overlay\",\"size\":10,\"solidity\":0.2}},\"type\":\"bar\"}],\"scattergeo\":[{\"type\":\"scattergeo\",\"marker\":{\"colorbar\":{\"outlinewidth\":0,\"ticks\":\"\"}}}],\"scatterpolar\":[{\"type\":\"scatterpolar\",\"marker\":{\"colorbar\":{\"outlinewidth\":0,\"ticks\":\"\"}}}],\"histogram\":[{\"marker\":{\"pattern\":{\"fillmode\":\"overlay\",\"size\":10,\"solidity\":0.2}},\"type\":\"histogram\"}],\"scattergl\":[{\"type\":\"scattergl\",\"marker\":{\"colorbar\":{\"outlinewidth\":0,\"ticks\":\"\"}}}],\"scatter3d\":[{\"type\":\"scatter3d\",\"line\":{\"colorbar\":{\"outlinewidth\":0,\"ticks\":\"\"}},\"marker\":{\"colorbar\":{\"outlinewidth\":0,\"ticks\":\"\"}}}],\"scattermapbox\":[{\"type\":\"scattermapbox\",\"marker\":{\"colorbar\":{\"outlinewidth\":0,\"ticks\":\"\"}}}],\"scatterternary\":[{\"type\":\"scatterternary\",\"marker\":{\"colorbar\":{\"outlinewidth\":0,\"ticks\":\"\"}}}],\"scattercarpet\":[{\"type\":\"scattercarpet\",\"marker\":{\"colorbar\":{\"outlinewidth\":0,\"ticks\":\"\"}}}],\"carpet\":[{\"aaxis\":{\"endlinecolor\":\"#2a3f5f\",\"gridcolor\":\"white\",\"linecolor\":\"white\",\"minorgridcolor\":\"white\",\"startlinecolor\":\"#2a3f5f\"},\"baxis\":{\"endlinecolor\":\"#2a3f5f\",\"gridcolor\":\"white\",\"linecolor\":\"white\",\"minorgridcolor\":\"white\",\"startlinecolor\":\"#2a3f5f\"},\"type\":\"carpet\"}],\"table\":[{\"cells\":{\"fill\":{\"color\":\"#EBF0F8\"},\"line\":{\"color\":\"white\"}},\"header\":{\"fill\":{\"color\":\"#C8D4E3\"},\"line\":{\"color\":\"white\"}},\"type\":\"table\"}],\"barpolar\":[{\"marker\":{\"line\":{\"color\":\"#E5ECF6\",\"width\":0.5},\"pattern\":{\"fillmode\":\"overlay\",\"size\":10,\"solidity\":0.2}},\"type\":\"barpolar\"}],\"pie\":[{\"automargin\":true,\"type\":\"pie\"}]},\"layout\":{\"autotypenumbers\":\"strict\",\"colorway\":[\"#636efa\",\"#EF553B\",\"#00cc96\",\"#ab63fa\",\"#FFA15A\",\"#19d3f3\",\"#FF6692\",\"#B6E880\",\"#FF97FF\",\"#FECB52\"],\"font\":{\"color\":\"#2a3f5f\"},\"hovermode\":\"closest\",\"hoverlabel\":{\"align\":\"left\"},\"paper_bgcolor\":\"white\",\"plot_bgcolor\":\"#E5ECF6\",\"polar\":{\"bgcolor\":\"#E5ECF6\",\"angularaxis\":{\"gridcolor\":\"white\",\"linecolor\":\"white\",\"ticks\":\"\"},\"radialaxis\":{\"gridcolor\":\"white\",\"linecolor\":\"white\",\"ticks\":\"\"}},\"ternary\":{\"bgcolor\":\"#E5ECF6\",\"aaxis\":{\"gridcolor\":\"white\",\"linecolor\":\"white\",\"ticks\":\"\"},\"baxis\":{\"gridcolor\":\"white\",\"linecolor\":\"white\",\"ticks\":\"\"},\"caxis\":{\"gridcolor\":\"white\",\"linecolor\":\"white\",\"ticks\":\"\"}},\"coloraxis\":{\"colorbar\":{\"outlinewidth\":0,\"ticks\":\"\"}},\"colorscale\":{\"sequential\":[[0.0,\"#0d0887\"],[0.1111111111111111,\"#46039f\"],[0.2222222222222222,\"#7201a8\"],[0.3333333333333333,\"#9c179e\"],[0.4444444444444444,\"#bd3786\"],[0.5555555555555556,\"#d8576b\"],[0.6666666666666666,\"#ed7953\"],[0.7777777777777778,\"#fb9f3a\"],[0.8888888888888888,\"#fdca26\"],[1.0,\"#f0f921\"]],\"sequentialminus\":[[0.0,\"#0d0887\"],[0.1111111111111111,\"#46039f\"],[0.2222222222222222,\"#7201a8\"],[0.3333333333333333,\"#9c179e\"],[0.4444444444444444,\"#bd3786\"],[0.5555555555555556,\"#d8576b\"],[0.6666666666666666,\"#ed7953\"],[0.7777777777777778,\"#fb9f3a\"],[0.8888888888888888,\"#fdca26\"],[1.0,\"#f0f921\"]],\"diverging\":[[0,\"#8e0152\"],[0.1,\"#c51b7d\"],[0.2,\"#de77ae\"],[0.3,\"#f1b6da\"],[0.4,\"#fde0ef\"],[0.5,\"#f7f7f7\"],[0.6,\"#e6f5d0\"],[0.7,\"#b8e186\"],[0.8,\"#7fbc41\"],[0.9,\"#4d9221\"],[1,\"#276419\"]]},\"xaxis\":{\"gridcolor\":\"white\",\"linecolor\":\"white\",\"ticks\":\"\",\"title\":{\"standoff\":15},\"zerolinecolor\":\"white\",\"automargin\":true,\"zerolinewidth\":2},\"yaxis\":{\"gridcolor\":\"white\",\"linecolor\":\"white\",\"ticks\":\"\",\"title\":{\"standoff\":15},\"zerolinecolor\":\"white\",\"automargin\":true,\"zerolinewidth\":2},\"scene\":{\"xaxis\":{\"backgroundcolor\":\"#E5ECF6\",\"gridcolor\":\"white\",\"linecolor\":\"white\",\"showbackground\":true,\"ticks\":\"\",\"zerolinecolor\":\"white\",\"gridwidth\":2},\"yaxis\":{\"backgroundcolor\":\"#E5ECF6\",\"gridcolor\":\"white\",\"linecolor\":\"white\",\"showbackground\":true,\"ticks\":\"\",\"zerolinecolor\":\"white\",\"gridwidth\":2},\"zaxis\":{\"backgroundcolor\":\"#E5ECF6\",\"gridcolor\":\"white\",\"linecolor\":\"white\",\"showbackground\":true,\"ticks\":\"\",\"zerolinecolor\":\"white\",\"gridwidth\":2}},\"shapedefaults\":{\"line\":{\"color\":\"#2a3f5f\"}},\"annotationdefaults\":{\"arrowcolor\":\"#2a3f5f\",\"arrowhead\":0,\"arrowwidth\":1},\"geo\":{\"bgcolor\":\"white\",\"landcolor\":\"#E5ECF6\",\"subunitcolor\":\"white\",\"showland\":true,\"showlakes\":true,\"lakecolor\":\"white\"},\"title\":{\"x\":0.05},\"mapbox\":{\"style\":\"light\"}}},\"xaxis\":{\"anchor\":\"y\",\"domain\":[0.0,1.0],\"title\":{\"text\":\"Satisfaccion\"}},\"yaxis\":{\"anchor\":\"x\",\"domain\":[0.0,1.0],\"title\":{\"text\":\"Tiendas\"},\"categoryorder\":\"array\",\"categoryarray\":[\"Tienda 4\",\"Tienda 3\",\"Tienda 2\",\"Tienda 1\"]},\"legend\":{\"title\":{\"text\":\"Tiendas\"},\"tracegroupgap\":0},\"title\":{\"text\":\"\\u003cb\\u003eDISTRIBUCION DE CALIFICACION POR TIENDA\\u003c\\u002fb\\u003e\"},\"barmode\":\"relative\"},                        {\"responsive\": true}                    ).then(function(){\n",
              "                            \n",
              "var gd = document.getElementById('d1903f47-6d13-462f-9e48-9e5507417f9e');\n",
              "var x = new MutationObserver(function (mutations, observer) {{\n",
              "        var display = window.getComputedStyle(gd).display;\n",
              "        if (!display || display === 'none') {{\n",
              "            console.log([gd, 'removed!']);\n",
              "            Plotly.purge(gd);\n",
              "            observer.disconnect();\n",
              "        }}\n",
              "}});\n",
              "\n",
              "// Listen for the removal of the full notebook cells\n",
              "var notebookContainer = gd.closest('#notebook-container');\n",
              "if (notebookContainer) {{\n",
              "    x.observe(notebookContainer, {childList: true});\n",
              "}}\n",
              "\n",
              "// Listen for the clearing of the current output cell\n",
              "var outputEl = gd.closest('.output');\n",
              "if (outputEl) {{\n",
              "    x.observe(outputEl, {childList: true});\n",
              "}}\n",
              "\n",
              "                        })                };                            </script>        </div>\n",
              "</body>\n",
              "</html>"
            ]
          },
          "metadata": {}
        }
      ]
    },
    {
      "cell_type": "code",
      "source": [
        "# Grafico de Categorias por Tienda 1\n",
        "import matplotlib.pyplot as plt\n",
        "plt.figure(figsize=(10, 8))\n",
        "categoria = lista_categorias\n",
        "unidades = lista_cantidades\n",
        "destacar = [0.1,0,0,0,0]\n",
        "plt.style.use(\"ggplot\")\n",
        "plt.title(\"DISTRIBUCION POR CATEGORIAS TIENDA 1\")\n",
        "plt.pie(x=unidades,explode=destacar,labels=categoria,autopct='%.2f%%',shadow=True,startangle=20)\n",
        "plt.axis('equal')\n",
        "plt.legend(loc=\"upper left\")\n",
        "plt.show()"
      ],
      "metadata": {
        "colab": {
          "base_uri": "https://localhost:8080/",
          "height": 676
        },
        "id": "VZtTd1VOVrRd",
        "outputId": "2dfa3bde-8a6f-432f-f296-4835c5738efc"
      },
      "execution_count": 146,
      "outputs": [
        {
          "output_type": "display_data",
          "data": {
            "text/plain": [
              "<Figure size 1000x800 with 1 Axes>"
            ],
            "image/png": "[encoded data removed]"
          },
          "metadata": {}
        }
      ]
    }
  ]
}