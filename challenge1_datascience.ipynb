{
  "nbformat": 4,
  "nbformat_minor": 0,
  "metadata": {
    "colab": {
      "provenance": [],
      "mount_file_id": "1v4BbEJibl73upza_SdqbgfVYJUcqKIvy",
      "authorship_tag": "ABX9TyNBfxDMyzKK9/xAKw5tpemy",
      "include_colab_link": true
    },
    "kernelspec": {
      "name": "python3",
      "display_name": "Python 3"
    },
    "language_info": {
      "name": "python"
    }
  },
  "cells": [
    {
      "cell_type": "markdown",
      "metadata": {
        "id": "view-in-github",
        "colab_type": "text"
      },
      "source": [
        "<a href=\"https://colab.research.google.com/github/LFRANCO3030/DataScience_Project1/blob/main/challenge1_datascience.ipynb\" target=\"_parent\"><img src=\"https://colab.research.google.com/assets/colab-badge.svg\" alt=\"Open In Colab\"/></a>"
      ]
    },
    {
      "cell_type": "code",
      "execution_count": 3,
      "metadata": {
        "id": "zSxS5yoPhqKq",
        "colab": {
          "base_uri": "https://localhost:8080/"
        },
        "outputId": "67c5679c-3d61-4d6e-9f57-f89cc123ef96"
      },
      "outputs": [
        {
          "output_type": "stream",
          "name": "stdout",
          "text": [
            "Cloning into 'challenge1-data-science-latam'...\n",
            "remote: Enumerating objects: 10, done.\u001b[K\n",
            "remote: Counting objects: 100% (8/8), done.\u001b[K\n",
            "remote: Compressing objects: 100% (5/5), done.\u001b[K\n",
            "remote: Total 10 (delta 3), reused 3 (delta 3), pack-reused 2 (from 1)\u001b[K\n",
            "Receiving objects: 100% (10/10), 171.26 KiB | 2.22 MiB/s, done.\n",
            "Resolving deltas: 100% (3/3), done.\n"
          ]
        }
      ],
      "source": [
        "# Clonamos repositorio de DAtos de Github en Drive\n",
        "! git clone https://github.com/alura-es-cursos/challenge1-data-science-latam.git"
      ]
    },
    {
      "cell_type": "code",
      "source": [
        "#rutina para uso de pandas\n",
        "import pandas as pd"
      ],
      "metadata": {
        "id": "9aRbT1wZihHi"
      },
      "execution_count": null,
      "outputs": []
    },
    {
      "cell_type": "code",
      "source": [
        "from google.colab import drive\n",
        "drive.mount('/content/drive')"
      ],
      "metadata": {
        "id": "KuXkYAeS1wTR"
      },
      "execution_count": null,
      "outputs": []
    },
    {
      "cell_type": "code",
      "source": [
        "tienda_1 =\"/content/challenge1-data-science-latam/base-de-datos-challenge1-latam/tienda_1 .csv\"\n",
        "data= pd.read_csv(tienda_1)"
      ],
      "metadata": {
        "id": "O22dgkPajHmJ"
      },
      "execution_count": null,
      "outputs": []
    },
    {
      "cell_type": "code",
      "source": [
        "data.head()"
      ],
      "metadata": {
        "id": "0XdxJkfPj-Ay",
        "colab": {
          "base_uri": "https://localhost:8080/",
          "height": 293
        },
        "outputId": "eb504a23-1c6a-43e6-9b36-0ea9eb44b051"
      },
      "execution_count": null,
      "outputs": [
        {
          "output_type": "execute_result",
          "data": {
            "text/plain": [
              "            Producto Categoría del Producto    Precio  Costo de envío  \\\n",
              "0  Asistente virtual           Electrónicos  164300.0          6900.0   \n",
              "1    Mesa de comedor                Muebles  192300.0          8400.0   \n",
              "2      Juego de mesa               Juguetes  209600.0         15900.0   \n",
              "3         Microondas      Electrodomésticos  757500.0         41000.0   \n",
              "4   Silla de oficina                Muebles  335200.0         20200.0   \n",
              "\n",
              "  Fecha de Compra         Vendedor Lugar de Compra  Calificación  \\\n",
              "0      16/01/2021      Pedro Gomez          Bogotá             4   \n",
              "1      18/05/2022  Beatriz Morales        Medellín             1   \n",
              "2      15/03/2021   Juan Fernandez       Cartagena             1   \n",
              "3      03/05/2022   Juan Fernandez            Cali             4   \n",
              "4      07/11/2020    Maria Alfonso        Medellín             5   \n",
              "\n",
              "       Método de pago  Cantidad de cuotas       lat       lon  \n",
              "0  Tarjeta de crédito                   8   4.60971 -74.08175  \n",
              "1  Tarjeta de crédito                   4   6.25184 -75.56359  \n",
              "2  Tarjeta de crédito                   1  10.39972 -75.51444  \n",
              "3               Nequi                   1   3.43722 -76.52250  \n",
              "4               Nequi                   1   6.25184 -75.56359  "
            ],
            "text/html": [
              "\n",
              "  <div id=\"df-2f824acb-4a49-4fa5-930f-29c01ac7b94d\" class=\"colab-df-container\">\n",
              "    <div>\n",
              "<style scoped>\n",
              "    .dataframe tbody tr th:only-of-type {\n",
              "        vertical-align: middle;\n",
              "    }\n",
              "\n",
              "    .dataframe tbody tr th {\n",
              "        vertical-align: top;\n",
              "    }\n",
              "\n",
              "    .dataframe thead th {\n",
              "        text-align: right;\n",
              "    }\n",
              "</style>\n",
              "<table border=\"1\" class=\"dataframe\">\n",
              "  <thead>\n",
              "    <tr style=\"text-align: right;\">\n",
              "      <th></th>\n",
              "      <th>Producto</th>\n",
              "      <th>Categoría del Producto</th>\n",
              "      <th>Precio</th>\n",
              "      <th>Costo de envío</th>\n",
              "      <th>Fecha de Compra</th>\n",
              "      <th>Vendedor</th>\n",
              "      <th>Lugar de Compra</th>\n",
              "      <th>Calificación</th>\n",
              "      <th>Método de pago</th>\n",
              "      <th>Cantidad de cuotas</th>\n",
              "      <th>lat</th>\n",
              "      <th>lon</th>\n",
              "    </tr>\n",
              "  </thead>\n",
              "  <tbody>\n",
              "    <tr>\n",
              "      <th>0</th>\n",
              "      <td>Asistente virtual</td>\n",
              "      <td>Electrónicos</td>\n",
              "      <td>164300.0</td>\n",
              "      <td>6900.0</td>\n",
              "      <td>16/01/2021</td>\n",
              "      <td>Pedro Gomez</td>\n",
              "      <td>Bogotá</td>\n",
              "      <td>4</td>\n",
              "      <td>Tarjeta de crédito</td>\n",
              "      <td>8</td>\n",
              "      <td>4.60971</td>\n",
              "      <td>-74.08175</td>\n",
              "    </tr>\n",
              "    <tr>\n",
              "      <th>1</th>\n",
              "      <td>Mesa de comedor</td>\n",
              "      <td>Muebles</td>\n",
              "      <td>192300.0</td>\n",
              "      <td>8400.0</td>\n",
              "      <td>18/05/2022</td>\n",
              "      <td>Beatriz Morales</td>\n",
              "      <td>Medellín</td>\n",
              "      <td>1</td>\n",
              "      <td>Tarjeta de crédito</td>\n",
              "      <td>4</td>\n",
              "      <td>6.25184</td>\n",
              "      <td>-75.56359</td>\n",
              "    </tr>\n",
              "    <tr>\n",
              "      <th>2</th>\n",
              "      <td>Juego de mesa</td>\n",
              "      <td>Juguetes</td>\n",
              "      <td>209600.0</td>\n",
              "      <td>15900.0</td>\n",
              "      <td>15/03/2021</td>\n",
              "      <td>Juan Fernandez</td>\n",
              "      <td>Cartagena</td>\n",
              "      <td>1</td>\n",
              "      <td>Tarjeta de crédito</td>\n",
              "      <td>1</td>\n",
              "      <td>10.39972</td>\n",
              "      <td>-75.51444</td>\n",
              "    </tr>\n",
              "    <tr>\n",
              "      <th>3</th>\n",
              "      <td>Microondas</td>\n",
              "      <td>Electrodomésticos</td>\n",
              "      <td>757500.0</td>\n",
              "      <td>41000.0</td>\n",
              "      <td>03/05/2022</td>\n",
              "      <td>Juan Fernandez</td>\n",
              "      <td>Cali</td>\n",
              "      <td>4</td>\n",
              "      <td>Nequi</td>\n",
              "      <td>1</td>\n",
              "      <td>3.43722</td>\n",
              "      <td>-76.52250</td>\n",
              "    </tr>\n",
              "    <tr>\n",
              "      <th>4</th>\n",
              "      <td>Silla de oficina</td>\n",
              "      <td>Muebles</td>\n",
              "      <td>335200.0</td>\n",
              "      <td>20200.0</td>\n",
              "      <td>07/11/2020</td>\n",
              "      <td>Maria Alfonso</td>\n",
              "      <td>Medellín</td>\n",
              "      <td>5</td>\n",
              "      <td>Nequi</td>\n",
              "      <td>1</td>\n",
              "      <td>6.25184</td>\n",
              "      <td>-75.56359</td>\n",
              "    </tr>\n",
              "  </tbody>\n",
              "</table>\n",
              "</div>\n",
              "    <div class=\"colab-df-buttons\">\n",
              "\n",
              "  <div class=\"colab-df-container\">\n",
              "    <button class=\"colab-df-convert\" onclick=\"convertToInteractive('df-2f824acb-4a49-4fa5-930f-29c01ac7b94d')\"\n",
              "            title=\"Convert this dataframe to an interactive table.\"\n",
              "            style=\"display:none;\">\n",
              "\n",
              "  <svg xmlns=\"http://www.w3.org/2000/svg\" height=\"24px\" viewBox=\"0 -960 960 960\">\n",
              "    <path d=\"M120-120v-720h720v720H120Zm60-500h600v-160H180v160Zm220 220h160v-160H400v160Zm0 220h160v-160H400v160ZM180-400h160v-160H180v160Zm440 0h160v-160H620v160ZM180-180h160v-160H180v160Zm440 0h160v-160H620v160Z\"/>\n",
              "  </svg>\n",
              "    </button>\n",
              "\n",
              "  <style>\n",
              "    .colab-df-container {\n",
              "      display:flex;\n",
              "      gap: 12px;\n",
              "    }\n",
              "\n",
              "    .colab-df-convert {\n",
              "      background-color: #E8F0FE;\n",
              "      border: none;\n",
              "      border-radius: 50%;\n",
              "      cursor: pointer;\n",
              "      display: none;\n",
              "      fill: #1967D2;\n",
              "      height: 32px;\n",
              "      padding: 0 0 0 0;\n",
              "      width: 32px;\n",
              "    }\n",
              "\n",
              "    .colab-df-convert:hover {\n",
              "      background-color: #E2EBFA;\n",
              "      box-shadow: 0px 1px 2px rgba(60, 64, 67, 0.3), 0px 1px 3px 1px rgba(60, 64, 67, 0.15);\n",
              "      fill: #174EA6;\n",
              "    }\n",
              "\n",
              "    .colab-df-buttons div {\n",
              "      margin-bottom: 4px;\n",
              "    }\n",
              "\n",
              "    [theme=dark] .colab-df-convert {\n",
              "      background-color: #3B4455;\n",
              "      fill: #D2E3FC;\n",
              "    }\n",
              "\n",
              "    [theme=dark] .colab-df-convert:hover {\n",
              "      background-color: #434B5C;\n",
              "      box-shadow: 0px 1px 3px 1px rgba(0, 0, 0, 0.15);\n",
              "      filter: drop-shadow(0px 1px 2px rgba(0, 0, 0, 0.3));\n",
              "      fill: #FFFFFF;\n",
              "    }\n",
              "  </style>\n",
              "\n",
              "    <script>\n",
              "      const buttonEl =\n",
              "        document.querySelector('#df-2f824acb-4a49-4fa5-930f-29c01ac7b94d button.colab-df-convert');\n",
              "      buttonEl.style.display =\n",
              "        google.colab.kernel.accessAllowed ? 'block' : 'none';\n",
              "\n",
              "      async function convertToInteractive(key) {\n",
              "        const element = document.querySelector('#df-2f824acb-4a49-4fa5-930f-29c01ac7b94d');\n",
              "        const dataTable =\n",
              "          await google.colab.kernel.invokeFunction('convertToInteractive',\n",
              "                                                    [key], {});\n",
              "        if (!dataTable) return;\n",
              "\n",
              "        const docLinkHtml = 'Like what you see? Visit the ' +\n",
              "          '<a target=\"_blank\" href=https://colab.research.google.com/notebooks/data_table.ipynb>data table notebook</a>'\n",
              "          + ' to learn more about interactive tables.';\n",
              "        element.innerHTML = '';\n",
              "        dataTable['output_type'] = 'display_data';\n",
              "        await google.colab.output.renderOutput(dataTable, element);\n",
              "        const docLink = document.createElement('div');\n",
              "        docLink.innerHTML = docLinkHtml;\n",
              "        element.appendChild(docLink);\n",
              "      }\n",
              "    </script>\n",
              "  </div>\n",
              "\n",
              "\n",
              "    <div id=\"df-c568f8ec-859a-4a91-97ee-7d8907db4e18\">\n",
              "      <button class=\"colab-df-quickchart\" onclick=\"quickchart('df-c568f8ec-859a-4a91-97ee-7d8907db4e18')\"\n",
              "                title=\"Suggest charts\"\n",
              "                style=\"display:none;\">\n",
              "\n",
              "<svg xmlns=\"http://www.w3.org/2000/svg\" height=\"24px\"viewBox=\"0 0 24 24\"\n",
              "     width=\"24px\">\n",
              "    <g>\n",
              "        <path d=\"M19 3H5c-1.1 0-2 .9-2 2v14c0 1.1.9 2 2 2h14c1.1 0 2-.9 2-2V5c0-1.1-.9-2-2-2zM9 17H7v-7h2v7zm4 0h-2V7h2v10zm4 0h-2v-4h2v4z\"/>\n",
              "    </g>\n",
              "</svg>\n",
              "      </button>\n",
              "\n",
              "<style>\n",
              "  .colab-df-quickchart {\n",
              "      --bg-color: #E8F0FE;\n",
              "      --fill-color: #1967D2;\n",
              "      --hover-bg-color: #E2EBFA;\n",
              "      --hover-fill-color: #174EA6;\n",
              "      --disabled-fill-color: #AAA;\n",
              "      --disabled-bg-color: #DDD;\n",
              "  }\n",
              "\n",
              "  [theme=dark] .colab-df-quickchart {\n",
              "      --bg-color: #3B4455;\n",
              "      --fill-color: #D2E3FC;\n",
              "      --hover-bg-color: #434B5C;\n",
              "      --hover-fill-color: #FFFFFF;\n",
              "      --disabled-bg-color: #3B4455;\n",
              "      --disabled-fill-color: #666;\n",
              "  }\n",
              "\n",
              "  .colab-df-quickchart {\n",
              "    background-color: var(--bg-color);\n",
              "    border: none;\n",
              "    border-radius: 50%;\n",
              "    cursor: pointer;\n",
              "    display: none;\n",
              "    fill: var(--fill-color);\n",
              "    height: 32px;\n",
              "    padding: 0;\n",
              "    width: 32px;\n",
              "  }\n",
              "\n",
              "  .colab-df-quickchart:hover {\n",
              "    background-color: var(--hover-bg-color);\n",
              "    box-shadow: 0 1px 2px rgba(60, 64, 67, 0.3), 0 1px 3px 1px rgba(60, 64, 67, 0.15);\n",
              "    fill: var(--button-hover-fill-color);\n",
              "  }\n",
              "\n",
              "  .colab-df-quickchart-complete:disabled,\n",
              "  .colab-df-quickchart-complete:disabled:hover {\n",
              "    background-color: var(--disabled-bg-color);\n",
              "    fill: var(--disabled-fill-color);\n",
              "    box-shadow: none;\n",
              "  }\n",
              "\n",
              "  .colab-df-spinner {\n",
              "    border: 2px solid var(--fill-color);\n",
              "    border-color: transparent;\n",
              "    border-bottom-color: var(--fill-color);\n",
              "    animation:\n",
              "      spin 1s steps(1) infinite;\n",
              "  }\n",
              "\n",
              "  @keyframes spin {\n",
              "    0% {\n",
              "      border-color: transparent;\n",
              "      border-bottom-color: var(--fill-color);\n",
              "      border-left-color: var(--fill-color);\n",
              "    }\n",
              "    20% {\n",
              "      border-color: transparent;\n",
              "      border-left-color: var(--fill-color);\n",
              "      border-top-color: var(--fill-color);\n",
              "    }\n",
              "    30% {\n",
              "      border-color: transparent;\n",
              "      border-left-color: var(--fill-color);\n",
              "      border-top-color: var(--fill-color);\n",
              "      border-right-color: var(--fill-color);\n",
              "    }\n",
              "    40% {\n",
              "      border-color: transparent;\n",
              "      border-right-color: var(--fill-color);\n",
              "      border-top-color: var(--fill-color);\n",
              "    }\n",
              "    60% {\n",
              "      border-color: transparent;\n",
              "      border-right-color: var(--fill-color);\n",
              "    }\n",
              "    80% {\n",
              "      border-color: transparent;\n",
              "      border-right-color: var(--fill-color);\n",
              "      border-bottom-color: var(--fill-color);\n",
              "    }\n",
              "    90% {\n",
              "      border-color: transparent;\n",
              "      border-bottom-color: var(--fill-color);\n",
              "    }\n",
              "  }\n",
              "</style>\n",
              "\n",
              "      <script>\n",
              "        async function quickchart(key) {\n",
              "          const quickchartButtonEl =\n",
              "            document.querySelector('#' + key + ' button');\n",
              "          quickchartButtonEl.disabled = true;  // To prevent multiple clicks.\n",
              "          quickchartButtonEl.classList.add('colab-df-spinner');\n",
              "          try {\n",
              "            const charts = await google.colab.kernel.invokeFunction(\n",
              "                'suggestCharts', [key], {});\n",
              "          } catch (error) {\n",
              "            console.error('Error during call to suggestCharts:', error);\n",
              "          }\n",
              "          quickchartButtonEl.classList.remove('colab-df-spinner');\n",
              "          quickchartButtonEl.classList.add('colab-df-quickchart-complete');\n",
              "        }\n",
              "        (() => {\n",
              "          let quickchartButtonEl =\n",
              "            document.querySelector('#df-c568f8ec-859a-4a91-97ee-7d8907db4e18 button');\n",
              "          quickchartButtonEl.style.display =\n",
              "            google.colab.kernel.accessAllowed ? 'block' : 'none';\n",
              "        })();\n",
              "      </script>\n",
              "    </div>\n",
              "\n",
              "    </div>\n",
              "  </div>\n"
            ],
            "application/vnd.google.colaboratory.intrinsic+json": {
              "type": "dataframe",
              "variable_name": "data",
              "summary": "{\n  \"name\": \"data\",\n  \"rows\": 2359,\n  \"fields\": [\n    {\n      \"column\": \"Producto\",\n      \"properties\": {\n        \"dtype\": \"category\",\n        \"num_unique_values\": 51,\n        \"samples\": [\n          \"Guitarra ac\\u00fastica\",\n          \"Bal\\u00f3n de baloncesto\",\n          \"Smartwatch\"\n        ],\n        \"semantic_type\": \"\",\n        \"description\": \"\"\n      }\n    },\n    {\n      \"column\": \"Categor\\u00eda del Producto\",\n      \"properties\": {\n        \"dtype\": \"category\",\n        \"num_unique_values\": 8,\n        \"samples\": [\n          \"Muebles\",\n          \"Deportes y diversi\\u00f3n\",\n          \"Electr\\u00f3nicos\"\n        ],\n        \"semantic_type\": \"\",\n        \"description\": \"\"\n      }\n    },\n    {\n      \"column\": \"Precio\",\n      \"properties\": {\n        \"dtype\": \"number\",\n        \"std\": 614686.7653873172,\n        \"min\": 7600.0,\n        \"max\": 2977000.0,\n        \"num_unique_values\": 1937,\n        \"samples\": [\n          2499400.0,\n          14800.0,\n          80500.0\n        ],\n        \"semantic_type\": \"\",\n        \"description\": \"\"\n      }\n    },\n    {\n      \"column\": \"Costo de env\\u00edo\",\n      \"properties\": {\n        \"dtype\": \"number\",\n        \"std\": 32860.0017825605,\n        \"min\": 0.0,\n        \"max\": 160800.0,\n        \"num_unique_values\": 753,\n        \"samples\": [\n          117800.0,\n          54700.0,\n          45600.0\n        ],\n        \"semantic_type\": \"\",\n        \"description\": \"\"\n      }\n    },\n    {\n      \"column\": \"Fecha de Compra\",\n      \"properties\": {\n        \"dtype\": \"object\",\n        \"num_unique_values\": 1018,\n        \"samples\": [\n          \"15/09/2022\",\n          \"03/06/2020\",\n          \"06/11/2021\"\n        ],\n        \"semantic_type\": \"\",\n        \"description\": \"\"\n      }\n    },\n    {\n      \"column\": \"Vendedor\",\n      \"properties\": {\n        \"dtype\": \"category\",\n        \"num_unique_values\": 14,\n        \"samples\": [\n          \"Juliana Costa\",\n          \"Mariana Herrera\",\n          \"Pedro Gomez\"\n        ],\n        \"semantic_type\": \"\",\n        \"description\": \"\"\n      }\n    },\n    {\n      \"column\": \"Lugar de Compra\",\n      \"properties\": {\n        \"dtype\": \"category\",\n        \"num_unique_values\": 19,\n        \"samples\": [\n          \"Bogot\\u00e1\",\n          \"Pereira\",\n          \"Neiva\"\n        ],\n        \"semantic_type\": \"\",\n        \"description\": \"\"\n      }\n    },\n    {\n      \"column\": \"Calificaci\\u00f3n\",\n      \"properties\": {\n        \"dtype\": \"number\",\n        \"std\": 1,\n        \"min\": 1,\n        \"max\": 5,\n        \"num_unique_values\": 5,\n        \"samples\": [\n          1,\n          2,\n          5\n        ],\n        \"semantic_type\": \"\",\n        \"description\": \"\"\n      }\n    },\n    {\n      \"column\": \"M\\u00e9todo de pago\",\n      \"properties\": {\n        \"dtype\": \"category\",\n        \"num_unique_values\": 4,\n        \"samples\": [\n          \"Nequi\",\n          \"Tarjeta de d\\u00e9bito\",\n          \"Tarjeta de cr\\u00e9dito\"\n        ],\n        \"semantic_type\": \"\",\n        \"description\": \"\"\n      }\n    },\n    {\n      \"column\": \"Cantidad de cuotas\",\n      \"properties\": {\n        \"dtype\": \"number\",\n        \"std\": 2,\n        \"min\": 1,\n        \"max\": 24,\n        \"num_unique_values\": 15,\n        \"samples\": [\n          7,\n          14,\n          8\n        ],\n        \"semantic_type\": \"\",\n        \"description\": \"\"\n      }\n    },\n    {\n      \"column\": \"lat\",\n      \"properties\": {\n        \"dtype\": \"number\",\n        \"std\": 2.2874452492678627,\n        \"min\": -4.21528,\n        \"max\": 11.54444,\n        \"num_unique_values\": 19,\n        \"samples\": [\n          4.60971,\n          4.81333,\n          2.9273\n        ],\n        \"semantic_type\": \"\",\n        \"description\": \"\"\n      }\n    },\n    {\n      \"column\": \"lon\",\n      \"properties\": {\n        \"dtype\": \"number\",\n        \"std\": 1.2178272727088486,\n        \"min\": -77.28111,\n        \"max\": -67.9239,\n        \"num_unique_values\": 19,\n        \"samples\": [\n          -74.08175,\n          -75.69611,\n          -75.28189\n        ],\n        \"semantic_type\": \"\",\n        \"description\": \"\"\n      }\n    }\n  ]\n}"
            }
          },
          "metadata": {},
          "execution_count": 148
        }
      ]
    },
    {
      "cell_type": "code",
      "source": [
        "Calculo de Facturacion"
      ],
      "metadata": {
        "id": "BUgXbd9W8Rz8"
      },
      "execution_count": null,
      "outputs": []
    },
    {
      "cell_type": "markdown",
      "source": [
        "# **Calculo de Facturacion**"
      ],
      "metadata": {
        "id": "Kk7Ka1lk-7fb"
      }
    },
    {
      "cell_type": "code",
      "source": [
        "# Funcion para Calculo de Ingresos\n",
        "def calculo_ingresos(tienda):\n",
        "    import pandas as pd\n",
        "    data= pd.read_csv(tienda)\n",
        "    # Calculamos la suma del campo precio\n",
        "    suma = round(data['Precio'].sum(),2)\n",
        "    return suma\n"
      ],
      "metadata": {
        "id": "08zKn8ll_cxn"
      },
      "execution_count": null,
      "outputs": []
    },
    {
      "cell_type": "code",
      "source": [
        "# Programa Principal para calculo de Ingresos por Tienda\n",
        "resumen_ingreso = []\n",
        "\n",
        "# Calculo de Ingresos Tienda 1\n",
        "tienda = '/content/challenge1-data-science-latam/base-de-datos-challenge1-latam/tienda_1 .csv'\n",
        "resultado = calculo_ingresos(tienda)\n",
        "resultado_blls =round(resultado/1000000000,2)\n",
        "print('Ingreso Total Tienda 1 = {:,.2f}'.format(resultado))\n",
        "\n",
        "resumen_ingreso.append(resultado_blls)\n",
        "\n",
        "\n",
        "# Calculo de Ingresos tienda 2\n",
        "tienda = '/content/challenge1-data-science-latam/base-de-datos-challenge1-latam/tienda_2.csv'\n",
        "resultado = calculo_ingresos(tienda)\n",
        "resultado_blls =round(resultado/1000000000,2)\n",
        "print('Ingreso Total Tienda 2 = {:,.2f}'.format(resultado))\n",
        "resumen_ingreso.append(resultado_blls)\n",
        "\n",
        "\n",
        "# Calculo de Ingresos tienda 3\n",
        "tienda = '/content/challenge1-data-science-latam/base-de-datos-challenge1-latam/tienda_3.csv'\n",
        "resultado = calculo_ingresos(tienda)\n",
        "resultado_blls =round(resultado/1000000000,2)\n",
        "print('Ingreso Total Tienda 3 = {:,.2f}'.format(resultado))\n",
        "resumen_ingreso.append(resultado_blls)\n",
        "\n",
        "\n",
        "# Calculo de Ingresos tienda 4\n",
        "tienda = '/content/challenge1-data-science-latam/base-de-datos-challenge1-latam/tienda_4.csv'\n",
        "resultado = calculo_ingresos(tienda)\n",
        "resultado_blls =round(resultado/1000000000,2)\n",
        "print('Ingreso Total Tienda 4 = {:,.2f}'.format(resultado))\n",
        "resumen_ingreso.append(resultado_blls)\n",
        "\n"
      ],
      "metadata": {
        "id": "RHVZumf0QfIv",
        "colab": {
          "base_uri": "https://localhost:8080/"
        },
        "outputId": "a956f6d0-23b6-43c4-ee97-393ada263780"
      },
      "execution_count": null,
      "outputs": [
        {
          "output_type": "stream",
          "name": "stdout",
          "text": [
            "Ingreso Total Tienda 1 = 1,150,880,400.00\n",
            "Ingreso Total Tienda 2 = 1,116,343,500.00\n",
            "Ingreso Total Tienda 3 = 1,098,019,600.00\n",
            "Ingreso Total Tienda 4 = 1,038,375,700.00\n"
          ]
        }
      ]
    },
    {
      "cell_type": "code",
      "source": [],
      "metadata": {
        "id": "622HRiGT_J2W"
      },
      "execution_count": null,
      "outputs": []
    },
    {
      "cell_type": "markdown",
      "source": [
        "# **Cantidad de Ventas por Categoria**"
      ],
      "metadata": {
        "id": "1pXcAsZo_LQE"
      }
    },
    {
      "cell_type": "code",
      "source": [
        "# Funcion para Calculo de cantidad de productos vendidos por Categoria/Tienda\n",
        "def categoria_frecuencia(tienda):\n",
        "    lista_categorias = []\n",
        "    lista_cantidades = []\n",
        "    import pandas as pd\n",
        "    import numpy as np\n",
        "    data= pd.read_csv(tienda)\n",
        "    df = pd.DataFrame(data)\n",
        "    frecuencias = df['Categoría del Producto'].value_counts().head(5)\n",
        "    frecuencias_df = frecuencias.reset_index()\n",
        "    frecuencias_df.columns = ['Categoría del Producto', 'Cantidad']\n",
        "    return frecuencias_df"
      ],
      "metadata": {
        "id": "8M4rMQw2Vh7q"
      },
      "execution_count": 5,
      "outputs": []
    },
    {
      "cell_type": "code",
      "source": [
        "# Programa Principal para conteo de frecuencias por Categoria/Tienda\n",
        "\n",
        "# Calculo de frecuencias por Categoria Tienda 1\n",
        "tienda = '/content/challenge1-data-science-latam/base-de-datos-challenge1-latam/tienda_1 .csv'\n",
        "ntienda = \"Tienda 1\"\n",
        "resultado = categoria_frecuencia(tienda)\n",
        "lista_categorias = resultado['Categoría del Producto'].tolist()\n",
        "lista_cantidades = resultado['Cantidad'].tolist()\n",
        "\n",
        "print('\\n'\"Categorias mas populares \", ntienda)\n",
        "print(resultado)\n",
        "\n",
        "# Calculo de frecuencias por Categoria Tienda 2\n",
        "tienda = '/content/challenge1-data-science-latam/base-de-datos-challenge1-latam/tienda_2.csv'\n",
        "ntienda = \"Tienda 2\"\n",
        "resultado = categoria_frecuencia(tienda)\n",
        "print('\\n'\"Categorias mas populares \", ntienda)\n",
        "print(resultado)\n",
        "\n",
        "# Calculo de frecuencias por Categoria Tienda 3\n",
        "\n",
        "tienda = '/content/challenge1-data-science-latam/base-de-datos-challenge1-latam/tienda_3.csv'\n",
        "ntienda = \"Tienda 3\"\n",
        "resultado = categoria_frecuencia(tienda)\n",
        "print('\\n'\"Categorias mas populares \", ntienda)\n",
        "print(resultado)\n",
        "\n",
        "# Calculo de frecuencias por Categoria Tienda 4\n",
        "tienda = '/content/challenge1-data-science-latam/base-de-datos-challenge1-latam/tienda_4.csv'\n",
        "ntienda = \"Tienda 4\"\n",
        "resultado = categoria_frecuencia(tienda)\n",
        "print('\\n'\"Categorias mas populares \", ntienda)\n",
        "print(resultado)"
      ],
      "metadata": {
        "colab": {
          "base_uri": "https://localhost:8080/"
        },
        "id": "Ks4LvQckc0nC",
        "outputId": "1987c32e-271e-4f54-fe78-6a0fca232eab"
      },
      "execution_count": 6,
      "outputs": [
        {
          "output_type": "stream",
          "name": "stdout",
          "text": [
            "\n",
            "Categorias mas populares  Tienda 1\n",
            "  Categoría del Producto  Cantidad\n",
            "0                Muebles       465\n",
            "1           Electrónicos       448\n",
            "2               Juguetes       324\n",
            "3      Electrodomésticos       312\n",
            "4   Deportes y diversión       284\n",
            "\n",
            "Categorias mas populares  Tienda 2\n",
            "  Categoría del Producto  Cantidad\n",
            "0                Muebles       442\n",
            "1           Electrónicos       422\n",
            "2               Juguetes       313\n",
            "3      Electrodomésticos       305\n",
            "4   Deportes y diversión       275\n",
            "\n",
            "Categorias mas populares  Tienda 3\n",
            "  Categoría del Producto  Cantidad\n",
            "0                Muebles       499\n",
            "1           Electrónicos       451\n",
            "2               Juguetes       315\n",
            "3      Electrodomésticos       278\n",
            "4   Deportes y diversión       277\n",
            "\n",
            "Categorias mas populares  Tienda 4\n",
            "  Categoría del Producto  Cantidad\n",
            "0                Muebles       480\n",
            "1           Electrónicos       451\n",
            "2               Juguetes       338\n",
            "3   Deportes y diversión       277\n",
            "4      Electrodomésticos       254\n"
          ]
        }
      ]
    },
    {
      "cell_type": "code",
      "source": [],
      "metadata": {
        "id": "52At0nwn_aMF"
      },
      "execution_count": null,
      "outputs": []
    },
    {
      "cell_type": "markdown",
      "source": [
        "# **Promedio de Calificacion**"
      ],
      "metadata": {
        "id": "CDtIeBAK_bUr"
      }
    },
    {
      "cell_type": "code",
      "source": [
        "# Funcion para calculo de calificacion Promedio de Satisfaccion\n",
        "def calculo_calificacion (tienda):\n",
        "    import pandas as pd\n",
        "    import numpy as np\n",
        "\n",
        "    data= pd.read_csv(tienda)\n",
        "    df = pd.DataFrame(data)\n",
        "    promedio_calificacion = df['Calificación'].mean()\n",
        "\n",
        "    return promedio_calificacion\n"
      ],
      "metadata": {
        "id": "TrTzoHGTGam1"
      },
      "execution_count": null,
      "outputs": []
    },
    {
      "cell_type": "code",
      "source": [
        "# Programa Principal para promedio de satisfaccion por Tienda\n",
        "\n",
        "promedio_satisfaccion =[]\n",
        "\n",
        "# Calculo de promedio de satisfaccion Tienda 1\n",
        "tienda = '/content/challenge1-data-science-latam/base-de-datos-challenge1-latam/tienda_1 .csv'\n",
        "resultado = round(calculo_calificacion(tienda),2)\n",
        "promedio_satisfaccion.append(resultado)\n",
        "print('\\n''Valoracion Media Tienda 1 = {:,.2f}'.format(resultado))\n",
        "\n",
        "# Calculo de promedio de satisfaccion Tienda 2\n",
        "tienda = '/content/challenge1-data-science-latam/base-de-datos-challenge1-latam/tienda_2.csv'\n",
        "resultado = round(calculo_calificacion(tienda),2)\n",
        "promedio_satisfaccion.append(resultado)\n",
        "print('\\n''Valoracion Media Tienda 2 = {:,.2f}'.format(resultado))\n",
        "\n",
        "# Calculo de promedio de satisfaccion Tienda 3\n",
        "tienda = '/content/challenge1-data-science-latam/base-de-datos-challenge1-latam/tienda_3.csv'\n",
        "resultado = round(calculo_calificacion(tienda),2)\n",
        "promedio_satisfaccion.append(resultado)\n",
        "print('\\n''Valoracion Media Tienda 3 = {:,.2f}'.format(resultado))\n",
        "\n",
        "# Calculo de promedio de satisfaccion Tienda 4\n",
        "tienda = '/content/challenge1-data-science-latam/base-de-datos-challenge1-latam/tienda_4.csv'\n",
        "resultado = round(calculo_calificacion(tienda),2)\n",
        "promedio_satisfaccion.append(resultado)\n",
        "print('\\n''Valoracion Media Tienda 4 = {:,.2f}'.format(resultado))\n"
      ],
      "metadata": {
        "colab": {
          "base_uri": "https://localhost:8080/"
        },
        "id": "tqqdJVjBQyTb",
        "outputId": "698b2f2e-892d-47a4-8c58-f7fb673666bb"
      },
      "execution_count": null,
      "outputs": [
        {
          "output_type": "stream",
          "name": "stdout",
          "text": [
            "\n",
            "Valoracion Media Tienda 1 = 3.98\n",
            "\n",
            "Valoracion Media Tienda 2 = 4.04\n",
            "\n",
            "Valoracion Media Tienda 3 = 4.05\n",
            "\n",
            "Valoracion Media Tienda 4 = 4.00\n"
          ]
        }
      ]
    },
    {
      "cell_type": "code",
      "source": [],
      "metadata": {
        "id": "G7GNu_em_uSl"
      },
      "execution_count": null,
      "outputs": []
    },
    {
      "cell_type": "markdown",
      "source": [
        "# **Productos Mas y Menos Vendidos**"
      ],
      "metadata": {
        "id": "xd_zVO7P_wXD"
      }
    },
    {
      "cell_type": "code",
      "source": [
        "# Funcion para Calculo de los productos mas y menos vendidos Tienda\n",
        "def frecuencia_productos (tienda,opcion):\n",
        "    import pandas as pd\n",
        "    import numpy as np\n",
        "\n",
        "    data= pd.read_csv(tienda)\n",
        "    df = pd.DataFrame(data)\n",
        "\n",
        "    if 'Producto' not in df.columns:\n",
        "        # If not, print an error message and return None\n",
        "        print(f\"Error: Column 'Producto' no existe en fichero\")\n",
        "        return None\n",
        "\n",
        "    if opcion == 1:\n",
        "      frecuencias_prod_max = df['Producto'].value_counts().head(3)\n",
        "      frecuencias_df_prod = frecuencias_prod_max.reset_index()\n",
        "\n",
        "    else:\n",
        "      frecuencias_prod_min = df['Producto'].value_counts().tail(3)\n",
        "      frecuencias_df_prod = frecuencias_prod_min.reset_index()\n",
        "    frecuencias_df_prod.columns = ['Producto', 'Cantidad']\n",
        "    return frecuencias_df_prod"
      ],
      "metadata": {
        "id": "UJwWEv16TzvF"
      },
      "execution_count": null,
      "outputs": []
    },
    {
      "cell_type": "code",
      "source": [
        "# Programa Principal para productos maximos y minimos en ventas porTienda\n",
        "\n",
        "# Calculo Productos Tienda 1\n",
        "tienda = '/content/challenge1-data-science-latam/base-de-datos-challenge1-latam/tienda_1 .csv'\n",
        "\n",
        "# Calculo de Productos mas vendidos Tienda 1\n",
        "opcion = 1\n",
        "resultado = frecuencia_productos(tienda,opcion)\n",
        "if opcion == 1:\n",
        "  print('\\n'\"Productos mas vendidos Tienda 1\")\n",
        "else:\n",
        "  print('\\n'\"Productos menos vendidos Tienda 1\")\n",
        "print(resultado)\n",
        "\n",
        "# Calculo de Productos menos vendidos Tienda 1\n",
        "opcion = 2\n",
        "resultado = frecuencia_productos(tienda,opcion)\n",
        "if opcion == 1:\n",
        "  print('\\n'\"Productos mas vendidos Tienda 1\")\n",
        "else:\n",
        "  print('\\n'\"Productos menos vendidos Tienda 1\")\n",
        "print(resultado)\n",
        "\n",
        "# Calculo Productos  Tienda 2\n",
        "tienda = '/content/challenge1-data-science-latam/base-de-datos-challenge1-latam/tienda_2.csv'\n",
        "\n",
        "# Calculo de Productos mas vendidos Tienda 2\n",
        "opcion = 1\n",
        "resultado = frecuencia_productos(tienda,opcion)\n",
        "if opcion == 1:\n",
        "  print('\\n'\"Productos mas vendidos Tienda 2\")\n",
        "else:\n",
        "  print('\\n'\"Productos menos vendidos Tienda 2\")\n",
        "print(resultado)\n",
        "\n",
        "# Calculo de Productos menos vendidos Tienda 2\n",
        "opcion = 2\n",
        "resultado = frecuencia_productos(tienda,opcion)\n",
        "if opcion == 1:\n",
        "  print('\\n'\"Productos mas vendidos Tienda 2\")\n",
        "else:\n",
        "  print('\\n'\"Productos menos vendidos Tienda 2\")\n",
        "print(resultado)\n",
        "\n",
        "# Calculo Productos  Tienda 3\n",
        "tienda = '/content/challenge1-data-science-latam/base-de-datos-challenge1-latam/tienda_3.csv'\n",
        "\n",
        "# Calculo de Productos mas vendidos Tienda 3\n",
        "opcion = 1\n",
        "resultado = frecuencia_productos(tienda,opcion)\n",
        "if opcion == 1:\n",
        "  print('\\n'\"Productos mas vendidos Tienda 3\")\n",
        "else:\n",
        "  print('\\n'\"Productos menos vendidos Tienda 3\")\n",
        "print(resultado)\n",
        "\n",
        "# Calculo de Productos menos vendidos Tienda 3\n",
        "opcion = 2\n",
        "resultado = frecuencia_productos(tienda,opcion)\n",
        "if opcion == 1:\n",
        "  print('\\n'\"Productos mas vendidos Tienda 3\")\n",
        "else:\n",
        "  print('\\n'\"Productos menos vendidos Tienda 3\")\n",
        "print(resultado)\n",
        "\n",
        "# Calculo Productos  Tienda 4\n",
        "tienda = '/content/challenge1-data-science-latam/base-de-datos-challenge1-latam/tienda_4.csv'\n",
        "\n",
        "# Calculo de Productos mas vendidos Tienda 4\n",
        "opcion = 1\n",
        "resultado = frecuencia_productos(tienda,opcion)\n",
        "if opcion == 1:\n",
        "  print('\\n'\"Productos mas vendidos Tienda 4\")\n",
        "else:\n",
        "  print('\\n'\"Productos menos vendidos Tienda 4\")\n",
        "print(resultado)\n",
        "\n",
        "# Calculo de Productos menos vendidos Tienda 4\n",
        "opcion = 2\n",
        "resultado = frecuencia_productos(tienda,opcion)\n",
        "if opcion == 1:\n",
        "  print('\\n'\"Productos mas vendidos Tienda 4\")\n",
        "else:\n",
        "  print('\\n'\"Productos menos vendidos Tienda 4\")\n",
        "print(resultado)\n"
      ],
      "metadata": {
        "colab": {
          "base_uri": "https://localhost:8080/"
        },
        "id": "oXaZ22x3wyQA",
        "outputId": "39216580-3eac-4d3a-9d93-5c29c4fdb247"
      },
      "execution_count": null,
      "outputs": [
        {
          "output_type": "stream",
          "name": "stdout",
          "text": [
            "\n",
            "Productos mas vendidos Tienda 1\n",
            "        Producto  Cantidad\n",
            "0     Microondas        60\n",
            "1  TV LED UHD 4K        60\n",
            "2        Armario        60\n",
            "\n",
            "Productos menos vendidos Tienda 1\n",
            "                    Producto  Cantidad\n",
            "0            Olla de presión        35\n",
            "1  Auriculares con micrófono        33\n",
            "2               Celular ABXY        33\n",
            "\n",
            "Productos mas vendidos Tienda 2\n",
            "                    Producto  Cantidad\n",
            "0  Iniciando en programación        65\n",
            "1                 Microondas        62\n",
            "2                    Batería        61\n",
            "\n",
            "Productos menos vendidos Tienda 2\n",
            "          Producto  Cantidad\n",
            "0  Mesa de comedor        34\n",
            "1        Impresora        34\n",
            "2    Juego de mesa        32\n",
            "\n",
            "Productos mas vendidos Tienda 3\n",
            "          Producto  Cantidad\n",
            "0    Kit de bancas        57\n",
            "1  Mesa de comedor        56\n",
            "2        Cama king        56\n",
            "\n",
            "Productos menos vendidos Tienda 3\n",
            "                  Producto  Cantidad\n",
            "0                  Mochila        36\n",
            "1               Microondas        36\n",
            "2  Bloques de construcción        35\n",
            "\n",
            "Productos mas vendidos Tienda 4\n",
            "                  Producto  Cantidad\n",
            "0                 Cama box        62\n",
            "1               Cubertería        59\n",
            "2  Dashboards con Power BI        56\n",
            "\n",
            "Productos menos vendidos Tienda 4\n",
            "             Producto  Cantidad\n",
            "0   Guitarra acústica        37\n",
            "1             Armario        34\n",
            "2  Guitarra eléctrica        33\n"
          ]
        }
      ]
    },
    {
      "cell_type": "markdown",
      "source": [
        "# **Promedio de Costo de Envio**"
      ],
      "metadata": {
        "id": "KBM0xOfT_6Rb"
      }
    },
    {
      "cell_type": "code",
      "source": [
        "#Funcion para calculo de Valor de envio Promedio por Tienda\n",
        "def calculo_envio (tienda):\n",
        "\n",
        "    import pandas as pd\n",
        "    import numpy as np\n",
        "\n",
        "    data= pd.read_csv(tienda)\n",
        "    df = pd.DataFrame(data)\n",
        "    promedio_envio = df['Costo de envío'].mean()\n",
        "\n",
        "    return promedio_envio"
      ],
      "metadata": {
        "id": "JWS96QCPHynD"
      },
      "execution_count": null,
      "outputs": []
    },
    {
      "cell_type": "code",
      "source": [
        "# Programa Principal para promedio de valor de envio por Tienda\n",
        "\n",
        "prom_envio =[]\n",
        "\n",
        "# Calculo de promedio de envio Tienda 1\n",
        "tienda = '/content/challenge1-data-science-latam/base-de-datos-challenge1-latam/tienda_1 .csv'\n",
        "resultado = round(calculo_envio(tienda),2)\n",
        "prom_envio.append(resultado)\n",
        "print('\\n''Promedio costo envio Tienda 1 = {:,.2f}'.format(resultado))\n",
        "\n",
        "# Calculo de promedio de satisfaccion Tienda 2\n",
        "tienda = '/content/challenge1-data-science-latam/base-de-datos-challenge1-latam/tienda_2.csv'\n",
        "resultado = round(calculo_envio(tienda),2)\n",
        "prom_envio.append(resultado)\n",
        "print('\\n''Promedio costo envio Tienda 2 = {:,.2f}'.format(resultado))\n",
        "\n",
        "# Calculo de promedio de satisfaccion Tienda 3\n",
        "tienda = '/content/challenge1-data-science-latam/base-de-datos-challenge1-latam/tienda_3.csv'\n",
        "resultado = round(calculo_envio(tienda),2)\n",
        "prom_envio.append(resultado)\n",
        "print('\\n''Promedio costo envio Tienda 3 = {:,.2f}'.format(resultado))\n",
        "\n",
        "# Calculo de promedio de satisfaccion Tienda 4\n",
        "tienda = '/content/challenge1-data-science-latam/base-de-datos-challenge1-latam/tienda_4.csv'\n",
        "resultado = round(calculo_envio(tienda),2)\n",
        "prom_envio.append(resultado)\n",
        "print('\\n''Promedio costo envio Tienda 4 = {:,.2f}'.format(resultado))\n"
      ],
      "metadata": {
        "colab": {
          "base_uri": "https://localhost:8080/"
        },
        "id": "WWT1qNZDJLAm",
        "outputId": "e1f43b96-49bd-45fa-9491-ad2e382a0504"
      },
      "execution_count": null,
      "outputs": [
        {
          "output_type": "stream",
          "name": "stdout",
          "text": [
            "\n",
            "Promedio costo envio Tienda 1 = 26,018.61\n",
            "\n",
            "Promedio costo envio Tienda 2 = 25,216.24\n",
            "\n",
            "Promedio costo envio Tienda 3 = 24,805.68\n",
            "\n",
            "Promedio costo envio Tienda 4 = 23,459.46\n"
          ]
        }
      ]
    },
    {
      "cell_type": "code",
      "source": [],
      "metadata": {
        "id": "TD5bb8GpACbF"
      },
      "execution_count": null,
      "outputs": []
    },
    {
      "cell_type": "markdown",
      "source": [
        "# **Graficos**"
      ],
      "metadata": {
        "id": "v1CSvMSIADYe"
      }
    },
    {
      "cell_type": "code",
      "source": [
        "#Grafico de Barras Verticales Facturación Tiendas\n",
        "\n",
        "import pandas as pd\n",
        "import matplotlib.pyplot as plt\n",
        "Tienda =[\"Tienda 1\",\"Tienda 2\", \"Tienda 3\",\"Tienda 4\"]\n",
        "Valores = resumen_ingreso\n",
        "\n",
        "plt.bar(Tienda, Valores, color='skyblue')\n",
        "plt.xlabel('Tiendas')\n",
        "plt.ylabel('Valores Blls')\n",
        "plt.title('Distribucion por Ingresos de Facturacion')\n",
        "\n",
        "plt.show()\n"
      ],
      "metadata": {
        "colab": {
          "base_uri": "https://localhost:8080/",
          "height": 472
        },
        "id": "BkxkUEGn-s7b",
        "outputId": "8d42e648-7317-4c44-f935-dd96e42268bb"
      },
      "execution_count": null,
      "outputs": [
        {
          "output_type": "display_data",
          "data": {
            "text/plain": [
              "<Figure size 640x480 with 1 Axes>"
            ],
            "image/png": "[encoded data removed]"
          },
          "metadata": {}
        }
      ]
    },
    {
      "cell_type": "code",
      "source": [
        "#Grafico de Barras Horizontales de calificacion promedio\n",
        "import pandas as pd\n",
        "import matplotlib.pyplot as plt\n",
        "Tiendas =[\"Tienda 1\",\"Tienda 2\", \"Tienda 3\",\"Tienda 4\"]\n",
        "Valores = promedio_satisfaccion\n",
        "\n",
        "plt.barh(Tiendas, Valores, color='lightgreen')\n",
        "plt.xlabel('Valores')\n",
        "plt.ylabel('Tiendas')\n",
        "plt.title('Distribucion por Calificacion')\n",
        "\n",
        "plt.show()\n"
      ],
      "metadata": {
        "colab": {
          "base_uri": "https://localhost:8080/",
          "height": 472
        },
        "id": "WIY2FpthC9Ag",
        "outputId": "eed28dae-f43a-4bb0-a9dc-226be57a8efa"
      },
      "execution_count": null,
      "outputs": [
        {
          "output_type": "display_data",
          "data": {
            "text/plain": [
              "<Figure size 640x480 with 1 Axes>"
            ],
            "image/png": "[encoded data removed]"
          },
          "metadata": {}
        }
      ]
    },
    {
      "cell_type": "code",
      "source": [
        "# Grafico de Categorias por Tienda 1\n",
        "import matplotlib.pyplot as plt\n",
        "plt.figure(figsize=(10, 8))\n",
        "categoria = lista_categorias\n",
        "unidades = lista_cantidades\n",
        "destacar = [0.1,0,0,0,0]\n",
        "plt.style.use(\"ggplot\")\n",
        "plt.title(\"DISTRIBUCION POR CATEGORIAS TIENDA 1\")\n",
        "plt.pie(x=unidades,explode=destacar,labels=categoria,autopct='%.2f%%',shadow=True,startangle=20)\n",
        "plt.axis('equal')\n",
        "plt.legend(loc=\"upper left\")\n",
        "plt.show()"
      ],
      "metadata": {
        "colab": {
          "base_uri": "https://localhost:8080/",
          "height": 676
        },
        "id": "VZtTd1VOVrRd",
        "outputId": "feeee138-4032-4308-89d5-0148ed9d191a"
      },
      "execution_count": 8,
      "outputs": [
        {
          "output_type": "display_data",
          "data": {
            "text/plain": [
              "<Figure size 1000x800 with 1 Axes>"
            ],
            "image/png": "[encoded data removed]"
          },
          "metadata": {}
        }
      ]
    },
    {
      "cell_type": "code",
      "source": [],
      "metadata": {
        "id": "W6sfMGsbxkbq"
      },
      "execution_count": null,
      "outputs": []
    },
    {
      "cell_type": "markdown",
      "source": [
        "# **Desempeño Geofrafico**"
      ],
      "metadata": {
        "id": "x13K_ZLdxm0n"
      }
    },
    {
      "cell_type": "code",
      "source": [
        "#Funcion para Desempeño Geografico\n",
        "def desempeno_geografico(tienda):\n",
        "    import folium\n",
        "    from folium.plugins import HeatMap\n",
        "    import pandas as pd\n",
        "\n",
        "    data= pd.read_csv(tienda)\n",
        "    df = pd.DataFrame(data)\n",
        "\n",
        "    colombia_coords = [4.5709, -74.2971]\n",
        "\n",
        "    # Crear el mapa\n",
        "    #mapa_colombia = folium.Map(location=colombia_coords, zoom_start=6,control_scale=True)\n",
        "    mapa_colombia = folium.Map(location=colombia_coords, zoom_start=6)\n",
        "\n",
        "    # Prepare data for heatmap\n",
        "    heat_data = [[row['lat'], row['lon']] for index, row in df.iterrows()]\n",
        "\n",
        "    HeatMap(heat_data).add_to(mapa_colombia)\n",
        "\n",
        "    #mapa_colombia.save(\"D:\\Luis Franco\\CAPACITACION\\ORACLE\\DATA SCIENCE\\PHYTON\\Challenge\\\\mapa_tienda1.html\")\n",
        "    display(mapa_colombia)"
      ],
      "metadata": {
        "id": "Th3tmbY_xRVG"
      },
      "execution_count": 37,
      "outputs": []
    },
    {
      "cell_type": "code",
      "source": [
        "# Calculo Desempeño Geografico Tienda 1\n",
        "tienda = '/content/challenge1-data-science-latam/base-de-datos-challenge1-latam/tienda_1 .csv'\n",
        "desempeno_geografico(tienda)\n",
        "\n",
        "\"\"\"\n",
        "# Calculo Desepeño Geografico Tienda 2\n",
        "tienda = '/content/challenge1-data-science-latam/base-de-datos-challenge1-latam/tienda_2.csv'\n",
        "desempeño_geografico(tienda)\n",
        "\n",
        "# Calculo Desepeño Geografico Tienda 3\n",
        "tienda = '/content/challenge1-data-science-latam/base-de-datos-challenge1-latam/tienda_3.csv'\n",
        "desempeño_geografico(tienda)\n",
        "\n",
        "# Calculo Desepeño Geografico Tienda 4\n",
        "tienda = '/content/challenge1-data-science-latam/base-de-datos-challenge1-latam/tienda_4.csv'\n",
        "desempeño_geografico(tienda)\"\"\"\n",
        "\n"
      ],
      "metadata": {
        "colab": {
          "base_uri": "https://localhost:8080/",
          "height": 920
        },
        "id": "GoHBQTkey3aq",
        "outputId": "dc251945-b3ab-438f-80f1-df4f0b6bdc27"
      },
      "execution_count": 38,
      "outputs": [
        {
          "output_type": "display_data",
          "data": {
            "text/plain": [
              "<folium.folium.Map at 0x79cd00ef6810>"
            ],
            "text/html": [
              "<div style=\"width:100%;\"><div style=\"position:relative;width:100%;height:0;padding-bottom:60%;\"><span style=\"color:#565656\">Make this Notebook Trusted to load map: File -> Trust Notebook</span><iframe srcdoc=\"&lt;!DOCTYPE html&gt;\n",
              "&lt;html&gt;\n",
              "&lt;head&gt;\n",
              "    \n",
              "    &lt;meta http-equiv=&quot;content-type&quot; content=&quot;text/html; charset=UTF-8&quot; /&gt;\n",
              "    \n",
              "        &lt;script&gt;\n",
              "            L_NO_TOUCH = false;\n",
              "            L_DISABLE_3D = false;\n",
              "        &lt;/script&gt;\n",
              "    \n",
              "    &lt;style&gt;html, body {width: 100%;height: 100%;margin: 0;padding: 0;}&lt;/style&gt;\n",
              "    &lt;style&gt;#map {position:absolute;top:0;bottom:0;right:0;left:0;}&lt;/style&gt;\n",
              "    &lt;script src=&quot;https://cdn.jsdelivr.net/npm/leaflet@1.9.3/dist/leaflet.js&quot;&gt;&lt;/script&gt;\n",
              "    &lt;script src=&quot;https://code.jquery.com/jquery-3.7.1.min.js&quot;&gt;&lt;/script&gt;\n",
              "    &lt;script src=&quot;https://cdn.jsdelivr.net/npm/bootstrap@5.2.2/dist/js/bootstrap.bundle.min.js&quot;&gt;&lt;/script&gt;\n",
              "    &lt;script src=&quot;https://cdnjs.cloudflare.com/ajax/libs/Leaflet.awesome-markers/2.0.2/leaflet.awesome-markers.js&quot;&gt;&lt;/script&gt;\n",
              "    &lt;link rel=&quot;stylesheet&quot; href=&quot;https://cdn.jsdelivr.net/npm/leaflet@1.9.3/dist/leaflet.css&quot;/&gt;\n",
              "    &lt;link rel=&quot;stylesheet&quot; href=&quot;https://cdn.jsdelivr.net/npm/bootstrap@5.2.2/dist/css/bootstrap.min.css&quot;/&gt;\n",
              "    &lt;link rel=&quot;stylesheet&quot; href=&quot;https://netdna.bootstrapcdn.com/bootstrap/3.0.0/css/bootstrap-glyphicons.css&quot;/&gt;\n",
              "    &lt;link rel=&quot;stylesheet&quot; href=&quot;https://cdn.jsdelivr.net/npm/@fortawesome/fontawesome-free@6.2.0/css/all.min.css&quot;/&gt;\n",
              "    &lt;link rel=&quot;stylesheet&quot; href=&quot;https://cdnjs.cloudflare.com/ajax/libs/Leaflet.awesome-markers/2.0.2/leaflet.awesome-markers.css&quot;/&gt;\n",
              "    &lt;link rel=&quot;stylesheet&quot; href=&quot;https://cdn.jsdelivr.net/gh/python-visualization/folium/folium/templates/leaflet.awesome.rotate.min.css&quot;/&gt;\n",
              "    \n",
              "            &lt;meta name=&quot;viewport&quot; content=&quot;width=device-width,\n",
              "                initial-scale=1.0, maximum-scale=1.0, user-scalable=no&quot; /&gt;\n",
              "            &lt;style&gt;\n",
              "                #map_c86affc8c209ce282e8a446f03951c95 {\n",
              "                    position: relative;\n",
              "                    width: 100.0%;\n",
              "                    height: 100.0%;\n",
              "                    left: 0.0%;\n",
              "                    top: 0.0%;\n",
              "                }\n",
              "                .leaflet-container { font-size: 1rem; }\n",
              "            &lt;/style&gt;\n",
              "        \n",
              "    &lt;script src=&quot;https://cdn.jsdelivr.net/gh/python-visualization/folium@main/folium/templates/leaflet_heat.min.js&quot;&gt;&lt;/script&gt;\n",
              "&lt;/head&gt;\n",
              "&lt;body&gt;\n",
              "    \n",
              "    \n",
              "            &lt;div class=&quot;folium-map&quot; id=&quot;map_c86affc8c209ce282e8a446f03951c95&quot; &gt;&lt;/div&gt;\n",
              "        \n",
              "&lt;/body&gt;\n",
              "&lt;script&gt;\n",
              "    \n",
              "    \n",
              "            var map_c86affc8c209ce282e8a446f03951c95 = L.map(\n",
              "                &quot;map_c86affc8c209ce282e8a446f03951c95&quot;,\n",
              "                {\n",
              "                    center: [4.5709, -74.2971],\n",
              "                    crs: L.CRS.EPSG3857,\n",
              "                    ...{\n",
              "  &quot;zoom&quot;: 6,\n",
              "  &quot;zoomControl&quot;: true,\n",
              "  &quot;preferCanvas&quot;: false,\n",
              "}\n",
              "\n",
              "                }\n",
              "            );\n",
              "\n",
              "            \n",
              "\n",
              "        \n",
              "    \n",
              "            var tile_layer_dd3514134fe3475463e9b2dc4c1a4716 = L.tileLayer(\n",
              "                &quot;https://tile.openstreetmap.org/{z}/{x}/{y}.png&quot;,\n",
              "                {\n",
              "  &quot;minZoom&quot;: 0,\n",
              "  &quot;maxZoom&quot;: 19,\n",
              "  &quot;maxNativeZoom&quot;: 19,\n",
              "  &quot;noWrap&quot;: false,\n",
              "  &quot;attribution&quot;: &quot;\\u0026copy; \\u003ca href=\\&quot;https://www.openstreetmap.org/copyright\\&quot;\\u003eOpenStreetMap\\u003c/a\\u003e contributors&quot;,\n",
              "  &quot;subdomains&quot;: &quot;abc&quot;,\n",
              "  &quot;detectRetina&quot;: false,\n",
              "  &quot;tms&quot;: false,\n",
              "  &quot;opacity&quot;: 1,\n",
              "}\n",
              "\n",
              "            );\n",
              "        \n",
              "    \n",
              "            tile_layer_dd3514134fe3475463e9b2dc4c1a4716.addTo(map_c86affc8c209ce282e8a446f03951c95);\n",
              "        \n",
              "    \n",
              "            var heat_map_5f80ef559272e9c6577201da3b9edd31 = L.heatLayer(\n",
              "                [[4.60971, -74.08175], [6.25184, -75.56359], [10.39972, -75.51444], [3.43722, -76.5225], [6.25184, -75.56359], [3.43722, -76.5225], [4.60971, -74.08175], [11.24079, -74.19904], [4.60971, -74.08175], [4.60971, -74.08175], [4.60971, -74.08175], [10.39972, -75.51444], [6.25184, -75.56359], [4.81333, -75.69611], [4.60971, -74.08175], [3.43722, -76.5225], [6.25184, -75.56359], [11.24079, -74.19904], [4.60971, -74.08175], [6.25184, -75.56359], [3.43722, -76.5225], [4.60971, -74.08175], [6.25184, -75.56359], [4.60971, -74.08175], [6.25184, -75.56359], [4.60971, -74.08175], [6.25184, -75.56359], [4.60971, -74.08175], [10.96854, -74.78132], [4.60971, -74.08175], [6.25184, -75.56359], [6.25184, -75.56359], [6.25184, -75.56359], [4.60971, -74.08175], [4.60971, -74.08175], [6.25184, -75.56359], [4.60971, -74.08175], [3.43722, -76.5225], [4.60971, -74.08175], [4.142, -73.62664], [3.43722, -76.5225], [3.43722, -76.5225], [6.25184, -75.56359], [4.60971, -74.08175], [4.60971, -74.08175], [6.25184, -75.56359], [3.8653, -67.9239], [6.25184, -75.56359], [3.43722, -76.5225], [7.89391, -72.50782], [3.43722, -76.5225], [6.25184, -75.56359], [4.60971, -74.08175], [3.43722, -76.5225], [6.25184, -75.56359], [4.60971, -74.08175], [7.89391, -72.50782], [4.60971, -74.08175], [4.60971, -74.08175], [6.25184, -75.56359], [5.06889, -75.51738], [4.60971, -74.08175], [6.25184, -75.56359], [4.60971, -74.08175], [4.60971, -74.08175], [6.25184, -75.56359], [6.25184, -75.56359], [3.43722, -76.5225], [2.9273, -75.28189], [4.60971, -74.08175], [4.60971, -74.08175], [6.25184, -75.56359], [7.12539, -73.1198], [3.43722, -76.5225], [4.60971, -74.08175], [4.60971, -74.08175], [10.46314, -73.25322], [6.25184, -75.56359], [6.25184, -75.56359], [4.60971, -74.08175], [10.96854, -74.78132], [4.60971, -74.08175], [6.25184, -75.56359], [6.25184, -75.56359], [10.39972, -75.51444], [1.21361, -77.28111], [4.60971, -74.08175], [6.25184, -75.56359], [4.60971, -74.08175], [4.60971, -74.08175], [3.43722, -76.5225], [4.60971, -74.08175], [4.60971, -74.08175], [10.46314, -73.25322], [6.25184, -75.56359], [7.89391, -72.50782], [3.43722, -76.5225], [4.60971, -74.08175], [6.25184, -75.56359], [6.25184, -75.56359], [4.60971, -74.08175], [6.25184, -75.56359], [4.60971, -74.08175], [4.60971, -74.08175], [4.60971, -74.08175], [6.25184, -75.56359], [4.60971, -74.08175], [11.54444, -72.90722], [4.60971, -74.08175], [4.60971, -74.08175], [4.60971, -74.08175], [4.60971, -74.08175], [4.60971, -74.08175], [4.60971, -74.08175], [4.60971, -74.08175], [4.60971, -74.08175], [10.39972, -75.51444], [4.142, -73.62664], [1.21361, -77.28111], [4.60971, -74.08175], [3.43722, -76.5225], [4.60971, -74.08175], [6.25184, -75.56359], [6.25184, -75.56359], [4.60971, -74.08175], [4.60971, -74.08175], [1.21361, -77.28111], [7.12539, -73.1198], [3.43722, -76.5225], [6.25184, -75.56359], [6.25184, -75.56359], [4.60971, -74.08175], [6.25184, -75.56359], [10.39972, -75.51444], [4.60971, -74.08175], [7.12539, -73.1198], [6.25184, -75.56359], [6.25184, -75.56359], [4.60971, -74.08175], [4.60971, -74.08175], [4.81333, -75.69611], [4.60971, -74.08175], [3.43722, -76.5225], [4.81333, -75.69611], [6.25184, -75.56359], [3.43722, -76.5225], [7.12539, -73.1198], [4.81333, -75.69611], [4.53389, -75.68111], [6.25184, -75.56359], [4.81333, -75.69611], [4.60971, -74.08175], [3.43722, -76.5225], [6.25184, -75.56359], [3.43722, -76.5225], [3.43722, -76.5225], [3.43722, -76.5225], [4.60971, -74.08175], [4.60971, -74.08175], [10.96854, -74.78132], [6.25184, -75.56359], [4.60971, -74.08175], [4.60971, -74.08175], [4.60971, -74.08175], [4.60971, -74.08175], [10.39972, -75.51444], [4.81333, -75.69611], [6.25184, -75.56359], [6.25184, -75.56359], [6.25184, -75.56359], [4.60971, -74.08175], [11.24079, -74.19904], [4.60971, -74.08175], [3.43722, -76.5225], [10.39972, -75.51444], [6.25184, -75.56359], [4.60971, -74.08175], [4.60971, -74.08175], [4.81333, -75.69611], [4.60971, -74.08175], [6.25184, -75.56359], [4.60971, -74.08175], [6.25184, -75.56359], [4.60971, -74.08175], [-4.21528, -69.94056], [4.81333, -75.69611], [4.81333, -75.69611], [4.60971, -74.08175], [4.60971, -74.08175], [7.89391, -72.50782], [4.60971, -74.08175], [6.25184, -75.56359], [4.60971, -74.08175], [4.60971, -74.08175], [3.43722, -76.5225], [4.60971, -74.08175], [4.60971, -74.08175], [4.60971, -74.08175], [6.25184, -75.56359], [7.12539, -73.1198], [4.60971, -74.08175], [4.60971, -74.08175], [6.25184, -75.56359], [6.25184, -75.56359], [4.60971, -74.08175], [4.60971, -74.08175], [4.60971, -74.08175], [4.60971, -74.08175], [3.43722, -76.5225], [6.25184, -75.56359], [4.60971, -74.08175], [4.60971, -74.08175], [4.60971, -74.08175], [4.60971, -74.08175], [4.60971, -74.08175], [4.60971, -74.08175], [4.60971, -74.08175], [4.60971, -74.08175], [3.43722, -76.5225], [4.60971, -74.08175], [4.60971, -74.08175], [4.60971, -74.08175], [4.60971, -74.08175], [10.96854, -74.78132], [4.60971, -74.08175], [11.24079, -74.19904], [3.43722, -76.5225], [6.25184, -75.56359], [3.43722, -76.5225], [4.60971, -74.08175], [6.25184, -75.56359], [5.06889, -75.51738], [10.39972, -75.51444], [10.39972, -75.51444], [4.60971, -74.08175], [4.60971, -74.08175], [4.60971, -74.08175], [3.43722, -76.5225], [4.60971, -74.08175], [4.60971, -74.08175], [3.43722, -76.5225], [6.25184, -75.56359], [4.60971, -74.08175], [3.43722, -76.5225], [6.25184, -75.56359], [6.25184, -75.56359], [10.96854, -74.78132], [4.60971, -74.08175], [4.60971, -74.08175], [4.60971, -74.08175], [6.25184, -75.56359], [4.60971, -74.08175], [4.60971, -74.08175], [6.25184, -75.56359], [4.81333, -75.69611], [3.43722, -76.5225], [4.60971, -74.08175], [4.60971, -74.08175], [10.96854, -74.78132], [4.60971, -74.08175], [4.60971, -74.08175], [6.25184, -75.56359], [4.60971, -74.08175], [4.60971, -74.08175], [7.12539, -73.1198], [4.60971, -74.08175], [4.60971, -74.08175], [4.60971, -74.08175], [10.39972, -75.51444], [4.60971, -74.08175], [4.60971, -74.08175], [4.60971, -74.08175], [6.25184, -75.56359], [4.60971, -74.08175], [6.25184, -75.56359], [11.54444, -72.90722], [4.81333, -75.69611], [10.39972, -75.51444], [6.25184, -75.56359], [6.25184, -75.56359], [3.43722, -76.5225], [4.60971, -74.08175], [4.60971, -74.08175], [6.25184, -75.56359], [4.60971, -74.08175], [11.54444, -72.90722], [4.60971, -74.08175], [4.60971, -74.08175], [4.81333, -75.69611], [4.60971, -74.08175], [4.60971, -74.08175], [3.43722, -76.5225], [3.43722, -76.5225], [7.12539, -73.1198], [11.54444, -72.90722], [3.43722, -76.5225], [4.60971, -74.08175], [7.89391, -72.50782], [3.43722, -76.5225], [4.60971, -74.08175], [4.60971, -74.08175], [6.25184, -75.56359], [6.25184, -75.56359], [6.25184, -75.56359], [10.96854, -74.78132], [4.60971, -74.08175], [11.24079, -74.19904], [4.60971, -74.08175], [4.60971, -74.08175], [4.60971, -74.08175], [6.25184, -75.56359], [7.89391, -72.50782], [4.60971, -74.08175], [4.60971, -74.08175], [4.81333, -75.69611], [6.25184, -75.56359], [11.24079, -74.19904], [4.60971, -74.08175], [4.60971, -74.08175], [4.53389, -75.68111], [4.60971, -74.08175], [4.60971, -74.08175], [7.89391, -72.50782], [4.57937, -74.21682], [4.60971, -74.08175], [7.12539, -73.1198], [4.81333, -75.69611], [3.43722, -76.5225], [11.24079, -74.19904], [4.60971, -74.08175], [10.96854, -74.78132], [3.43722, -76.5225], [4.60971, -74.08175], [4.60971, -74.08175], [4.81333, -75.69611], [6.25184, -75.56359], [4.60971, -74.08175], [6.25184, -75.56359], [4.60971, -74.08175], [2.9273, -75.28189], [4.81333, -75.69611], [6.25184, -75.56359], [6.25184, -75.56359], [4.60971, -74.08175], [4.60971, -74.08175], [4.60971, -74.08175], [4.60971, -74.08175], [10.96854, -74.78132], [4.60971, -74.08175], [4.60971, -74.08175], [3.43722, -76.5225], [6.25184, -75.56359], [5.06889, -75.51738], [10.39972, -75.51444], [4.81333, -75.69611], [10.96854, -74.78132], [4.60971, -74.08175], [4.60971, -74.08175], [4.60971, -74.08175], [4.60971, -74.08175], [6.25184, -75.56359], [4.60971, -74.08175], [6.25184, -75.56359], [3.43722, -76.5225], [4.60971, -74.08175], [6.25184, -75.56359], [4.60971, -74.08175], [4.60971, -74.08175], [1.21361, -77.28111], [3.43722, -76.5225], [6.25184, -75.56359], [4.81333, -75.69611], [4.81333, -75.69611], [3.43722, -76.5225], [6.25184, -75.56359], [4.60971, -74.08175], [4.60971, -74.08175], [4.60971, -74.08175], [4.60971, -74.08175], [4.60971, -74.08175], [6.25184, -75.56359], [3.43722, -76.5225], [4.60971, -74.08175], [3.43722, -76.5225], [4.60971, -74.08175], [11.24079, -74.19904], [6.25184, -75.56359], [4.60971, -74.08175], [10.96854, -74.78132], [4.60971, -74.08175], [4.60971, -74.08175], [6.25184, -75.56359], [4.60971, -74.08175], [4.60971, -74.08175], [6.25184, -75.56359], [6.25184, -75.56359], [6.25184, -75.56359], [4.60971, -74.08175], [3.43722, -76.5225], [5.06889, -75.51738], [4.60971, -74.08175], [4.60971, -74.08175], [11.24079, -74.19904], [4.60971, -74.08175], [4.60971, -74.08175], [10.39972, -75.51444], [6.25184, -75.56359], [10.39972, -75.51444], [6.25184, -75.56359], [3.43722, -76.5225], [11.24079, -74.19904], [3.43722, -76.5225], [4.60971, -74.08175], [4.60971, -74.08175], [6.25184, -75.56359], [6.25184, -75.56359], [4.60971, -74.08175], [4.60971, -74.08175], [4.81333, -75.69611], [6.25184, -75.56359], [6.25184, -75.56359], [4.60971, -74.08175], [4.60971, -74.08175], [6.25184, -75.56359], [4.60971, -74.08175], [11.54444, -72.90722], [6.25184, -75.56359], [6.25184, -75.56359], [4.60971, -74.08175], [4.60971, -74.08175], [10.39972, -75.51444], [7.89391, -72.50782], [4.60971, -74.08175], [6.25184, -75.56359], [4.60971, -74.08175], [4.60971, -74.08175], [4.60971, -74.08175], [6.25184, -75.56359], [3.43722, -76.5225], [4.60971, -74.08175], [4.60971, -74.08175], [4.60971, -74.08175], [4.60971, -74.08175], [7.12539, -73.1198], [4.60971, -74.08175], [3.43722, -76.5225], [6.25184, -75.56359], [4.142, -73.62664], [6.25184, -75.56359], [3.43722, -76.5225], [3.43722, -76.5225], [6.25184, -75.56359], [4.60971, -74.08175], [3.43722, -76.5225], [6.25184, -75.56359], [6.25184, -75.56359], [4.60971, -74.08175], [6.25184, -75.56359], [-4.21528, -69.94056], [4.60971, -74.08175], [4.60971, -74.08175], [4.60971, -74.08175], [4.60971, -74.08175], [6.25184, -75.56359], [4.60971, -74.08175], [4.60971, -74.08175], [4.60971, -74.08175], [4.60971, -74.08175], [3.43722, -76.5225], [3.43722, -76.5225], [3.43722, -76.5225], [6.25184, -75.56359], [3.43722, -76.5225], [4.60971, -74.08175], [3.43722, -76.5225], [4.53389, -75.68111], [4.60971, -74.08175], [3.43722, -76.5225], [10.39972, -75.51444], [6.25184, -75.56359], [6.25184, -75.56359], [6.25184, -75.56359], [4.60971, -74.08175], [4.60971, -74.08175], [4.60971, -74.08175], [4.60971, -74.08175], [3.43722, -76.5225], [6.25184, -75.56359], [4.60971, -74.08175], [3.43722, -76.5225], [4.60971, -74.08175], [6.25184, -75.56359], [6.25184, -75.56359], [6.25184, -75.56359], [4.60971, -74.08175], [4.60971, -74.08175], [4.60971, -74.08175], [10.96854, -74.78132], [10.39972, -75.51444], [4.60971, -74.08175], [4.60971, -74.08175], [3.43722, -76.5225], [4.60971, -74.08175], [6.25184, -75.56359], [6.25184, -75.56359], [6.25184, -75.56359], [6.25184, -75.56359], [4.60971, -74.08175], [-4.21528, -69.94056], [10.96854, -74.78132], [6.25184, -75.56359], [4.81333, -75.69611], [4.81333, -75.69611], [4.60971, -74.08175], [7.12539, -73.1198], [4.60971, -74.08175], [3.43722, -76.5225], [4.60971, -74.08175], [6.25184, -75.56359], [4.60971, -74.08175], [4.60971, -74.08175], [3.43722, -76.5225], [6.25184, -75.56359], [4.60971, -74.08175], [4.81333, -75.69611], [4.60971, -74.08175], [7.89391, -72.50782], [1.21361, -77.28111], [4.60971, -74.08175], [4.60971, -74.08175], [10.96854, -74.78132], [5.06889, -75.51738], [6.25184, -75.56359], [4.60971, -74.08175], [4.60971, -74.08175], [10.96854, -74.78132], [4.53389, -75.68111], [7.89391, -72.50782], [3.43722, -76.5225], [4.60971, -74.08175], [6.25184, -75.56359], [10.39972, -75.51444], [4.60971, -74.08175], [6.25184, -75.56359], [4.60971, -74.08175], [4.60971, -74.08175], [6.25184, -75.56359], [4.60971, -74.08175], [6.25184, -75.56359], [4.57937, -74.21682], [4.60971, -74.08175], [3.43722, -76.5225], [6.25184, -75.56359], [4.60971, -74.08175], [4.60971, -74.08175], [6.25184, -75.56359], [4.60971, -74.08175], [7.89391, -72.50782], [4.60971, -74.08175], [11.54444, -72.90722], [7.12539, -73.1198], [6.25184, -75.56359], [6.25184, -75.56359], [6.25184, -75.56359], [1.21361, -77.28111], [4.60971, -74.08175], [6.25184, -75.56359], [2.9273, -75.28189], [5.06889, -75.51738], [4.53389, -75.68111], [6.25184, -75.56359], [4.60971, -74.08175], [4.60971, -74.08175], [3.43722, -76.5225], [1.21361, -77.28111], [6.25184, -75.56359], [10.96854, -74.78132], [4.81333, -75.69611], [4.60971, -74.08175], [7.89391, -72.50782], [4.60971, -74.08175], [4.60971, -74.08175], [6.25184, -75.56359], [6.25184, -75.56359], [6.25184, -75.56359], [6.25184, -75.56359], [4.60971, -74.08175], [4.60971, -74.08175], [4.60971, -74.08175], [6.25184, -75.56359], [4.60971, -74.08175], [6.25184, -75.56359], [6.25184, -75.56359], [6.25184, -75.56359], [5.06889, -75.51738], [10.39972, -75.51444], [4.60971, -74.08175], [6.25184, -75.56359], [6.25184, -75.56359], [3.43722, -76.5225], [4.60971, -74.08175], [6.25184, -75.56359], [4.60971, -74.08175], [4.60971, -74.08175], [6.25184, -75.56359], [6.25184, -75.56359], [6.25184, -75.56359], [4.60971, -74.08175], [6.25184, -75.56359], [4.60971, -74.08175], [4.81333, -75.69611], [10.96854, -74.78132], [4.60971, -74.08175], [6.25184, -75.56359], [4.60971, -74.08175], [6.25184, -75.56359], [3.43722, -76.5225], [6.25184, -75.56359], [4.60971, -74.08175], [4.81333, -75.69611], [4.81333, -75.69611], [10.96854, -74.78132], [4.60971, -74.08175], [4.60971, -74.08175], [10.39972, -75.51444], [4.60971, -74.08175], [4.60971, -74.08175], [3.43722, -76.5225], [4.81333, -75.69611], [4.60971, -74.08175], [10.96854, -74.78132], [4.60971, -74.08175], [3.43722, -76.5225], [4.60971, -74.08175], [4.60971, -74.08175], [3.43722, -76.5225], [4.60971, -74.08175], [4.60971, -74.08175], [1.21361, -77.28111], [-4.21528, -69.94056], [11.54444, -72.90722], [4.60971, -74.08175], [11.54444, -72.90722], [4.60971, -74.08175], [10.96854, -74.78132], [4.60971, -74.08175], [3.43722, -76.5225], [4.60971, -74.08175], [3.43722, -76.5225], [4.60971, -74.08175], [4.81333, -75.69611], [4.60971, -74.08175], [6.25184, -75.56359], [6.25184, -75.56359], [6.25184, -75.56359], [7.89391, -72.50782], [4.60971, -74.08175], [4.60971, -74.08175], [4.60971, -74.08175], [4.60971, -74.08175], [6.25184, -75.56359], [7.89391, -72.50782], [6.25184, -75.56359], [4.60971, -74.08175], [4.60971, -74.08175], [6.25184, -75.56359], [6.25184, -75.56359], [3.43722, -76.5225], [4.60971, -74.08175], [6.25184, -75.56359], [6.25184, -75.56359], [3.43722, -76.5225], [4.60971, -74.08175], [6.25184, -75.56359], [3.43722, -76.5225], [6.25184, -75.56359], [4.60971, -74.08175], [6.25184, -75.56359], [4.81333, -75.69611], [4.60971, -74.08175], [10.96854, -74.78132], [7.89391, -72.50782], [6.25184, -75.56359], [4.60971, -74.08175], [4.53389, -75.68111], [4.60971, -74.08175], [6.25184, -75.56359], [10.39972, -75.51444], [4.60971, -74.08175], [6.25184, -75.56359], [4.60971, -74.08175], [4.60971, -74.08175], [4.60971, -74.08175], [6.25184, -75.56359], [3.43722, -76.5225], [3.43722, -76.5225], [4.60971, -74.08175], [4.60971, -74.08175], [4.81333, -75.69611], [4.60971, -74.08175], [4.60971, -74.08175], [4.60971, -74.08175], [7.12539, -73.1198], [3.43722, -76.5225], [4.60971, -74.08175], [3.43722, -76.5225], [4.60971, -74.08175], [6.25184, -75.56359], [4.60971, -74.08175], [4.60971, -74.08175], [4.60971, -74.08175], [7.89391, -72.50782], [4.60971, -74.08175], [4.60971, -74.08175], [4.60971, -74.08175], [4.60971, -74.08175], [6.25184, -75.56359], [4.81333, -75.69611], [11.54444, -72.90722], [4.60971, -74.08175], [3.43722, -76.5225], [3.43722, -76.5225], [4.60971, -74.08175], [6.25184, -75.56359], [4.60971, -74.08175], [6.25184, -75.56359], [4.60971, -74.08175], [6.25184, -75.56359], [6.25184, -75.56359], [4.60971, -74.08175], [4.60971, -74.08175], [6.25184, -75.56359], [4.60971, -74.08175], [10.39972, -75.51444], [6.25184, -75.56359], [1.21361, -77.28111], [10.39972, -75.51444], [4.60971, -74.08175], [4.60971, -74.08175], [6.25184, -75.56359], [10.96854, -74.78132], [4.60971, -74.08175], [4.60971, -74.08175], [4.81333, -75.69611], [10.96854, -74.78132], [4.60971, -74.08175], [4.60971, -74.08175], [6.25184, -75.56359], [3.43722, -76.5225], [4.60971, -74.08175], [6.25184, -75.56359], [4.60971, -74.08175], [4.60971, -74.08175], [6.25184, -75.56359], [4.81333, -75.69611], [7.12539, -73.1198], [4.81333, -75.69611], [6.25184, -75.56359], [4.60971, -74.08175], [6.25184, -75.56359], [6.25184, -75.56359], [3.43722, -76.5225], [6.25184, -75.56359], [4.60971, -74.08175], [4.60971, -74.08175], [4.60971, -74.08175], [6.25184, -75.56359], [6.25184, -75.56359], [3.43722, -76.5225], [6.25184, -75.56359], [6.25184, -75.56359], [4.60971, -74.08175], [4.60971, -74.08175], [4.60971, -74.08175], [4.60971, -74.08175], [3.43722, -76.5225], [6.25184, -75.56359], [3.43722, -76.5225], [-4.21528, -69.94056], [6.25184, -75.56359], [4.60971, -74.08175], [4.53389, -75.68111], [3.43722, -76.5225], [11.54444, -72.90722], [4.60971, -74.08175], [3.43722, -76.5225], [11.24079, -74.19904], [6.25184, -75.56359], [4.60971, -74.08175], [4.60971, -74.08175], [3.43722, -76.5225], [10.96854, -74.78132], [6.25184, -75.56359], [7.89391, -72.50782], [6.25184, -75.56359], [4.60971, -74.08175], [-4.21528, -69.94056], [4.60971, -74.08175], [6.25184, -75.56359], [6.25184, -75.56359], [3.43722, -76.5225], [4.60971, -74.08175], [6.25184, -75.56359], [4.60971, -74.08175], [4.60971, -74.08175], [4.60971, -74.08175], [10.39972, -75.51444], [6.25184, -75.56359], [6.25184, -75.56359], [4.81333, -75.69611], [4.60971, -74.08175], [3.43722, -76.5225], [4.60971, -74.08175], [4.60971, -74.08175], [4.60971, -74.08175], [6.25184, -75.56359], [4.60971, -74.08175], [6.25184, -75.56359], [3.43722, -76.5225], [6.25184, -75.56359], [4.60971, -74.08175], [3.43722, -76.5225], [6.25184, -75.56359], [4.60971, -74.08175], [6.25184, -75.56359], [10.39972, -75.51444], [4.60971, -74.08175], [4.60971, -74.08175], [7.89391, -72.50782], [6.25184, -75.56359], [4.60971, -74.08175], [4.60971, -74.08175], [4.60971, -74.08175], [3.43722, -76.5225], [6.25184, -75.56359], [4.60971, -74.08175], [4.60971, -74.08175], [4.60971, -74.08175], [3.43722, -76.5225], [4.60971, -74.08175], [4.60971, -74.08175], [3.43722, -76.5225], [4.81333, -75.69611], [10.39972, -75.51444], [4.60971, -74.08175], [4.81333, -75.69611], [4.60971, -74.08175], [4.60971, -74.08175], [4.60971, -74.08175], [6.25184, -75.56359], [6.25184, -75.56359], [4.60971, -74.08175], [4.81333, -75.69611], [4.60971, -74.08175], [4.60971, -74.08175], [10.96854, -74.78132], [3.43722, -76.5225], [3.43722, -76.5225], [4.60971, -74.08175], [10.39972, -75.51444], [6.25184, -75.56359], [4.81333, -75.69611], [4.60971, -74.08175], [3.43722, -76.5225], [10.39972, -75.51444], [6.25184, -75.56359], [4.60971, -74.08175], [3.43722, -76.5225], [-4.21528, -69.94056], [4.81333, -75.69611], [1.21361, -77.28111], [4.60971, -74.08175], [3.43722, -76.5225], [4.60971, -74.08175], [4.60971, -74.08175], [4.81333, -75.69611], [4.60971, -74.08175], [4.142, -73.62664], [4.60971, -74.08175], [4.60971, -74.08175], [4.60971, -74.08175], [4.60971, -74.08175], [6.25184, -75.56359], [4.60971, -74.08175], [3.43722, -76.5225], [6.25184, -75.56359], [3.8653, -67.9239], [3.43722, -76.5225], [6.25184, -75.56359], [10.96854, -74.78132], [6.25184, -75.56359], [4.60971, -74.08175], [4.60971, -74.08175], [7.12539, -73.1198], [11.54444, -72.90722], [10.96854, -74.78132], [4.81333, -75.69611], [6.25184, -75.56359], [4.60971, -74.08175], [-4.21528, -69.94056], [4.60971, -74.08175], [11.24079, -74.19904], [6.25184, -75.56359], [4.60971, -74.08175], [4.60971, -74.08175], [4.60971, -74.08175], [7.89391, -72.50782], [4.81333, -75.69611], [6.25184, -75.56359], [4.60971, -74.08175], [3.43722, -76.5225], [4.60971, -74.08175], [4.60971, -74.08175], [3.43722, -76.5225], [4.60971, -74.08175], [4.60971, -74.08175], [3.43722, -76.5225], [4.60971, -74.08175], [4.60971, -74.08175], [4.60971, -74.08175], [4.60971, -74.08175], [4.60971, -74.08175], [4.60971, -74.08175], [4.60971, -74.08175], [6.25184, -75.56359], [6.25184, -75.56359], [4.60971, -74.08175], [4.60971, -74.08175], [3.43722, -76.5225], [4.60971, -74.08175], [6.25184, -75.56359], [4.60971, -74.08175], [3.43722, -76.5225], [4.60971, -74.08175], [7.12539, -73.1198], [4.60971, -74.08175], [4.60971, -74.08175], [6.25184, -75.56359], [4.81333, -75.69611], [4.60971, -74.08175], [4.60971, -74.08175], [4.60971, -74.08175], [4.60971, -74.08175], [3.43722, -76.5225], [4.81333, -75.69611], [6.25184, -75.56359], [6.25184, -75.56359], [4.60971, -74.08175], [4.60971, -74.08175], [6.25184, -75.56359], [4.60971, -74.08175], [6.25184, -75.56359], [4.81333, -75.69611], [4.60971, -74.08175], [4.60971, -74.08175], [7.89391, -72.50782], [6.25184, -75.56359], [4.142, -73.62664], [3.43722, -76.5225], [4.60971, -74.08175], [6.25184, -75.56359], [4.60971, -74.08175], [6.25184, -75.56359], [4.60971, -74.08175], [4.60971, -74.08175], [6.25184, -75.56359], [11.54444, -72.90722], [6.25184, -75.56359], [4.60971, -74.08175], [6.25184, -75.56359], [11.24079, -74.19904], [3.43722, -76.5225], [6.25184, -75.56359], [6.25184, -75.56359], [6.25184, -75.56359], [4.53389, -75.68111], [6.25184, -75.56359], [10.96854, -74.78132], [3.43722, -76.5225], [10.96854, -74.78132], [4.60971, -74.08175], [4.60971, -74.08175], [4.60971, -74.08175], [6.25184, -75.56359], [10.96854, -74.78132], [4.60971, -74.08175], [7.12539, -73.1198], [4.60971, -74.08175], [4.60971, -74.08175], [4.60971, -74.08175], [6.25184, -75.56359], [4.81333, -75.69611], [-4.21528, -69.94056], [4.60971, -74.08175], [4.60971, -74.08175], [4.60971, -74.08175], [4.60971, -74.08175], [10.96854, -74.78132], [6.25184, -75.56359], [5.06889, -75.51738], [4.60971, -74.08175], [4.60971, -74.08175], [4.60971, -74.08175], [4.81333, -75.69611], [4.60971, -74.08175], [6.25184, -75.56359], [6.25184, -75.56359], [4.60971, -74.08175], [10.39972, -75.51444], [4.60971, -74.08175], [6.25184, -75.56359], [4.60971, -74.08175], [6.25184, -75.56359], [4.60971, -74.08175], [11.54444, -72.90722], [3.43722, -76.5225], [6.25184, -75.56359], [4.60971, -74.08175], [4.60971, -74.08175], [3.43722, -76.5225], [3.43722, -76.5225], [4.60971, -74.08175], [4.60971, -74.08175], [4.60971, -74.08175], [6.25184, -75.56359], [7.89391, -72.50782], [3.43722, -76.5225], [7.89391, -72.50782], [4.60971, -74.08175], [6.25184, -75.56359], [4.60971, -74.08175], [4.60971, -74.08175], [6.25184, -75.56359], [4.60971, -74.08175], [10.39972, -75.51444], [4.60971, -74.08175], [4.81333, -75.69611], [6.25184, -75.56359], [4.60971, -74.08175], [11.54444, -72.90722], [6.25184, -75.56359], [3.43722, -76.5225], [-4.21528, -69.94056], [11.54444, -72.90722], [3.43722, -76.5225], [6.25184, -75.56359], [4.81333, -75.69611], [4.81333, -75.69611], [4.60971, -74.08175], [4.60971, -74.08175], [10.96854, -74.78132], [10.96854, -74.78132], [4.60971, -74.08175], [3.43722, -76.5225], [4.60971, -74.08175], [10.39972, -75.51444], [4.60971, -74.08175], [4.60971, -74.08175], [4.60971, -74.08175], [3.43722, -76.5225], [6.25184, -75.56359], [10.96854, -74.78132], [3.43722, -76.5225], [4.60971, -74.08175], [4.60971, -74.08175], [4.60971, -74.08175], [4.60971, -74.08175], [6.25184, -75.56359], [3.43722, -76.5225], [4.81333, -75.69611], [6.25184, -75.56359], [4.81333, -75.69611], [6.25184, -75.56359], [3.43722, -76.5225], [4.60971, -74.08175], [4.60971, -74.08175], [4.60971, -74.08175], [4.60971, -74.08175], [3.43722, -76.5225], [6.25184, -75.56359], [4.60971, -74.08175], [6.25184, -75.56359], [3.43722, -76.5225], [6.25184, -75.56359], [4.60971, -74.08175], [6.25184, -75.56359], [6.25184, -75.56359], [3.43722, -76.5225], [6.25184, -75.56359], [4.60971, -74.08175], [4.60971, -74.08175], [4.60971, -74.08175], [4.57937, -74.21682], [4.60971, -74.08175], [4.60971, -74.08175], [4.60971, -74.08175], [4.60971, -74.08175], [4.60971, -74.08175], [4.60971, -74.08175], [10.96854, -74.78132], [3.43722, -76.5225], [7.89391, -72.50782], [6.25184, -75.56359], [6.25184, -75.56359], [4.60971, -74.08175], [6.25184, -75.56359], [4.60971, -74.08175], [4.60971, -74.08175], [4.60971, -74.08175], [4.60971, -74.08175], [6.25184, -75.56359], [6.25184, -75.56359], [4.60971, -74.08175], [4.81333, -75.69611], [6.25184, -75.56359], [-4.21528, -69.94056], [4.81333, -75.69611], [4.60971, -74.08175], [6.25184, -75.56359], [3.43722, -76.5225], [6.25184, -75.56359], [3.8653, -67.9239], [4.60971, -74.08175], [4.60971, -74.08175], [6.25184, -75.56359], [4.60971, -74.08175], [3.43722, -76.5225], [6.25184, -75.56359], [6.25184, -75.56359], [4.60971, -74.08175], [4.60971, -74.08175], [4.60971, -74.08175], [6.25184, -75.56359], [6.25184, -75.56359], [6.25184, -75.56359], [11.24079, -74.19904], [11.54444, -72.90722], [7.89391, -72.50782], [3.43722, -76.5225], [3.43722, -76.5225], [4.60971, -74.08175], [6.25184, -75.56359], [4.60971, -74.08175], [3.43722, -76.5225], [4.60971, -74.08175], [4.60971, -74.08175], [4.60971, -74.08175], [4.60971, -74.08175], [7.12539, -73.1198], [4.60971, -74.08175], [10.96854, -74.78132], [6.25184, -75.56359], [4.60971, -74.08175], [4.142, -73.62664], [10.39972, -75.51444], [4.142, -73.62664], [6.25184, -75.56359], [4.60971, -74.08175], [6.25184, -75.56359], [6.25184, -75.56359], [7.12539, -73.1198], [6.25184, -75.56359], [4.60971, -74.08175], [4.60971, -74.08175], [4.81333, -75.69611], [3.43722, -76.5225], [4.60971, -74.08175], [4.60971, -74.08175], [6.25184, -75.56359], [6.25184, -75.56359], [1.21361, -77.28111], [6.25184, -75.56359], [4.60971, -74.08175], [6.25184, -75.56359], [4.60971, -74.08175], [4.60971, -74.08175], [6.25184, -75.56359], [10.96854, -74.78132], [6.25184, -75.56359], [11.54444, -72.90722], [3.43722, -76.5225], [4.81333, -75.69611], [4.60971, -74.08175], [4.60971, -74.08175], [4.81333, -75.69611], [6.25184, -75.56359], [3.43722, -76.5225], [4.60971, -74.08175], [1.21361, -77.28111], [4.53389, -75.68111], [6.25184, -75.56359], [4.60971, -74.08175], [4.60971, -74.08175], [6.25184, -75.56359], [6.25184, -75.56359], [10.96854, -74.78132], [3.43722, -76.5225], [4.60971, -74.08175], [6.25184, -75.56359], [4.60971, -74.08175], [6.25184, -75.56359], [6.25184, -75.56359], [4.81333, -75.69611], [4.81333, -75.69611], [3.43722, -76.5225], [3.43722, -76.5225], [4.60971, -74.08175], [4.81333, -75.69611], [4.60971, -74.08175], [4.60971, -74.08175], [11.24079, -74.19904], [6.25184, -75.56359], [4.60971, -74.08175], [3.43722, -76.5225], [4.60971, -74.08175], [3.43722, -76.5225], [4.60971, -74.08175], [4.60971, -74.08175], [4.81333, -75.69611], [4.81333, -75.69611], [5.06889, -75.51738], [4.81333, -75.69611], [6.25184, -75.56359], [6.25184, -75.56359], [3.43722, -76.5225], [6.25184, -75.56359], [4.60971, -74.08175], [4.60971, -74.08175], [3.43722, -76.5225], [7.89391, -72.50782], [4.60971, -74.08175], [6.25184, -75.56359], [4.60971, -74.08175], [4.60971, -74.08175], [4.60971, -74.08175], [7.89391, -72.50782], [4.81333, -75.69611], [4.60971, -74.08175], [4.60971, -74.08175], [6.25184, -75.56359], [4.60971, -74.08175], [7.12539, -73.1198], [6.25184, -75.56359], [4.60971, -74.08175], [3.43722, -76.5225], [4.60971, -74.08175], [6.25184, -75.56359], [10.96854, -74.78132], [3.43722, -76.5225], [4.60971, -74.08175], [4.60971, -74.08175], [4.60971, -74.08175], [-4.21528, -69.94056], [11.54444, -72.90722], [4.60971, -74.08175], [6.25184, -75.56359], [3.43722, -76.5225], [4.81333, -75.69611], [6.25184, -75.56359], [4.60971, -74.08175], [3.43722, -76.5225], [11.24079, -74.19904], [4.60971, -74.08175], [6.25184, -75.56359], [4.60971, -74.08175], [6.25184, -75.56359], [6.25184, -75.56359], [4.60971, -74.08175], [10.96854, -74.78132], [4.60971, -74.08175], [4.60971, -74.08175], [3.43722, -76.5225], [6.25184, -75.56359], [4.60971, -74.08175], [10.39972, -75.51444], [4.60971, -74.08175], [4.60971, -74.08175], [4.60971, -74.08175], [10.39972, -75.51444], [4.60971, -74.08175], [3.43722, -76.5225], [4.60971, -74.08175], [4.60971, -74.08175], [6.25184, -75.56359], [6.25184, -75.56359], [6.25184, -75.56359], [7.89391, -72.50782], [3.43722, -76.5225], [4.81333, -75.69611], [3.43722, -76.5225], [4.60971, -74.08175], [1.21361, -77.28111], [4.60971, -74.08175], [4.60971, -74.08175], [3.43722, -76.5225], [6.25184, -75.56359], [4.60971, -74.08175], [4.60971, -74.08175], [4.60971, -74.08175], [4.60971, -74.08175], [6.25184, -75.56359], [6.25184, -75.56359], [4.81333, -75.69611], [-4.21528, -69.94056], [4.60971, -74.08175], [3.43722, -76.5225], [4.60971, -74.08175], [3.43722, -76.5225], [3.43722, -76.5225], [11.24079, -74.19904], [3.43722, -76.5225], [4.60971, -74.08175], [6.25184, -75.56359], [3.43722, -76.5225], [4.60971, -74.08175], [-4.21528, -69.94056], [4.60971, -74.08175], [6.25184, -75.56359], [3.43722, -76.5225], [4.60971, -74.08175], [4.60971, -74.08175], [4.60971, -74.08175], [4.60971, -74.08175], [4.60971, -74.08175], [4.60971, -74.08175], [4.60971, -74.08175], [6.25184, -75.56359], [6.25184, -75.56359], [4.81333, -75.69611], [4.81333, -75.69611], [4.60971, -74.08175], [4.60971, -74.08175], [6.25184, -75.56359], [3.43722, -76.5225], [6.25184, -75.56359], [4.60971, -74.08175], [11.24079, -74.19904], [4.60971, -74.08175], [4.60971, -74.08175], [4.60971, -74.08175], [11.24079, -74.19904], [4.60971, -74.08175], [10.39972, -75.51444], [7.12539, -73.1198], [3.43722, -76.5225], [4.60971, -74.08175], [4.60971, -74.08175], [3.43722, -76.5225], [4.60971, -74.08175], [7.89391, -72.50782], [3.43722, -76.5225], [7.89391, -72.50782], [3.43722, -76.5225], [4.60971, -74.08175], [6.25184, -75.56359], [4.60971, -74.08175], [4.60971, -74.08175], [4.60971, -74.08175], [6.25184, -75.56359], [3.43722, -76.5225], [6.25184, -75.56359], [4.81333, -75.69611], [6.25184, -75.56359], [6.25184, -75.56359], [3.43722, -76.5225], [10.96854, -74.78132], [4.60971, -74.08175], [4.60971, -74.08175], [6.25184, -75.56359], [3.43722, -76.5225], [4.60971, -74.08175], [4.60971, -74.08175], [6.25184, -75.56359], [3.43722, -76.5225], [6.25184, -75.56359], [4.60971, -74.08175], [4.60971, -74.08175], [4.60971, -74.08175], [4.60971, -74.08175], [6.25184, -75.56359], [4.81333, -75.69611], [11.54444, -72.90722], [3.43722, -76.5225], [4.60971, -74.08175], [4.60971, -74.08175], [6.25184, -75.56359], [10.96854, -74.78132], [3.43722, -76.5225], [4.60971, -74.08175], [10.96854, -74.78132], [4.60971, -74.08175], [6.25184, -75.56359], [6.25184, -75.56359], [-4.21528, -69.94056], [6.25184, -75.56359], [6.25184, -75.56359], [6.25184, -75.56359], [6.25184, -75.56359], [6.25184, -75.56359], [6.25184, -75.56359], [4.60971, -74.08175], [4.60971, -74.08175], [4.60971, -74.08175], [4.60971, -74.08175], [4.60971, -74.08175], [3.43722, -76.5225], [3.43722, -76.5225], [-4.21528, -69.94056], [3.43722, -76.5225], [6.25184, -75.56359], [4.60971, -74.08175], [4.60971, -74.08175], [4.60971, -74.08175], [7.89391, -72.50782], [4.81333, -75.69611], [4.60971, -74.08175], [4.60971, -74.08175], [4.60971, -74.08175], [4.60971, -74.08175], [3.43722, -76.5225], [10.96854, -74.78132], [4.60971, -74.08175], [4.60971, -74.08175], [3.43722, -76.5225], [10.39972, -75.51444], [4.60971, -74.08175], [4.60971, -74.08175], [3.43722, -76.5225], [6.25184, -75.56359], [6.25184, -75.56359], [4.60971, -74.08175], [6.25184, -75.56359], [6.25184, -75.56359], [4.60971, -74.08175], [3.43722, -76.5225], [3.43722, -76.5225], [4.60971, -74.08175], [4.60971, -74.08175], [4.60971, -74.08175], [6.25184, -75.56359], [4.60971, -74.08175], [4.81333, -75.69611], [6.25184, -75.56359], [3.43722, -76.5225], [4.60971, -74.08175], [6.25184, -75.56359], [4.60971, -74.08175], [4.60971, -74.08175], [4.60971, -74.08175], [3.43722, -76.5225], [6.25184, -75.56359], [10.39972, -75.51444], [4.60971, -74.08175], [6.25184, -75.56359], [3.43722, -76.5225], [4.60971, -74.08175], [10.96854, -74.78132], [4.60971, -74.08175], [7.89391, -72.50782], [4.81333, -75.69611], [4.60971, -74.08175], [4.60971, -74.08175], [4.60971, -74.08175], [4.60971, -74.08175], [4.60971, -74.08175], [4.60971, -74.08175], [4.60971, -74.08175], [3.43722, -76.5225], [4.60971, -74.08175], [3.43722, -76.5225], [4.60971, -74.08175], [4.60971, -74.08175], [4.81333, -75.69611], [11.54444, -72.90722], [11.54444, -72.90722], [6.25184, -75.56359], [6.25184, -75.56359], [4.60971, -74.08175], [6.25184, -75.56359], [4.60971, -74.08175], [4.60971, -74.08175], [6.25184, -75.56359], [5.06889, -75.51738], [4.60971, -74.08175], [4.81333, -75.69611], [6.25184, -75.56359], [4.60971, -74.08175], [4.60971, -74.08175], [4.60971, -74.08175], [4.60971, -74.08175], [3.43722, -76.5225], [5.06889, -75.51738], [4.81333, -75.69611], [4.60971, -74.08175], [10.96854, -74.78132], [4.60971, -74.08175], [4.81333, -75.69611], [6.25184, -75.56359], [6.25184, -75.56359], [10.39972, -75.51444], [4.60971, -74.08175], [3.43722, -76.5225], [-4.21528, -69.94056], [4.60971, -74.08175], [6.25184, -75.56359], [4.60971, -74.08175], [6.25184, -75.56359], [4.142, -73.62664], [4.60971, -74.08175], [4.60971, -74.08175], [4.60971, -74.08175], [4.60971, -74.08175], [4.60971, -74.08175], [7.12539, -73.1198], [3.43722, -76.5225], [4.60971, -74.08175], [4.60971, -74.08175], [6.25184, -75.56359], [6.25184, -75.56359], [4.60971, -74.08175], [4.60971, -74.08175], [6.25184, -75.56359], [3.8653, -67.9239], [4.60971, -74.08175], [6.25184, -75.56359], [4.60971, -74.08175], [7.89391, -72.50782], [4.60971, -74.08175], [-4.21528, -69.94056], [4.81333, -75.69611], [4.60971, -74.08175], [6.25184, -75.56359], [4.60971, -74.08175], [4.60971, -74.08175], [6.25184, -75.56359], [4.81333, -75.69611], [4.60971, -74.08175], [10.39972, -75.51444], [3.43722, -76.5225], [6.25184, -75.56359], [6.25184, -75.56359], [6.25184, -75.56359], [6.25184, -75.56359], [4.60971, -74.08175], [4.60971, -74.08175], [4.60971, -74.08175], [6.25184, -75.56359], [6.25184, -75.56359], [6.25184, -75.56359], [10.39972, -75.51444], [4.60971, -74.08175], [7.12539, -73.1198], [4.60971, -74.08175], [3.43722, -76.5225], [4.60971, -74.08175], [4.60971, -74.08175], [4.81333, -75.69611], [6.25184, -75.56359], [6.25184, -75.56359], [11.24079, -74.19904], [5.06889, -75.51738], [4.60971, -74.08175], [6.25184, -75.56359], [6.25184, -75.56359], [4.60971, -74.08175], [6.25184, -75.56359], [6.25184, -75.56359], [4.81333, -75.69611], [4.60971, -74.08175], [4.81333, -75.69611], [4.60971, -74.08175], [4.60971, -74.08175], [4.81333, -75.69611], [4.60971, -74.08175], [6.25184, -75.56359], [4.60971, -74.08175], [4.60971, -74.08175], [4.81333, -75.69611], [4.60971, -74.08175], [4.60971, -74.08175], [10.96854, -74.78132], [3.43722, -76.5225], [3.43722, -76.5225], [4.60971, -74.08175], [4.60971, -74.08175], [4.60971, -74.08175], [4.81333, -75.69611], [6.25184, -75.56359], [6.25184, -75.56359], [4.60971, -74.08175], [4.60971, -74.08175], [3.43722, -76.5225], [4.60971, -74.08175], [4.60971, -74.08175], [4.60971, -74.08175], [6.25184, -75.56359], [5.06889, -75.51738], [6.25184, -75.56359], [4.60971, -74.08175], [3.43722, -76.5225], [-4.21528, -69.94056], [6.25184, -75.56359], [4.60971, -74.08175], [6.25184, -75.56359], [4.60971, -74.08175], [7.12539, -73.1198], [6.25184, -75.56359], [4.60971, -74.08175], [3.43722, -76.5225], [4.60971, -74.08175], [4.81333, -75.69611], [10.39972, -75.51444], [4.60971, -74.08175], [4.81333, -75.69611], [6.25184, -75.56359], [3.8653, -67.9239], [4.60971, -74.08175], [4.60971, -74.08175], [3.43722, -76.5225], [6.25184, -75.56359], [4.60971, -74.08175], [3.43722, -76.5225], [6.25184, -75.56359], [6.25184, -75.56359], [4.60971, -74.08175], [4.60971, -74.08175], [-4.21528, -69.94056], [6.25184, -75.56359], [7.12539, -73.1198], [4.60971, -74.08175], [4.60971, -74.08175], [4.60971, -74.08175], [4.81333, -75.69611], [6.25184, -75.56359], [4.60971, -74.08175], [6.25184, -75.56359], [4.81333, -75.69611], [6.25184, -75.56359], [7.89391, -72.50782], [10.39972, -75.51444], [4.60971, -74.08175], [6.25184, -75.56359], [6.25184, -75.56359], [6.25184, -75.56359], [4.60971, -74.08175], [4.60971, -74.08175], [4.60971, -74.08175], [4.60971, -74.08175], [7.89391, -72.50782], [4.60971, -74.08175], [4.60971, -74.08175], [4.60971, -74.08175], [4.60971, -74.08175], [3.43722, -76.5225], [3.43722, -76.5225], [3.43722, -76.5225], [4.60971, -74.08175], [6.25184, -75.56359], [6.25184, -75.56359], [4.60971, -74.08175], [6.25184, -75.56359], [7.89391, -72.50782], [4.60971, -74.08175], [6.25184, -75.56359], [4.60971, -74.08175], [4.81333, -75.69611], [4.60971, -74.08175], [10.39972, -75.51444], [4.60971, -74.08175], [6.25184, -75.56359], [4.60971, -74.08175], [4.60971, -74.08175], [4.60971, -74.08175], [4.60971, -74.08175], [4.60971, -74.08175], [4.60971, -74.08175], [-4.21528, -69.94056], [6.25184, -75.56359], [6.25184, -75.56359], [4.60971, -74.08175], [4.60971, -74.08175], [4.60971, -74.08175], [4.60971, -74.08175], [6.25184, -75.56359], [3.43722, -76.5225], [1.21361, -77.28111], [6.25184, -75.56359], [4.81333, -75.69611], [6.25184, -75.56359], [4.60971, -74.08175], [4.60971, -74.08175], [7.89391, -72.50782], [10.96854, -74.78132], [4.60971, -74.08175], [11.24079, -74.19904], [11.24079, -74.19904], [7.12539, -73.1198], [7.89391, -72.50782], [4.81333, -75.69611], [4.60971, -74.08175], [3.43722, -76.5225], [4.60971, -74.08175], [4.60971, -74.08175], [4.60971, -74.08175], [4.60971, -74.08175], [6.25184, -75.56359], [3.43722, -76.5225], [4.60971, -74.08175], [4.60971, -74.08175], [4.60971, -74.08175], [6.25184, -75.56359], [4.60971, -74.08175], [4.60971, -74.08175], [4.60971, -74.08175], [4.60971, -74.08175], [3.43722, -76.5225], [6.25184, -75.56359], [4.81333, -75.69611], [6.25184, -75.56359], [4.60971, -74.08175], [6.25184, -75.56359], [11.54444, -72.90722], [6.25184, -75.56359], [4.81333, -75.69611], [3.43722, -76.5225], [3.43722, -76.5225], [-4.21528, -69.94056], [6.25184, -75.56359], [4.53389, -75.68111], [6.25184, -75.56359], [4.60971, -74.08175], [4.60971, -74.08175], [4.60971, -74.08175], [6.25184, -75.56359], [3.43722, -76.5225], [11.54444, -72.90722], [6.25184, -75.56359], [4.81333, -75.69611], [4.60971, -74.08175], [3.43722, -76.5225], [4.60971, -74.08175], [4.60971, -74.08175], [3.43722, -76.5225], [4.60971, -74.08175], [7.12539, -73.1198], [6.25184, -75.56359], [6.25184, -75.56359], [4.60971, -74.08175], [3.43722, -76.5225], [4.60971, -74.08175], [4.60971, -74.08175], [-4.21528, -69.94056], [6.25184, -75.56359], [10.96854, -74.78132], [4.60971, -74.08175], [4.60971, -74.08175], [4.60971, -74.08175], [4.60971, -74.08175], [6.25184, -75.56359], [4.60971, -74.08175], [6.25184, -75.56359], [3.43722, -76.5225], [3.43722, -76.5225], [6.25184, -75.56359], [7.89391, -72.50782], [6.25184, -75.56359], [4.60971, -74.08175], [10.96854, -74.78132], [4.60971, -74.08175], [6.25184, -75.56359], [4.60971, -74.08175], [4.60971, -74.08175], [4.60971, -74.08175], [4.60971, -74.08175], [4.81333, -75.69611], [7.89391, -72.50782], [6.25184, -75.56359], [11.54444, -72.90722], [3.43722, -76.5225], [3.43722, -76.5225], [4.60971, -74.08175], [4.60971, -74.08175], [3.43722, -76.5225], [4.60971, -74.08175], [4.60971, -74.08175], [4.60971, -74.08175], [4.60971, -74.08175], [4.60971, -74.08175], [7.89391, -72.50782], [4.60971, -74.08175], [4.60971, -74.08175], [6.25184, -75.56359], [4.60971, -74.08175], [11.24079, -74.19904], [4.60971, -74.08175], [4.81333, -75.69611], [4.60971, -74.08175], [4.60971, -74.08175], [11.54444, -72.90722], [3.43722, -76.5225], [4.60971, -74.08175], [4.60971, -74.08175], [4.60971, -74.08175], [4.57937, -74.21682], [10.96854, -74.78132], [4.60971, -74.08175], [3.43722, -76.5225], [3.43722, -76.5225], [4.60971, -74.08175], [4.60971, -74.08175], [4.60971, -74.08175], [4.81333, -75.69611], [6.25184, -75.56359], [6.25184, -75.56359], [4.60971, -74.08175], [4.60971, -74.08175], [4.60971, -74.08175], [4.60971, -74.08175], [4.60971, -74.08175], [4.81333, -75.69611], [7.12539, -73.1198], [4.60971, -74.08175], [6.25184, -75.56359], [6.25184, -75.56359], [4.60971, -74.08175], [4.60971, -74.08175], [4.81333, -75.69611], [10.96854, -74.78132], [4.81333, -75.69611], [4.60971, -74.08175], [4.60971, -74.08175], [11.24079, -74.19904], [10.96854, -74.78132], [3.43722, -76.5225], [4.60971, -74.08175], [7.89391, -72.50782], [4.60971, -74.08175], [11.54444, -72.90722], [4.60971, -74.08175], [3.43722, -76.5225], [10.96854, -74.78132], [6.25184, -75.56359], [4.81333, -75.69611], [3.43722, -76.5225], [4.60971, -74.08175], [4.81333, -75.69611], [4.60971, -74.08175], [6.25184, -75.56359], [4.60971, -74.08175], [4.81333, -75.69611], [1.21361, -77.28111], [6.25184, -75.56359], [6.25184, -75.56359], [6.25184, -75.56359], [10.96854, -74.78132], [4.60971, -74.08175], [6.25184, -75.56359], [6.25184, -75.56359], [4.142, -73.62664], [4.60971, -74.08175], [6.25184, -75.56359], [6.25184, -75.56359], [4.60971, -74.08175], [6.25184, -75.56359], [4.60971, -74.08175], [6.25184, -75.56359], [4.60971, -74.08175], [4.60971, -74.08175], [4.60971, -74.08175], [6.25184, -75.56359], [6.25184, -75.56359], [6.25184, -75.56359], [4.60971, -74.08175], [4.60971, -74.08175], [4.60971, -74.08175], [3.43722, -76.5225], [6.25184, -75.56359], [6.25184, -75.56359], [4.60971, -74.08175], [1.21361, -77.28111], [4.60971, -74.08175], [4.60971, -74.08175], [6.25184, -75.56359], [4.60971, -74.08175], [11.24079, -74.19904], [4.60971, -74.08175], [4.60971, -74.08175], [4.81333, -75.69611], [2.9273, -75.28189], [4.60971, -74.08175], [4.60971, -74.08175], [7.89391, -72.50782], [4.60971, -74.08175], [10.39972, -75.51444], [6.25184, -75.56359], [3.43722, -76.5225], [6.25184, -75.56359], [6.25184, -75.56359], [3.43722, -76.5225], [4.60971, -74.08175], [4.60971, -74.08175], [6.25184, -75.56359], [11.54444, -72.90722], [3.43722, -76.5225], [4.60971, -74.08175], [4.60971, -74.08175], [4.60971, -74.08175], [3.43722, -76.5225], [-4.21528, -69.94056], [6.25184, -75.56359], [4.81333, -75.69611], [4.60971, -74.08175], [6.25184, -75.56359], [4.60971, -74.08175], [6.25184, -75.56359], [10.96854, -74.78132], [6.25184, -75.56359], [3.43722, -76.5225], [3.43722, -76.5225], [3.43722, -76.5225], [4.60971, -74.08175], [4.60971, -74.08175], [6.25184, -75.56359], [4.81333, -75.69611], [10.39972, -75.51444], [4.81333, -75.69611], [6.25184, -75.56359], [4.60971, -74.08175], [4.60971, -74.08175], [4.81333, -75.69611], [-4.21528, -69.94056], [4.60971, -74.08175], [4.81333, -75.69611], [6.25184, -75.56359], [3.43722, -76.5225], [4.60971, -74.08175], [4.81333, -75.69611], [4.60971, -74.08175], [10.96854, -74.78132], [4.60971, -74.08175], [4.60971, -74.08175], [4.60971, -74.08175], [4.60971, -74.08175], [4.60971, -74.08175], [4.60971, -74.08175], [6.25184, -75.56359], [4.60971, -74.08175], [6.25184, -75.56359], [3.43722, -76.5225], [6.25184, -75.56359], [3.43722, -76.5225], [4.60971, -74.08175], [6.25184, -75.56359], [4.60971, -74.08175], [4.60971, -74.08175], [10.96854, -74.78132], [11.24079, -74.19904], [6.25184, -75.56359], [4.60971, -74.08175], [4.81333, -75.69611], [3.43722, -76.5225], [10.96854, -74.78132], [6.25184, -75.56359], [3.43722, -76.5225], [10.39972, -75.51444], [6.25184, -75.56359], [10.96854, -74.78132], [3.43722, -76.5225], [11.24079, -74.19904], [2.9273, -75.28189], [4.60971, -74.08175], [3.43722, -76.5225], [3.43722, -76.5225], [6.25184, -75.56359], [10.39972, -75.51444], [4.57937, -74.21682], [4.60971, -74.08175], [3.43722, -76.5225], [4.60971, -74.08175], [10.96854, -74.78132], [7.89391, -72.50782], [4.60971, -74.08175], [6.25184, -75.56359], [4.60971, -74.08175], [4.60971, -74.08175], [6.25184, -75.56359], [7.89391, -72.50782], [6.25184, -75.56359], [4.60971, -74.08175], [10.96854, -74.78132], [6.25184, -75.56359], [3.43722, -76.5225], [7.89391, -72.50782], [1.21361, -77.28111], [6.25184, -75.56359], [6.25184, -75.56359], [4.60971, -74.08175], [3.43722, -76.5225], [6.25184, -75.56359], [4.60971, -74.08175], [4.60971, -74.08175], [11.54444, -72.90722], [11.24079, -74.19904], [6.25184, -75.56359], [4.60971, -74.08175], [3.43722, -76.5225], [6.25184, -75.56359], [6.25184, -75.56359], [7.12539, -73.1198], [4.60971, -74.08175], [3.43722, -76.5225], [3.43722, -76.5225], [6.25184, -75.56359], [6.25184, -75.56359], [4.60971, -74.08175], [4.53389, -75.68111], [4.81333, -75.69611], [3.43722, -76.5225], [4.60971, -74.08175], [4.60971, -74.08175], [4.60971, -74.08175], [4.60971, -74.08175], [-4.21528, -69.94056], [11.54444, -72.90722], [3.43722, -76.5225], [10.96854, -74.78132], [6.25184, -75.56359], [4.60971, -74.08175], [4.60971, -74.08175], [6.25184, -75.56359], [4.60971, -74.08175], [4.60971, -74.08175], [4.60971, -74.08175], [3.43722, -76.5225], [4.60971, -74.08175], [3.43722, -76.5225], [4.81333, -75.69611], [4.53389, -75.68111], [6.25184, -75.56359], [4.60971, -74.08175], [3.43722, -76.5225], [6.25184, -75.56359], [4.60971, -74.08175], [4.53389, -75.68111], [-4.21528, -69.94056], [4.60971, -74.08175], [3.43722, -76.5225], [6.25184, -75.56359], [6.25184, -75.56359], [4.60971, -74.08175], [3.43722, -76.5225], [6.25184, -75.56359], [10.96854, -74.78132], [3.43722, -76.5225], [6.25184, -75.56359], [10.39972, -75.51444], [6.25184, -75.56359], [7.89391, -72.50782], [4.60971, -74.08175], [4.81333, -75.69611], [6.25184, -75.56359], [4.60971, -74.08175], [11.54444, -72.90722], [11.54444, -72.90722], [4.60971, -74.08175], [6.25184, -75.56359], [6.25184, -75.56359], [6.25184, -75.56359], [6.25184, -75.56359], [4.60971, -74.08175], [4.60971, -74.08175], [10.96854, -74.78132], [7.12539, -73.1198], [4.60971, -74.08175], [4.60971, -74.08175], [11.54444, -72.90722], [4.60971, -74.08175], [4.60971, -74.08175], [7.89391, -72.50782], [3.43722, -76.5225], [4.60971, -74.08175], [6.25184, -75.56359], [3.43722, -76.5225], [6.25184, -75.56359], [11.54444, -72.90722], [1.21361, -77.28111], [7.12539, -73.1198], [6.25184, -75.56359], [4.60971, -74.08175], [3.43722, -76.5225], [3.43722, -76.5225], [4.60971, -74.08175], [-4.21528, -69.94056], [4.81333, -75.69611], [7.12539, -73.1198], [4.60971, -74.08175], [6.25184, -75.56359], [4.60971, -74.08175], [6.25184, -75.56359], [4.60971, -74.08175], [4.60971, -74.08175], [6.25184, -75.56359], [10.96854, -74.78132], [4.60971, -74.08175], [6.25184, -75.56359], [4.60971, -74.08175], [4.60971, -74.08175], [4.60971, -74.08175], [10.39972, -75.51444], [4.81333, -75.69611], [-4.21528, -69.94056], [4.81333, -75.69611], [6.25184, -75.56359], [3.43722, -76.5225], [4.60971, -74.08175], [6.25184, -75.56359], [4.60971, -74.08175], [11.24079, -74.19904], [11.54444, -72.90722], [3.43722, -76.5225], [4.60971, -74.08175], [10.96854, -74.78132], [7.89391, -72.50782], [11.54444, -72.90722], [6.25184, -75.56359], [3.43722, -76.5225], [6.25184, -75.56359], [10.96854, -74.78132], [4.60971, -74.08175], [6.25184, -75.56359], [2.9273, -75.28189], [4.60971, -74.08175], [4.60971, -74.08175], [4.60971, -74.08175], [4.60971, -74.08175], [4.60971, -74.08175], [6.25184, -75.56359], [6.25184, -75.56359], [4.81333, -75.69611], [6.25184, -75.56359], [4.60971, -74.08175], [5.06889, -75.51738], [4.60971, -74.08175], [6.25184, -75.56359], [4.60971, -74.08175], [3.43722, -76.5225], [3.43722, -76.5225], [4.60971, -74.08175], [10.46314, -73.25322], [4.60971, -74.08175], [4.81333, -75.69611], [4.81333, -75.69611], [6.25184, -75.56359], [6.25184, -75.56359], [4.81333, -75.69611], [4.60971, -74.08175], [6.25184, -75.56359], [1.21361, -77.28111], [3.43722, -76.5225], [6.25184, -75.56359], [3.43722, -76.5225], [11.24079, -74.19904], [3.43722, -76.5225], [1.21361, -77.28111], [6.25184, -75.56359], [6.25184, -75.56359], [10.96854, -74.78132], [10.96854, -74.78132], [6.25184, -75.56359], [3.43722, -76.5225], [4.60971, -74.08175], [4.60971, -74.08175], [4.60971, -74.08175], [-4.21528, -69.94056], [10.39972, -75.51444], [4.60971, -74.08175], [4.60971, -74.08175], [7.89391, -72.50782], [4.60971, -74.08175], [11.24079, -74.19904], [6.25184, -75.56359], [10.96854, -74.78132], [4.60971, -74.08175], [11.54444, -72.90722], [4.60971, -74.08175], [4.60971, -74.08175], [-4.21528, -69.94056], [10.39972, -75.51444], [6.25184, -75.56359], [6.25184, -75.56359], [4.60971, -74.08175], [6.25184, -75.56359], [5.06889, -75.51738], [3.43722, -76.5225], [4.60971, -74.08175], [4.60971, -74.08175], [6.25184, -75.56359], [4.60971, -74.08175], [4.60971, -74.08175], [4.60971, -74.08175], [6.25184, -75.56359], [11.54444, -72.90722], [6.25184, -75.56359], [6.25184, -75.56359], [6.25184, -75.56359], [4.60971, -74.08175], [4.60971, -74.08175], [4.60971, -74.08175], [6.25184, -75.56359], [6.25184, -75.56359], [6.25184, -75.56359], [4.60971, -74.08175], [3.43722, -76.5225], [4.60971, -74.08175], [4.60971, -74.08175], [3.43722, -76.5225], [4.60971, -74.08175], [3.43722, -76.5225], [6.25184, -75.56359], [4.60971, -74.08175], [6.25184, -75.56359], [4.60971, -74.08175], [3.43722, -76.5225], [3.43722, -76.5225], [4.60971, -74.08175], [6.25184, -75.56359], [6.25184, -75.56359], [6.25184, -75.56359], [3.43722, -76.5225], [10.39972, -75.51444], [4.60971, -74.08175], [4.81333, -75.69611], [6.25184, -75.56359], [4.60971, -74.08175], [1.21361, -77.28111], [4.60971, -74.08175], [7.89391, -72.50782], [3.43722, -76.5225], [11.54444, -72.90722], [4.60971, -74.08175], [7.89391, -72.50782], [6.25184, -75.56359], [6.25184, -75.56359], [6.25184, -75.56359], [6.25184, -75.56359], [4.60971, -74.08175], [6.25184, -75.56359], [4.60971, -74.08175], [4.60971, -74.08175], [6.25184, -75.56359], [6.25184, -75.56359], [3.43722, -76.5225], [4.60971, -74.08175], [4.60971, -74.08175], [6.25184, -75.56359], [4.60971, -74.08175], [4.60971, -74.08175], [6.25184, -75.56359], [3.43722, -76.5225], [6.25184, -75.56359], [6.25184, -75.56359], [6.25184, -75.56359], [4.60971, -74.08175], [3.43722, -76.5225], [10.96854, -74.78132], [4.81333, -75.69611], [4.81333, -75.69611], [6.25184, -75.56359], [4.60971, -74.08175], [6.25184, -75.56359], [4.60971, -74.08175], [4.142, -73.62664], [4.60971, -74.08175], [4.60971, -74.08175], [4.60971, -74.08175], [4.60971, -74.08175], [3.43722, -76.5225], [10.39972, -75.51444], [4.60971, -74.08175], [4.60971, -74.08175], [4.60971, -74.08175], [10.96854, -74.78132], [4.81333, -75.69611], [3.43722, -76.5225], [4.60971, -74.08175], [4.60971, -74.08175], [11.54444, -72.90722], [4.60971, -74.08175], [4.60971, -74.08175], [3.43722, -76.5225], [4.60971, -74.08175], [4.60971, -74.08175], [6.25184, -75.56359], [4.60971, -74.08175], [4.60971, -74.08175], [3.43722, -76.5225], [4.60971, -74.08175], [10.96854, -74.78132], [3.43722, -76.5225], [4.60971, -74.08175], [4.60971, -74.08175], [4.60971, -74.08175], [4.60971, -74.08175], [4.60971, -74.08175], [6.25184, -75.56359], [4.60971, -74.08175], [4.81333, -75.69611], [4.60971, -74.08175], [11.54444, -72.90722], [6.25184, -75.56359], [4.60971, -74.08175], [4.60971, -74.08175], [4.60971, -74.08175], [6.25184, -75.56359], [4.60971, -74.08175], [3.43722, -76.5225], [4.53389, -75.68111], [4.142, -73.62664], [3.43722, -76.5225], [6.25184, -75.56359], [6.25184, -75.56359], [6.25184, -75.56359], [3.43722, -76.5225], [4.60971, -74.08175], [6.25184, -75.56359], [6.25184, -75.56359], [10.96854, -74.78132], [1.21361, -77.28111], [6.25184, -75.56359], [-4.21528, -69.94056], [4.60971, -74.08175], [6.25184, -75.56359], [4.81333, -75.69611], [4.60971, -74.08175], [11.24079, -74.19904], [6.25184, -75.56359], [6.25184, -75.56359], [4.81333, -75.69611], [4.60971, -74.08175], [4.60971, -74.08175], [4.60971, -74.08175], [4.60971, -74.08175], [4.81333, -75.69611], [4.60971, -74.08175], [6.25184, -75.56359], [6.25184, -75.56359], [6.25184, -75.56359], [4.60971, -74.08175], [4.60971, -74.08175], [6.25184, -75.56359], [6.25184, -75.56359], [4.60971, -74.08175], [6.25184, -75.56359], [4.60971, -74.08175], [6.25184, -75.56359], [4.60971, -74.08175], [3.43722, -76.5225], [1.21361, -77.28111], [3.43722, -76.5225]],\n",
              "                {\n",
              "  &quot;minOpacity&quot;: 0.5,\n",
              "  &quot;maxZoom&quot;: 18,\n",
              "  &quot;radius&quot;: 25,\n",
              "  &quot;blur&quot;: 15,\n",
              "}\n",
              "            );\n",
              "        \n",
              "    \n",
              "            heat_map_5f80ef559272e9c6577201da3b9edd31.addTo(map_c86affc8c209ce282e8a446f03951c95);\n",
              "        \n",
              "&lt;/script&gt;\n",
              "&lt;/html&gt;\" style=\"position:absolute;width:100%;height:100%;left:0;top:0;border:none !important;\" allowfullscreen webkitallowfullscreen mozallowfullscreen></iframe></div></div>"
            ]
          },
          "metadata": {}
        },
        {
          "output_type": "execute_result",
          "data": {
            "text/plain": [
              "\"\\n# Calculo Desepeño Geografico Tienda 2\\ntienda = '/content/challenge1-data-science-latam/base-de-datos-challenge1-latam/tienda_2.csv'\\ndesempeño_geografico(tienda)\\n\\n# Calculo Desepeño Geografico Tienda 3\\ntienda = '/content/challenge1-data-science-latam/base-de-datos-challenge1-latam/tienda_3.csv'\\ndesempeño_geografico(tienda)\\n\\n# Calculo Desepeño Geografico Tienda 4\\ntienda = '/content/challenge1-data-science-latam/base-de-datos-challenge1-latam/tienda_4.csv'\\ndesempeño_geografico(tienda)\""
            ],
            "application/vnd.google.colaboratory.intrinsic+json": {
              "type": "string"
            }
          },
          "metadata": {},
          "execution_count": 38
        }
      ]
    }
  ]
}